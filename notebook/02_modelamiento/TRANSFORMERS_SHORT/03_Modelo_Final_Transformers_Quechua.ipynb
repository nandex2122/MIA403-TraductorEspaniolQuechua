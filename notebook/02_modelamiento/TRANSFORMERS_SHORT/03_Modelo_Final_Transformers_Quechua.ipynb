{
 "cells": [
  {
   "cell_type": "markdown",
   "id": "b6758767-43c0-4c17-97ed-fccef6f14c79",
   "metadata": {},
   "source": [
    "# Examen Final: Redes Neuronales y Aprendizaje Profundo"
   ]
  },
  {
   "cell_type": "markdown",
   "id": "5cedae30-9df9-4db0-823f-e2909adbcfa8",
   "metadata": {},
   "source": [
    "## Generar una versión personalizada de traductor, Modelo para generación de su voz traducida en tiempo real al Inglés."
   ]
  },
  {
   "cell_type": "markdown",
   "id": "6ad27fd1-70b2-4a3f-a136-bee4a33f96c4",
   "metadata": {},
   "source": [
    "### Data Data: https://tatoeba.org/es/downloads"
   ]
  },
  {
   "cell_type": "markdown",
   "id": "bd8b6dbb-dcb2-4437-88cb-05a6d4327eeb",
   "metadata": {},
   "source": [
    "### 1) Instalando librerias requeridas "
   ]
  },
  {
   "cell_type": "code",
   "execution_count": 1,
   "id": "cf66b78f-fd4b-4a1e-a493-10e399b3408a",
   "metadata": {},
   "outputs": [
    {
     "name": "stdout",
     "output_type": "stream",
     "text": [
      "Requirement already satisfied: torch in /opt/conda/lib/python3.12/site-packages (2.6.0+cu124)\n",
      "Requirement already satisfied: torchvision in /opt/conda/lib/python3.12/site-packages (0.21.0+cu124)\n",
      "Requirement already satisfied: torchaudio in /opt/conda/lib/python3.12/site-packages (2.6.0+cu124)\n",
      "Requirement already satisfied: transformers in /opt/conda/lib/python3.12/site-packages (4.53.0)\n",
      "Collecting librosa\n",
      "  Using cached librosa-0.11.0-py3-none-any.whl.metadata (8.7 kB)\n",
      "Collecting sounddevice\n",
      "  Using cached sounddevice-0.5.2-py3-none-any.whl.metadata (1.6 kB)\n",
      "Requirement already satisfied: filelock in /opt/conda/lib/python3.12/site-packages (from torch) (3.13.1)\n",
      "Requirement already satisfied: typing-extensions>=4.10.0 in /opt/conda/lib/python3.12/site-packages (from torch) (4.12.2)\n",
      "Requirement already satisfied: networkx in /opt/conda/lib/python3.12/site-packages (from torch) (3.4.2)\n",
      "Requirement already satisfied: jinja2 in /opt/conda/lib/python3.12/site-packages (from torch) (3.1.5)\n",
      "Requirement already satisfied: fsspec in /opt/conda/lib/python3.12/site-packages (from torch) (2025.2.0)\n",
      "Requirement already satisfied: nvidia-cuda-nvrtc-cu12==12.4.127 in /opt/conda/lib/python3.12/site-packages (from torch) (12.4.127)\n",
      "Requirement already satisfied: nvidia-cuda-runtime-cu12==12.4.127 in /opt/conda/lib/python3.12/site-packages (from torch) (12.4.127)\n",
      "Requirement already satisfied: nvidia-cuda-cupti-cu12==12.4.127 in /opt/conda/lib/python3.12/site-packages (from torch) (12.4.127)\n",
      "Requirement already satisfied: nvidia-cudnn-cu12==9.1.0.70 in /opt/conda/lib/python3.12/site-packages (from torch) (9.1.0.70)\n",
      "Requirement already satisfied: nvidia-cublas-cu12==12.4.5.8 in /opt/conda/lib/python3.12/site-packages (from torch) (12.4.5.8)\n",
      "Requirement already satisfied: nvidia-cufft-cu12==11.2.1.3 in /opt/conda/lib/python3.12/site-packages (from torch) (11.2.1.3)\n",
      "Requirement already satisfied: nvidia-curand-cu12==10.3.5.147 in /opt/conda/lib/python3.12/site-packages (from torch) (10.3.5.147)\n",
      "Requirement already satisfied: nvidia-cusolver-cu12==11.6.1.9 in /opt/conda/lib/python3.12/site-packages (from torch) (11.6.1.9)\n",
      "Requirement already satisfied: nvidia-cusparse-cu12==12.3.1.170 in /opt/conda/lib/python3.12/site-packages (from torch) (12.3.1.170)\n",
      "Requirement already satisfied: nvidia-cusparselt-cu12==0.6.2 in /opt/conda/lib/python3.12/site-packages (from torch) (0.6.2)\n",
      "Requirement already satisfied: nvidia-nccl-cu12==2.21.5 in /opt/conda/lib/python3.12/site-packages (from torch) (2.21.5)\n",
      "Requirement already satisfied: nvidia-nvtx-cu12==12.4.127 in /opt/conda/lib/python3.12/site-packages (from torch) (12.4.127)\n",
      "Requirement already satisfied: nvidia-nvjitlink-cu12==12.4.127 in /opt/conda/lib/python3.12/site-packages (from torch) (12.4.127)\n",
      "Requirement already satisfied: triton==3.2.0 in /opt/conda/lib/python3.12/site-packages (from torch) (3.2.0)\n",
      "Requirement already satisfied: setuptools in /opt/conda/lib/python3.12/site-packages (from torch) (75.8.0)\n",
      "Requirement already satisfied: sympy==1.13.1 in /opt/conda/lib/python3.12/site-packages (from torch) (1.13.1)\n",
      "Requirement already satisfied: mpmath<1.4,>=1.1.0 in /opt/conda/lib/python3.12/site-packages (from sympy==1.13.1->torch) (1.3.0)\n",
      "Requirement already satisfied: numpy in /opt/conda/lib/python3.12/site-packages (from torchvision) (2.1.3)\n",
      "Requirement already satisfied: pillow!=8.3.*,>=5.3.0 in /opt/conda/lib/python3.12/site-packages (from torchvision) (11.1.0)\n",
      "Requirement already satisfied: huggingface-hub<1.0,>=0.30.0 in /opt/conda/lib/python3.12/site-packages (from transformers) (0.33.1)\n",
      "Requirement already satisfied: packaging>=20.0 in /opt/conda/lib/python3.12/site-packages (from transformers) (24.2)\n",
      "Requirement already satisfied: pyyaml>=5.1 in /opt/conda/lib/python3.12/site-packages (from transformers) (6.0.2)\n",
      "Requirement already satisfied: regex!=2019.12.17 in /opt/conda/lib/python3.12/site-packages (from transformers) (2024.11.6)\n",
      "Requirement already satisfied: requests in /opt/conda/lib/python3.12/site-packages (from transformers) (2.32.3)\n",
      "Requirement already satisfied: tokenizers<0.22,>=0.21 in /opt/conda/lib/python3.12/site-packages (from transformers) (0.21.2)\n",
      "Requirement already satisfied: safetensors>=0.4.3 in /opt/conda/lib/python3.12/site-packages (from transformers) (0.5.3)\n",
      "Requirement already satisfied: tqdm>=4.27 in /opt/conda/lib/python3.12/site-packages (from transformers) (4.67.1)\n",
      "Collecting audioread>=2.1.9 (from librosa)\n",
      "  Using cached audioread-3.0.1-py3-none-any.whl.metadata (8.4 kB)\n",
      "Requirement already satisfied: numba>=0.51.0 in /opt/conda/lib/python3.12/site-packages (from librosa) (0.61.0)\n",
      "Requirement already satisfied: scipy>=1.6.0 in /opt/conda/lib/python3.12/site-packages (from librosa) (1.15.1)\n",
      "Requirement already satisfied: scikit-learn>=1.1.0 in /opt/conda/lib/python3.12/site-packages (from librosa) (1.6.1)\n",
      "Requirement already satisfied: joblib>=1.0 in /opt/conda/lib/python3.12/site-packages (from librosa) (1.4.2)\n",
      "Requirement already satisfied: decorator>=4.3.0 in /opt/conda/lib/python3.12/site-packages (from librosa) (5.1.1)\n",
      "Collecting soundfile>=0.12.1 (from librosa)\n",
      "  Using cached soundfile-0.13.1-py2.py3-none-manylinux_2_28_x86_64.whl.metadata (16 kB)\n",
      "Collecting pooch>=1.1 (from librosa)\n",
      "  Using cached pooch-1.8.2-py3-none-any.whl.metadata (10 kB)\n",
      "Collecting soxr>=0.3.2 (from librosa)\n",
      "  Using cached soxr-0.5.0.post1-cp312-abi3-manylinux_2_17_x86_64.manylinux2014_x86_64.whl.metadata (5.6 kB)\n",
      "Requirement already satisfied: lazy_loader>=0.1 in /opt/conda/lib/python3.12/site-packages (from librosa) (0.4)\n",
      "Requirement already satisfied: msgpack>=1.0 in /opt/conda/lib/python3.12/site-packages (from librosa) (1.1.0)\n",
      "Requirement already satisfied: CFFI>=1.0 in /opt/conda/lib/python3.12/site-packages (from sounddevice) (1.17.1)\n",
      "Requirement already satisfied: pycparser in /opt/conda/lib/python3.12/site-packages (from CFFI>=1.0->sounddevice) (2.22)\n",
      "Requirement already satisfied: hf-xet<2.0.0,>=1.1.2 in /opt/conda/lib/python3.12/site-packages (from huggingface-hub<1.0,>=0.30.0->transformers) (1.1.5)\n",
      "Requirement already satisfied: llvmlite<0.45,>=0.44.0dev0 in /opt/conda/lib/python3.12/site-packages (from numba>=0.51.0->librosa) (0.44.0)\n",
      "Requirement already satisfied: platformdirs>=2.5.0 in /opt/conda/lib/python3.12/site-packages (from pooch>=1.1->librosa) (4.3.6)\n",
      "Requirement already satisfied: charset_normalizer<4,>=2 in /opt/conda/lib/python3.12/site-packages (from requests->transformers) (3.4.1)\n",
      "Requirement already satisfied: idna<4,>=2.5 in /opt/conda/lib/python3.12/site-packages (from requests->transformers) (3.10)\n",
      "Requirement already satisfied: urllib3<3,>=1.21.1 in /opt/conda/lib/python3.12/site-packages (from requests->transformers) (2.3.0)\n",
      "Requirement already satisfied: certifi>=2017.4.17 in /opt/conda/lib/python3.12/site-packages (from requests->transformers) (2024.12.14)\n",
      "Requirement already satisfied: threadpoolctl>=3.1.0 in /opt/conda/lib/python3.12/site-packages (from scikit-learn>=1.1.0->librosa) (3.5.0)\n",
      "Requirement already satisfied: MarkupSafe>=2.0 in /opt/conda/lib/python3.12/site-packages (from jinja2->torch) (3.0.2)\n",
      "Using cached librosa-0.11.0-py3-none-any.whl (260 kB)\n",
      "Using cached sounddevice-0.5.2-py3-none-any.whl (32 kB)\n",
      "Using cached audioread-3.0.1-py3-none-any.whl (23 kB)\n",
      "Using cached pooch-1.8.2-py3-none-any.whl (64 kB)\n",
      "Using cached soundfile-0.13.1-py2.py3-none-manylinux_2_28_x86_64.whl (1.3 MB)\n",
      "Using cached soxr-0.5.0.post1-cp312-abi3-manylinux_2_17_x86_64.manylinux2014_x86_64.whl (248 kB)\n",
      "Installing collected packages: soxr, audioread, soundfile, sounddevice, pooch, librosa\n",
      "Successfully installed audioread-3.0.1 librosa-0.11.0 pooch-1.8.2 sounddevice-0.5.2 soundfile-0.13.1 soxr-0.5.0.post1\n",
      "Note: you may need to restart the kernel to use updated packages.\n"
     ]
    }
   ],
   "source": [
    "pip install torch torchvision torchaudio transformers librosa sounddevice"
   ]
  },
  {
   "cell_type": "code",
   "execution_count": 2,
   "id": "3428eca9-5257-4ac2-b082-94c1d9a3fab1",
   "metadata": {},
   "outputs": [
    {
     "name": "stdout",
     "output_type": "stream",
     "text": [
      "Collecting sentencepiece\n",
      "  Using cached sentencepiece-0.2.0-cp312-cp312-manylinux_2_17_x86_64.manylinux2014_x86_64.whl.metadata (7.7 kB)\n",
      "Using cached sentencepiece-0.2.0-cp312-cp312-manylinux_2_17_x86_64.manylinux2014_x86_64.whl (1.3 MB)\n",
      "Installing collected packages: sentencepiece\n",
      "Successfully installed sentencepiece-0.2.0\n",
      "Note: you may need to restart the kernel to use updated packages.\n"
     ]
    }
   ],
   "source": [
    "pip install sentencepiece"
   ]
  },
  {
   "cell_type": "code",
   "execution_count": 3,
   "id": "6919539e-e311-4f3b-a78e-b4234461fc49",
   "metadata": {},
   "outputs": [
    {
     "name": "stdout",
     "output_type": "stream",
     "text": [
      "Collecting SpeechRecognition\n",
      "  Using cached speechrecognition-3.14.3-py3-none-any.whl.metadata (30 kB)\n",
      "Requirement already satisfied: typing-extensions in /opt/conda/lib/python3.12/site-packages (from SpeechRecognition) (4.12.2)\n",
      "Using cached speechrecognition-3.14.3-py3-none-any.whl (32.9 MB)\n",
      "Installing collected packages: SpeechRecognition\n",
      "Successfully installed SpeechRecognition-3.14.3\n",
      "Note: you may need to restart the kernel to use updated packages.\n"
     ]
    }
   ],
   "source": [
    "pip install SpeechRecognition"
   ]
  },
  {
   "cell_type": "code",
   "execution_count": 4,
   "id": "323f618f-47af-4877-9d9b-d09c3f3d5afa",
   "metadata": {},
   "outputs": [
    {
     "name": "stdout",
     "output_type": "stream",
     "text": [
      "Collecting sacremoses\n",
      "  Downloading sacremoses-0.1.1-py3-none-any.whl.metadata (8.3 kB)\n",
      "Requirement already satisfied: regex in /opt/conda/lib/python3.12/site-packages (from sacremoses) (2024.11.6)\n",
      "Requirement already satisfied: click in /opt/conda/lib/python3.12/site-packages (from sacremoses) (8.1.8)\n",
      "Requirement already satisfied: joblib in /opt/conda/lib/python3.12/site-packages (from sacremoses) (1.4.2)\n",
      "Requirement already satisfied: tqdm in /opt/conda/lib/python3.12/site-packages (from sacremoses) (4.67.1)\n",
      "Downloading sacremoses-0.1.1-py3-none-any.whl (897 kB)\n",
      "\u001b[2K   \u001b[90m━━━━━━━━━━━━━━━━━━━━━━━━━━━━━━━━━━━━━━━━\u001b[0m \u001b[32m897.5/897.5 kB\u001b[0m \u001b[31m1.8 MB/s\u001b[0m eta \u001b[36m0:00:00\u001b[0mta \u001b[36m0:00:01\u001b[0m\n",
      "Installing collected packages: sacremoses\n",
      "Successfully installed sacremoses-0.1.1\n",
      "Note: you may need to restart the kernel to use updated packages.\n"
     ]
    }
   ],
   "source": [
    "pip install sacremoses"
   ]
  },
  {
   "cell_type": "code",
   "execution_count": 5,
   "id": "a30a1014-6a1d-40d4-9b5b-3ad4de25e136",
   "metadata": {},
   "outputs": [
    {
     "name": "stdout",
     "output_type": "stream",
     "text": [
      "Collecting gtts\n",
      "  Downloading gTTS-2.5.4-py3-none-any.whl.metadata (4.1 kB)\n",
      "Requirement already satisfied: requests<3,>=2.27 in /opt/conda/lib/python3.12/site-packages (from gtts) (2.32.3)\n",
      "Requirement already satisfied: click<8.2,>=7.1 in /opt/conda/lib/python3.12/site-packages (from gtts) (8.1.8)\n",
      "Requirement already satisfied: charset_normalizer<4,>=2 in /opt/conda/lib/python3.12/site-packages (from requests<3,>=2.27->gtts) (3.4.1)\n",
      "Requirement already satisfied: idna<4,>=2.5 in /opt/conda/lib/python3.12/site-packages (from requests<3,>=2.27->gtts) (3.10)\n",
      "Requirement already satisfied: urllib3<3,>=1.21.1 in /opt/conda/lib/python3.12/site-packages (from requests<3,>=2.27->gtts) (2.3.0)\n",
      "Requirement already satisfied: certifi>=2017.4.17 in /opt/conda/lib/python3.12/site-packages (from requests<3,>=2.27->gtts) (2024.12.14)\n",
      "Downloading gTTS-2.5.4-py3-none-any.whl (29 kB)\n",
      "Installing collected packages: gtts\n",
      "Successfully installed gtts-2.5.4\n",
      "Note: you may need to restart the kernel to use updated packages.\n"
     ]
    }
   ],
   "source": [
    "pip install gtts"
   ]
  },
  {
   "cell_type": "markdown",
   "id": "7d468e9a",
   "metadata": {},
   "source": [
    "### 2) Implementando el modelo con Transformer"
   ]
  },
  {
   "cell_type": "code",
   "execution_count": 6,
   "id": "d5dcf681",
   "metadata": {},
   "outputs": [
    {
     "data": {
      "text/plain": [
       "<torch._C.Generator at 0x7d5fc9718230>"
      ]
     },
     "execution_count": 6,
     "metadata": {},
     "output_type": "execute_result"
    }
   ],
   "source": [
    "import torch\n",
    "import torch.nn as nn\n",
    "import torch.nn.functional as F\n",
    "import torch.optim as optim\n",
    "from torch.utils.data import Dataset, DataLoader\n",
    "from collections import Counter\n",
    "import math\n",
    "import numpy as np\n",
    "import re\n",
    "\n",
    "torch.manual_seed(23)"
   ]
  },
  {
   "cell_type": "code",
   "execution_count": 7,
   "id": "2c2cbd17",
   "metadata": {},
   "outputs": [
    {
     "name": "stdout",
     "output_type": "stream",
     "text": [
      "cuda\n"
     ]
    }
   ],
   "source": [
    "device = torch.device('cuda' if torch.cuda.is_available() else 'cpu')\n",
    "print(device)"
   ]
  },
  {
   "cell_type": "code",
   "execution_count": 36,
   "id": "9c6623a1",
   "metadata": {},
   "outputs": [],
   "source": [
    "##MAX_SEQ_LEN = 128\n",
    "MAX_SEQ_LEN = 64"
   ]
  },
  {
   "cell_type": "code",
   "execution_count": 37,
   "id": "3103d45f",
   "metadata": {
    "code_folding": [
     30,
     94
    ]
   },
   "outputs": [],
   "source": [
    "class PositionalEmbedding(nn.Module):\n",
    "    def __init__(self, d_model, max_seq_len = MAX_SEQ_LEN):\n",
    "        super().__init__()\n",
    "        self.pos_embed_matrix = torch.zeros(max_seq_len, d_model, device=device)\n",
    "        token_pos = torch.arange(0, max_seq_len, dtype = torch.float).unsqueeze(1)\n",
    "        div_term = torch.exp(torch.arange(0, d_model, 2).float() \n",
    "                             * (-math.log(10000.0)/d_model))\n",
    "        self.pos_embed_matrix[:, 0::2] = torch.sin(token_pos * div_term)\n",
    "        self.pos_embed_matrix[:, 1::2] = torch.cos(token_pos * div_term)\n",
    "        self.pos_embed_matrix = self.pos_embed_matrix.unsqueeze(0).transpose(0,1)\n",
    "        \n",
    "    def forward(self, x):\n",
    "#         print(self.pos_embed_matrix.shape)\n",
    "#         print(x.shape)\n",
    "        return x + self.pos_embed_matrix[:x.size(0), :]\n",
    "\n",
    "class MultiHeadAttention(nn.Module):\n",
    "    def __init__(self, d_model = 512, num_heads = 8):\n",
    "        super().__init__()\n",
    "        assert d_model % num_heads == 0, 'Embedding size not compatible with num heads'\n",
    "        \n",
    "        self.d_v = d_model // num_heads\n",
    "        self.d_k = self.d_v\n",
    "        self.num_heads = num_heads\n",
    "        \n",
    "        self.W_q = nn.Linear(d_model, d_model) ## query\n",
    "        self.W_k = nn.Linear(d_model, d_model) ## Key\n",
    "        self.W_v = nn.Linear(d_model, d_model) ## value\n",
    "        self.W_o = nn.Linear(d_model, d_model)\n",
    "        \n",
    "    def forward(self, Q, K, V, mask = None):\n",
    "        batch_size = Q.size(0)\n",
    "        '''\n",
    "        Q, K, V -> [batch_size, seq_len, num_heads*d_k]\n",
    "        after transpose Q, K, V -> [batch_size, num_heads, seq_len, d_k]\n",
    "        '''\n",
    "        Q = self.W_q(Q).view(batch_size, -1, self.num_heads, self.d_k).transpose(1, 2 )\n",
    "        K = self.W_k(K).view(batch_size, -1, self.num_heads, self.d_k).transpose(1, 2 )\n",
    "        V = self.W_v(V).view(batch_size, -1, self.num_heads, self.d_k).transpose(1, 2 )\n",
    "        \n",
    "        weighted_values, attention = self.scale_dot_product(Q, K, V, mask)\n",
    "        weighted_values = weighted_values.transpose(1, 2).contiguous().view(batch_size, -1, self.num_heads*self.d_k)\n",
    "        weighted_values = self.W_o(weighted_values)\n",
    "        \n",
    "        return weighted_values, attention\n",
    "        \n",
    "        \n",
    "    def scale_dot_product(self, Q, K, V, mask = None):\n",
    "        scores = torch.matmul(Q, K.transpose(-2, -1)) / math.sqrt(self.d_k)\n",
    "        if mask is not None:\n",
    "            scores = scores.masked_fill(mask == 0, -1e9)\n",
    "        attention = F.softmax(scores, dim = -1)\n",
    "        weighted_values = torch.matmul(attention, V)\n",
    "        \n",
    "        return weighted_values, attention\n",
    "        \n",
    "\n",
    "class PositionFeedForward(nn.Module):\n",
    "    def __init__(self, d_model, d_ff):\n",
    "        super().__init__()\n",
    "        self.linear1 = nn.Linear(d_model, d_ff)\n",
    "        self.linear2 = nn.Linear(d_ff, d_model)\n",
    "        \n",
    "    def forward(self, x):\n",
    "        return self.linear2(F.relu(self.linear1(x)))\n",
    "    \n",
    "class EncoderSubLayer(nn.Module):\n",
    "    def __init__(self, d_model, num_heads, d_ff, dropout = 0.1):\n",
    "        super().__init__()\n",
    "        self.self_attn = MultiHeadAttention(d_model, num_heads)\n",
    "        self.ffn = PositionFeedForward(d_model, d_ff)\n",
    "        self.norm1 = nn.LayerNorm(d_model)\n",
    "        self.norm2 = nn.LayerNorm(d_model)\n",
    "        self.droupout1 = nn.Dropout(dropout)\n",
    "        self.droupout2 = nn.Dropout(dropout)\n",
    "    \n",
    "    def forward(self, x, mask = None):\n",
    "        attention_score, _ = self.self_attn(x, x, x, mask)\n",
    "        x = x + self.droupout1(attention_score)\n",
    "        x = self.norm1(x)\n",
    "        x = x + self.droupout2(self.ffn(x))\n",
    "        return self.norm2(x)\n",
    "\n",
    "class Encoder(nn.Module):\n",
    "    def __init__(self, d_model, num_heads, d_ff, num_layers, dropout=0.1):\n",
    "        super().__init__()\n",
    "        self.layers = nn.ModuleList([EncoderSubLayer(d_model, num_heads, d_ff, dropout) for _ in range(num_layers)])\n",
    "        self.norm = nn.LayerNorm(d_model)\n",
    "    def forward(self, x, mask=None):\n",
    "        for layer in self.layers:\n",
    "            x = layer(x, mask)\n",
    "        return self.norm(x)\n",
    "\n",
    "class DecoderSubLayer(nn.Module):\n",
    "    def __init__(self, d_model, num_heads, d_ff, dropout=0.1):\n",
    "        super().__init__()\n",
    "        self.self_attn = MultiHeadAttention(d_model, num_heads)\n",
    "        self.cross_attn = MultiHeadAttention(d_model, num_heads)\n",
    "        self.feed_forward = PositionFeedForward(d_model, d_ff)\n",
    "        self.norm1 = nn.LayerNorm(d_model)\n",
    "        self.norm2 = nn.LayerNorm(d_model)\n",
    "        self.norm3 = nn.LayerNorm(d_model)\n",
    "        self.dropout1 = nn.Dropout(dropout)\n",
    "        self.dropout2 = nn.Dropout(dropout)\n",
    "        self.dropout3 = nn.Dropout(dropout)\n",
    "        \n",
    "    def forward(self, x, encoder_output, target_mask=None, encoder_mask=None):\n",
    "        attention_score, _ = self.self_attn(x, x, x, target_mask)\n",
    "        x = x + self.dropout1(attention_score)\n",
    "        x = self.norm1(x)\n",
    "        \n",
    "        encoder_attn, _ = self.cross_attn(x, encoder_output, encoder_output, encoder_mask)\n",
    "        x = x + self.dropout2(encoder_attn)\n",
    "        x = self.norm2(x)\n",
    "        \n",
    "        ff_output = self.feed_forward(x)\n",
    "        x = x + self.dropout3(ff_output)\n",
    "        return self.norm3(x)\n",
    "        \n",
    "class Decoder(nn.Module):\n",
    "    def __init__(self, d_model, num_heads, d_ff, num_layers, dropout=0.1):\n",
    "        super().__init__()\n",
    "        self.layers = nn.ModuleList([DecoderSubLayer(d_model, num_heads, d_ff, dropout) for _ in range(num_layers)])\n",
    "        self.norm = nn.LayerNorm(d_model)\n",
    "        \n",
    "    def forward(self, x, encoder_output, target_mask, encoder_mask):\n",
    "        for layer in self.layers:\n",
    "            x = layer(x, encoder_output, target_mask, encoder_mask)\n",
    "        return self.norm(x)"
   ]
  },
  {
   "cell_type": "code",
   "execution_count": 38,
   "id": "61070162",
   "metadata": {
    "code_folding": []
   },
   "outputs": [],
   "source": [
    "class Transformer(nn.Module):\n",
    "    def __init__(self, d_model, num_heads, d_ff, num_layers,\n",
    "                 input_vocab_size, target_vocab_size, \n",
    "                 max_len=MAX_SEQ_LEN, dropout=0.1):\n",
    "        super().__init__()\n",
    "        self.encoder_embedding = nn.Embedding(input_vocab_size, d_model)\n",
    "        self.decoder_embedding = nn.Embedding(target_vocab_size, d_model)\n",
    "        self.pos_embedding = PositionalEmbedding(d_model, max_len)\n",
    "        self.encoder = Encoder(d_model, num_heads, d_ff, num_layers, dropout)\n",
    "        self.decoder = Decoder(d_model, num_heads, d_ff, num_layers, dropout)\n",
    "        self.output_layer = nn.Linear(d_model, target_vocab_size)\n",
    "        \n",
    "    def forward(self, source, target):\n",
    "        # Encoder mask\n",
    "        source_mask, target_mask = self.mask(source, target)\n",
    "        # Embedding and positional Encoding\n",
    "        source = self.encoder_embedding(source) * math.sqrt(self.encoder_embedding.embedding_dim)\n",
    "        source = self.pos_embedding(source)\n",
    "        # Encoder\n",
    "        encoder_output = self.encoder(source, source_mask)\n",
    "        \n",
    "        # Decoder embedding and postional encoding\n",
    "        target = self.decoder_embedding(target) * math.sqrt(self.decoder_embedding.embedding_dim)\n",
    "        target = self.pos_embedding(target)\n",
    "        # Decoder\n",
    "        output = self.decoder(target, encoder_output, target_mask, source_mask)\n",
    "        \n",
    "        return self.output_layer(output)\n",
    "        \n",
    "        \n",
    "    \n",
    "    def mask(self, source, target):\n",
    "        source_mask = (source != 0).unsqueeze(1).unsqueeze(2)\n",
    "        target_mask = (target != 0).unsqueeze(1).unsqueeze(2)\n",
    "        size = target.size(1)\n",
    "        no_mask = torch.tril(torch.ones((1, size, size), device=device)).bool()\n",
    "        target_mask = target_mask & no_mask\n",
    "        return source_mask, target_mask\n",
    "        "
   ]
  },
  {
   "cell_type": "markdown",
   "id": "0f4b2910",
   "metadata": {},
   "source": [
    "### 3) Definiendo la data"
   ]
  },
  {
   "cell_type": "code",
   "execution_count": 39,
   "id": "869a7244",
   "metadata": {},
   "outputs": [],
   "source": [
    "## Archivo donde se guarda el diccionario descargado\n",
    "PATH = \"./01_corpus_total_formateado.txt\""
   ]
  },
  {
   "cell_type": "code",
   "execution_count": 40,
   "id": "d0af1eba",
   "metadata": {},
   "outputs": [],
   "source": [
    "## Identificando el archivo, separado por espacio en blanco\n",
    "with open(PATH, 'r', encoding='utf-8') as f:\n",
    "    lines = f.readlines()\n",
    "    \n",
    "eng_spa_pairs = [line.strip().split('\\t') for line in lines if line.count('\\t') == 3]\n",
    "##eng_spa_pairs = [line.strip().split('\\t') for line in lines if '\\t' in line]\n",
    "##eng_spa_pairs = [line.strip().split('\\t') for line in lines if line.count('\\t') == 1]"
   ]
  },
  {
   "cell_type": "code",
   "execution_count": 41,
   "id": "c930226f",
   "metadata": {},
   "outputs": [],
   "source": [
    "eng_spa_pairs=eng_spa_pairs[1:]"
   ]
  },
  {
   "cell_type": "code",
   "execution_count": 42,
   "id": "53f3c7e9-51e8-49fb-bf7a-088913a462dc",
   "metadata": {},
   "outputs": [
    {
     "data": {
      "text/plain": [
       "[['000002',\n",
       "  'b) ¿Cómo lograban mantenerse estos siervos de tiempo completo?',\n",
       "  '000002',\n",
       "  '(2) ¿Imaynatam tukuy tiemponkuwan Diosta serviq punta cristianokunaqa mantienekuqku?'],\n",
       " ['000003',\n",
       "  'Cabe señalar que solo la Biblia explica de manera satisfactoria cuál es el origen de los muchos idiomas que conocemos hoy.',\n",
       "  '000003',\n",
       "  'Bibliallam allintapuni willawanchik imanasqam runakunaqa kunan tiempopi achka rimayniyoq kasqankuta.'],\n",
       " ['000004',\n",
       "  'Pero al mismo tiempo nos advierte que “el amor al dinero es raíz de toda clase de males ”.',\n",
       "  '000004',\n",
       "  'Ichaqa nintaqmi: “Qollqella kuyayqa tukuy mana allin ruraykunapa mamanmi ”, nispa.'],\n",
       " ['000005',\n",
       "  'Hoy, todo el que desea vivir de acuerdo con sus mandamientos considera que conmemorar el aniversario de la muerte de Cristo es de suma importancia.',\n",
       "  '000005',\n",
       "  'Kay tiempopipas Cristopa kamachisqanman hina kawsaqkunaqa ancha valorniyoqtam qawanku paypa wañukusqan punchaw yuyariytaqa.'],\n",
       " ['000006',\n",
       "  'RESPUESTA: El Reino de Dios es un gobierno celestial, y su Rey es Jesús.',\n",
       "  '000006',\n",
       "  'KUTICHIYNIN: Hanaq pachapi kaq huk gobiernom, kamachiqninñataqmi Jesus.'],\n",
       " ['000007', '¿CUÁL ES LA SOLUCIÓN?', '000007', '¿IMATAM RURACHWAN?'],\n",
       " ['000008',\n",
       "  'Adán y Eva desobedecieron a Dios, de modo que fueron expulsados del Edén.',\n",
       "  '000008',\n",
       "  'Adanwan Evaqa Jehová Diostam mana kasukurqakuchu, hinaspam Edenmanta qarqochikurqaku.'],\n",
       " ['000009',\n",
       "  'Sin embargo, poco después de escribir esa carta, los de la casa de Cloe le informaron de que en la congregación de Corinto había graves divisiones.',\n",
       "  '000009',\n",
       "  'Ichaqa chay carta qellqasqan qepamanmi Cloepa familian Pabloman willaykurqaku Corinto congregacionpi llumpay liryanakuy kasqanmanta.'],\n",
       " ['000010',\n",
       "  'Jesús cumplió de forma sorprendente esta profecía durante su ministerio.',\n",
       "  '000010',\n",
       "  'Jesusqa Isaiaspa nisqantam kay Pachapi Diospa munayninta ruraspan allinta cumplirqa.'],\n",
       " ['000011',\n",
       "  'Cierto diccionario bíblico lo define como “fortaleza espiritual, emocional y moral para hablar y actuar sin temor ante dificultades y peligros ” (The New Interpreter’s Dictionary of the Bible).',\n",
       "  '000011',\n",
       "  'Qarinchakuyqa llumpay sasachakuypi tarikuspa mana manchakuspa ruwaymi hinaspa mana manchakuspa rimaymi.']]"
      ]
     },
     "execution_count": 42,
     "metadata": {},
     "output_type": "execute_result"
    }
   ],
   "source": [
    "eng_spa_pairs[:10]"
   ]
  },
  {
   "cell_type": "code",
   "execution_count": 43,
   "id": "095f4037",
   "metadata": {},
   "outputs": [],
   "source": [
    "eng_sentences = [pair[1] for pair in eng_spa_pairs]  ## índices de la ubicación del archivo descargado\n",
    "spa_sentences = [pair[3] for pair in eng_spa_pairs]  ## índices de la ubicación del archivo descargado"
   ]
  },
  {
   "cell_type": "code",
   "execution_count": 44,
   "id": "0d9e1c95",
   "metadata": {},
   "outputs": [
    {
     "name": "stdout",
     "output_type": "stream",
     "text": [
      "['b) ¿Cómo lograban mantenerse estos siervos de tiempo completo?', 'Cabe señalar que solo la Biblia explica de manera satisfactoria cuál es el origen de los muchos idiomas que conocemos hoy.', 'Pero al mismo tiempo nos advierte que “el amor al dinero es raíz de toda clase de males ”.', 'Hoy, todo el que desea vivir de acuerdo con sus mandamientos considera que conmemorar el aniversario de la muerte de Cristo es de suma importancia.', 'RESPUESTA: El Reino de Dios es un gobierno celestial, y su Rey es Jesús.', '¿CUÁL ES LA SOLUCIÓN?', 'Adán y Eva desobedecieron a Dios, de modo que fueron expulsados del Edén.', 'Sin embargo, poco después de escribir esa carta, los de la casa de Cloe le informaron de que en la congregación de Corinto había graves divisiones.', 'Jesús cumplió de forma sorprendente esta profecía durante su ministerio.', 'Cierto diccionario bíblico lo define como “fortaleza espiritual, emocional y moral para hablar y actuar sin temor ante dificultades y peligros ” (The New Interpreter’s Dictionary of the Bible).']\n",
      "['(2) ¿Imaynatam tukuy tiemponkuwan Diosta serviq punta cristianokunaqa mantienekuqku?', 'Bibliallam allintapuni willawanchik imanasqam runakunaqa kunan tiempopi achka rimayniyoq kasqankuta.', 'Ichaqa nintaqmi: “Qollqella kuyayqa tukuy mana allin ruraykunapa mamanmi ”, nispa.', 'Kay tiempopipas Cristopa kamachisqanman hina kawsaqkunaqa ancha valorniyoqtam qawanku paypa wañukusqan punchaw yuyariytaqa.', 'KUTICHIYNIN: Hanaq pachapi kaq huk gobiernom, kamachiqninñataqmi Jesus.', '¿IMATAM RURACHWAN?', 'Adanwan Evaqa Jehová Diostam mana kasukurqakuchu, hinaspam Edenmanta qarqochikurqaku.', 'Ichaqa chay carta qellqasqan qepamanmi Cloepa familian Pabloman willaykurqaku Corinto congregacionpi llumpay liryanakuy kasqanmanta.', 'Jesusqa Isaiaspa nisqantam kay Pachapi Diospa munayninta ruraspan allinta cumplirqa.', 'Qarinchakuyqa llumpay sasachakuypi tarikuspa mana manchakuspa ruwaymi hinaspa mana manchakuspa rimaymi.']\n"
     ]
    }
   ],
   "source": [
    "print(eng_sentences[:10])\n",
    "print(spa_sentences[:10])\n"
   ]
  },
  {
   "cell_type": "code",
   "execution_count": 45,
   "id": "60d11478",
   "metadata": {},
   "outputs": [],
   "source": [
    "## Limpiando las tildes\n",
    "def preprocess_sentence(sentence):\n",
    "    sentence = sentence.lower().strip()\n",
    "    sentence = re.sub(r'[\" \"]+', \" \", sentence)\n",
    "    sentence = re.sub(r\"[á]+\", \"a\", sentence)\n",
    "    sentence = re.sub(r\"[é]+\", \"e\", sentence)\n",
    "    sentence = re.sub(r\"[í]+\", \"i\", sentence)\n",
    "    sentence = re.sub(r\"[ó]+\", \"o\", sentence)\n",
    "    sentence = re.sub(r\"[ú]+\", \"u\", sentence)\n",
    "    sentence = re.sub(r\"[^a-z]+\", \" \", sentence)\n",
    "    sentence = sentence.strip()\n",
    "    sentence = '<sos> ' + sentence + ' <eos>'\n",
    "    return sentence"
   ]
  },
  {
   "cell_type": "code",
   "execution_count": 46,
   "id": "478f673b",
   "metadata": {},
   "outputs": [],
   "source": [
    "s1 = '¿Hola @ cómo estás? 123'"
   ]
  },
  {
   "cell_type": "code",
   "execution_count": 47,
   "id": "96ac79c5",
   "metadata": {},
   "outputs": [
    {
     "name": "stdout",
     "output_type": "stream",
     "text": [
      "¿Hola @ cómo estás? 123\n",
      "<sos> hola como estas <eos>\n"
     ]
    }
   ],
   "source": [
    "print(s1)\n",
    "print(preprocess_sentence(s1))"
   ]
  },
  {
   "cell_type": "code",
   "execution_count": 48,
   "id": "d9fc9c4d",
   "metadata": {},
   "outputs": [],
   "source": [
    "eng_sentences = [preprocess_sentence(sentence) for sentence in eng_sentences]\n",
    "spa_sentences = [preprocess_sentence(sentence) for sentence in spa_sentences]"
   ]
  },
  {
   "cell_type": "code",
   "execution_count": 49,
   "id": "f7a3b18d",
   "metadata": {},
   "outputs": [
    {
     "data": {
      "text/plain": [
       "['<sos> imaynatam tukuy tiemponkuwan diosta serviq punta cristianokunaqa mantienekuqku <eos>',\n",
       " '<sos> bibliallam allintapuni willawanchik imanasqam runakunaqa kunan tiempopi achka rimayniyoq kasqankuta <eos>',\n",
       " '<sos> ichaqa nintaqmi qollqella kuyayqa tukuy mana allin ruraykunapa mamanmi nispa <eos>',\n",
       " '<sos> kay tiempopipas cristopa kamachisqanman hina kawsaqkunaqa ancha valorniyoqtam qawanku paypa wa ukusqan punchaw yuyariytaqa <eos>',\n",
       " '<sos> kutichiynin hanaq pachapi kaq huk gobiernom kamachiqnin ataqmi jesus <eos>',\n",
       " '<sos> imatam rurachwan <eos>',\n",
       " '<sos> adanwan evaqa jehova diostam mana kasukurqakuchu hinaspam edenmanta qarqochikurqaku <eos>',\n",
       " '<sos> ichaqa chay carta qellqasqan qepamanmi cloepa familian pabloman willaykurqaku corinto congregacionpi llumpay liryanakuy kasqanmanta <eos>',\n",
       " '<sos> jesusqa isaiaspa nisqantam kay pachapi diospa munayninta ruraspan allinta cumplirqa <eos>',\n",
       " '<sos> qarinchakuyqa llumpay sasachakuypi tarikuspa mana manchakuspa ruwaymi hinaspa mana manchakuspa rimaymi <eos>']"
      ]
     },
     "execution_count": 49,
     "metadata": {},
     "output_type": "execute_result"
    }
   ],
   "source": [
    "spa_sentences[:10]"
   ]
  },
  {
   "cell_type": "markdown",
   "id": "4f9ec85e-bd55-455d-ae0a-2697cc6e51a6",
   "metadata": {},
   "source": [
    "### 4) Diccionario"
   ]
  },
  {
   "cell_type": "code",
   "execution_count": 50,
   "id": "97931cd3",
   "metadata": {},
   "outputs": [],
   "source": [
    "## Diccionario (índices a palabras y palabras a índices)\n",
    "def build_vocab(sentences):\n",
    "    words = [word for sentence in sentences for word in sentence.split()]\n",
    "    word_count = Counter(words)\n",
    "    sorted_word_counts = sorted(word_count.items(), key=lambda x:x[1], reverse=True)  ## Ordenamiento de las palabras desc x nro. palabras\n",
    "    word2idx = {word: idx for idx, (word, _) in enumerate(sorted_word_counts, 2)}\n",
    "    word2idx['<pad>'] = 1   ## índices español de la ubicación del archivo descargado\n",
    "    word2idx['<unk>'] = 3   ## índices ingles de la ubicación del archivo descargado\n",
    "    idx2word = {idx: word for word, idx in word2idx.items()}\n",
    "    return word2idx, idx2word"
   ]
  },
  {
   "cell_type": "code",
   "execution_count": 51,
   "id": "7fa8738e",
   "metadata": {},
   "outputs": [],
   "source": [
    "eng_word2idx, eng_idx2word = build_vocab(eng_sentences)\n",
    "spa_word2idx, spa_idx2word = build_vocab(spa_sentences)\n",
    "eng_vocab_size = len(eng_word2idx)  # Cantidad de enunciados\n",
    "spa_vocab_size = len(spa_word2idx)  # Cantidad de enunciados"
   ]
  },
  {
   "cell_type": "code",
   "execution_count": 52,
   "id": "79d6b633",
   "metadata": {},
   "outputs": [
    {
     "name": "stdout",
     "output_type": "stream",
     "text": [
      "40710 105976\n"
     ]
    }
   ],
   "source": [
    "print(eng_vocab_size, spa_vocab_size)  ## Nro.de tokens"
   ]
  },
  {
   "cell_type": "code",
   "execution_count": 53,
   "id": "e564017c",
   "metadata": {},
   "outputs": [],
   "source": [
    "## Clase Dataset traducción\n",
    "class EngSpaDataset(Dataset):\n",
    "    def __init__(self, eng_sentences, spa_sentences, eng_word2idx, spa_word2idx):\n",
    "        self.eng_sentences = eng_sentences  ## sentencia español\n",
    "        self.spa_sentences = spa_sentences  ## sentencia ingles \n",
    "        self.eng_word2idx = eng_word2idx\n",
    "        self.spa_word2idx = spa_word2idx\n",
    "        \n",
    "    def __len__(self):   ## tamaño del dataset\n",
    "        return len(self.eng_sentences)\n",
    "    \n",
    "    def __getitem__(self, idx):  ## indexar cada elemento del dataset\n",
    "        eng_sentence = self.eng_sentences[idx]\n",
    "        spa_sentence = self.spa_sentences[idx]\n",
    "        # return tokens idxs\n",
    "        eng_idxs = [self.eng_word2idx.get(word, self.eng_word2idx['<unk>']) for word in eng_sentence.split()]\n",
    "        spa_idxs = [self.spa_word2idx.get(word, self.spa_word2idx['<unk>']) for word in spa_sentence.split()]\n",
    "        \n",
    "        return torch.tensor(eng_idxs), torch.tensor(spa_idxs)"
   ]
  },
  {
   "cell_type": "code",
   "execution_count": 54,
   "id": "b579577b",
   "metadata": {},
   "outputs": [],
   "source": [
    "## Para el padding\n",
    "def collate_fn(batch):\n",
    "    eng_batch, spa_batch = zip(*batch)\n",
    "    eng_batch = [seq[:MAX_SEQ_LEN].clone().detach() for seq in eng_batch]\n",
    "    spa_batch = [seq[:MAX_SEQ_LEN].clone().detach() for seq in spa_batch]\n",
    "    #eng_batch = torch.nn.utils.rnn.pad_sequence(eng_batch, batch_first=True, padding_value=0) \n",
    "    eng_batch = torch.nn.utils.rnn.pad_sequence(eng_batch, batch_first=True, padding_value=1) ## el padding viene de build_vocab\n",
    "    spa_batch = torch.nn.utils.rnn.pad_sequence(spa_batch, batch_first=True, padding_value=1)\n",
    "    return eng_batch, spa_batch\n",
    "    "
   ]
  },
  {
   "cell_type": "markdown",
   "id": "1adc45cc-506e-4a81-aecb-681031747181",
   "metadata": {},
   "source": [
    "### 5) Entrenamiento del modelo"
   ]
  },
  {
   "cell_type": "code",
   "execution_count": 60,
   "id": "8d514b7c",
   "metadata": {},
   "outputs": [],
   "source": [
    "## Entrenamiento del modelo\n",
    "def train(model, dataloader, loss_function, optimiser, epochs):\n",
    "    model.train()\n",
    "    for epoch in range(epochs):\n",
    "        total_loss = 0 \n",
    "        for i, (eng_batch, spa_batch) in enumerate(dataloader):\n",
    "            eng_batch = eng_batch.to(device)\n",
    "            spa_batch = spa_batch.to(device)\n",
    "            # Decoder preprocessing\n",
    "            target_input = spa_batch[:, :-1]\n",
    "            target_output = spa_batch[:, 1:].contiguous().view(-1)\n",
    "            # Zero grads\n",
    "            optimiser.zero_grad()\n",
    "            # run model\n",
    "            output = model(eng_batch, target_input)\n",
    "            output = output.view(-1, output.size(-1))\n",
    "            # loss\\\n",
    "            loss = loss_function(output, target_output)\n",
    "            # gradient and update parameters\n",
    "            loss.backward()\n",
    "            optimiser.step()\n",
    "            total_loss += loss.item()\n",
    "            \n",
    "        avg_loss = total_loss/len(dataloader)\n",
    "        print(f'Epoch: {epoch}/{epochs}, Loss: {avg_loss:.4f}')\n",
    "            \n",
    "            "
   ]
  },
  {
   "cell_type": "code",
   "execution_count": 61,
   "id": "2379ea72",
   "metadata": {},
   "outputs": [],
   "source": [
    "##BATCH_SIZE = 64\n",
    "BATCH_SIZE = 32\n",
    "dataset = EngSpaDataset(eng_sentences, spa_sentences, eng_word2idx, spa_word2idx)\n",
    "dataloader = DataLoader(dataset, batch_size=BATCH_SIZE, shuffle=True, collate_fn=collate_fn)"
   ]
  },
  {
   "cell_type": "code",
   "execution_count": 63,
   "id": "e08eef6a",
   "metadata": {},
   "outputs": [],
   "source": [
    "\"\"\"model = Transformer(d_model=512, num_heads=8, d_ff=2048, num_layers=6,\n",
    "                    input_vocab_size=eng_vocab_size, target_vocab_size=spa_vocab_size,\n",
    "                    max_len=MAX_SEQ_LEN, dropout=0.1)\n",
    "\"\"\"\n",
    "model = Transformer(d_model=128, num_heads=4, d_ff=512, num_layers=4,\n",
    "                    input_vocab_size=eng_vocab_size, target_vocab_size=spa_vocab_size,\n",
    "                    max_len=MAX_SEQ_LEN, dropout=0.1)\n"
   ]
  },
  {
   "cell_type": "code",
   "execution_count": 64,
   "id": "a1181a12",
   "metadata": {},
   "outputs": [],
   "source": [
    "model = model.to(device)\n",
    "loss_function = nn.CrossEntropyLoss(ignore_index=0)\n",
    "optimiser = optim.Adam(model.parameters(), lr=0.0001)\n"
   ]
  },
  {
   "cell_type": "code",
   "execution_count": 65,
   "id": "14e265e9",
   "metadata": {},
   "outputs": [
    {
     "name": "stdout",
     "output_type": "stream",
     "text": [
      "Epoch: 0/50, Loss: 3.4788\n",
      "Epoch: 1/50, Loss: 2.9032\n",
      "Epoch: 2/50, Loss: 2.6983\n",
      "Epoch: 3/50, Loss: 2.5333\n",
      "Epoch: 4/50, Loss: 2.4083\n",
      "Epoch: 5/50, Loss: 2.2942\n",
      "Epoch: 6/50, Loss: 2.1919\n",
      "Epoch: 7/50, Loss: 2.0973\n",
      "Epoch: 8/50, Loss: 2.0079\n",
      "Epoch: 9/50, Loss: 1.9272\n",
      "Epoch: 10/50, Loss: 1.8569\n",
      "Epoch: 11/50, Loss: 1.7836\n",
      "Epoch: 12/50, Loss: 1.7168\n",
      "Epoch: 13/50, Loss: 1.6572\n",
      "Epoch: 14/50, Loss: 1.5990\n",
      "Epoch: 15/50, Loss: 1.5445\n",
      "Epoch: 16/50, Loss: 1.4936\n",
      "Epoch: 17/50, Loss: 1.4479\n",
      "Epoch: 18/50, Loss: 1.4040\n",
      "Epoch: 19/50, Loss: 1.3657\n",
      "Epoch: 20/50, Loss: 1.3285\n",
      "Epoch: 21/50, Loss: 1.2973\n",
      "Epoch: 22/50, Loss: 1.2651\n",
      "Epoch: 23/50, Loss: 1.2348\n",
      "Epoch: 24/50, Loss: 1.2123\n",
      "Epoch: 25/50, Loss: 1.1861\n",
      "Epoch: 26/50, Loss: 1.1650\n",
      "Epoch: 27/50, Loss: 1.1452\n",
      "Epoch: 28/50, Loss: 1.1255\n",
      "Epoch: 29/50, Loss: 1.1072\n",
      "Epoch: 30/50, Loss: 1.0894\n",
      "Epoch: 31/50, Loss: 1.0726\n",
      "Epoch: 32/50, Loss: 1.0549\n",
      "Epoch: 33/50, Loss: 1.0444\n",
      "Epoch: 34/50, Loss: 1.0298\n",
      "Epoch: 35/50, Loss: 1.0143\n",
      "Epoch: 36/50, Loss: 1.0045\n",
      "Epoch: 37/50, Loss: 0.9920\n",
      "Epoch: 38/50, Loss: 0.9788\n",
      "Epoch: 39/50, Loss: 0.9678\n",
      "Epoch: 40/50, Loss: 0.9604\n",
      "Epoch: 41/50, Loss: 0.9483\n",
      "Epoch: 42/50, Loss: 0.9381\n",
      "Epoch: 43/50, Loss: 0.9308\n",
      "Epoch: 44/50, Loss: 0.9190\n",
      "Epoch: 45/50, Loss: 0.9150\n",
      "Epoch: 46/50, Loss: 0.9034\n",
      "Epoch: 47/50, Loss: 0.8983\n",
      "Epoch: 48/50, Loss: 0.8904\n",
      "Epoch: 49/50, Loss: 0.8804\n"
     ]
    }
   ],
   "source": [
    "train(model, dataloader, loss_function, optimiser, epochs = 50)"
   ]
  },
  {
   "cell_type": "code",
   "execution_count": null,
   "id": "a989b5ae-0f48-4d40-8589-8241e06f2702",
   "metadata": {},
   "outputs": [],
   "source": [
    "## Guardando el modelo"
   ]
  },
  {
   "cell_type": "code",
   "execution_count": 66,
   "id": "3fd511e2-5fb4-42b6-8e0d-236497c53be4",
   "metadata": {},
   "outputs": [
    {
     "name": "stdout",
     "output_type": "stream",
     "text": [
      "<class '__main__.Transformer'>\n"
     ]
    }
   ],
   "source": [
    "print(type(model))"
   ]
  },
  {
   "cell_type": "code",
   "execution_count": 67,
   "id": "4a0ed008-09c6-4808-b684-c27ebb0d6825",
   "metadata": {},
   "outputs": [],
   "source": [
    "##torch.save(model.state_dict(), \"mi_modelo.pt\")  ## solo guarda el diccionario\n",
    "torch.save(model, \"mi_modelo_quechua.pt\")   ## guarda el diccionario y arquitectura del modelo"
   ]
  },
  {
   "cell_type": "code",
   "execution_count": null,
   "id": "563f86e5-4aec-4a32-9ce2-8a69aa76bf22",
   "metadata": {},
   "outputs": [],
   "source": [
    "\"\"\" \n",
    "## para cargar el modelo\n",
    "model.load_state_dict(torch.load(\"mi_modelo.pt\"))\n",
    "model.eval()\n",
    "\"\"\""
   ]
  },
  {
   "cell_type": "markdown",
   "id": "7c56234d-056d-496f-b7d5-b13054be3d24",
   "metadata": {},
   "source": [
    "### 6) Definiendo las funciones de traducción del modelo"
   ]
  },
  {
   "cell_type": "code",
   "execution_count": 28,
   "id": "50740746",
   "metadata": {
    "code_folding": []
   },
   "outputs": [],
   "source": [
    "def sentence_to_indices(sentence, word2idx):\n",
    "    return [word2idx.get(word, word2idx['<unk>']) for word in sentence.split()]\n",
    "\n",
    "def indices_to_sentence(indices, idx2word):\n",
    "    filtered_indices = [idx for idx in indices if idx not in (spa_word2idx['<sos>'], spa_word2idx['<unk>'])]\n",
    "    ## return ' '.join([idx2word[idx] for idx in indices if idx in idx2word and idx2word[idx] != '<pad>'])\n",
    "    return ' '.join(spa_idx2word[idx] for idx in filtered_indices if idx in spa_idx2word)\n",
    "\n",
    "def translate_sentence(model, sentence, eng_word2idx, spa_idx2word, max_len=MAX_SEQ_LEN, device='cpu'):\n",
    "    model.eval()\n",
    "    sentence = preprocess_sentence(sentence)\n",
    "    input_indices = sentence_to_indices(sentence, eng_word2idx)\n",
    "    input_tensor = torch.tensor(input_indices).unsqueeze(0).to(device)\n",
    "\n",
    "    # Initialize the target tensor with <sos> token\n",
    "    tgt_indices = [spa_word2idx['<sos>']]\n",
    "    tgt_tensor = torch.tensor(tgt_indices).unsqueeze(0).to(device)\n",
    "\n",
    "    with torch.no_grad():\n",
    "        for _ in range(max_len):\n",
    "            output = model(input_tensor, tgt_tensor)\n",
    "            output = output.squeeze(0)\n",
    "            next_token = output.argmax(dim=-1)[-1].item()\n",
    "            tgt_indices.append(next_token)\n",
    "            tgt_tensor = torch.tensor(tgt_indices).unsqueeze(0).to(device)\n",
    "            if next_token == spa_word2idx['<eos>']:\n",
    "                break\n",
    "\n",
    "    return indices_to_sentence(tgt_indices, spa_idx2word)"
   ]
  },
  {
   "cell_type": "markdown",
   "id": "b0455acc-aa70-40c6-8d26-fc6f5c36db6d",
   "metadata": {},
   "source": [
    "### 7) Utilizando el modelo entrenado para traducir en del español al ingles un audio"
   ]
  },
  {
   "cell_type": "code",
   "execution_count": 60,
   "id": "a7e10a50",
   "metadata": {},
   "outputs": [],
   "source": [
    "import speech_recognition as sr\n",
    "\n",
    "def audio_to_text(audio_data):\n",
    "    recognizer = sr.Recognizer()\n",
    "    \n",
    "    # Convertir el audio grabado a un formato que SpeechRecognition pueda usar\n",
    "    audio_data = sr.AudioData(audio_data.tobytes(), 44100, 1)\n",
    "    \n",
    "    try:\n",
    "        # Reconocer el audio usando Google Web Speech API\n",
    "        text = recognizer.recognize_google(audio_data, language='es-ES')  # Cambia 'es-ES' si usas otro idioma\n",
    "        return text\n",
    "    except sr.UnknownValueError:\n",
    "        return \"No se pudo entender el audio\"\n",
    "    except sr.RequestError as e:\n",
    "        return f\"No se pudo solicitar resultados; {e}\"\n",
    "\n",
    "# Asegúrate de integrar esta función en tu flujo principal"
   ]
  },
  {
   "cell_type": "markdown",
   "id": "f625614b-1c0d-4cd4-9502-aae629e6e055",
   "metadata": {},
   "source": [
    "#### Probando grabacion audio"
   ]
  },
  {
   "cell_type": "code",
   "execution_count": 61,
   "id": "6321db74",
   "metadata": {},
   "outputs": [
    {
     "name": "stdout",
     "output_type": "stream",
     "text": [
      "Grabando...\n",
      "Reproduciendo...\n"
     ]
    }
   ],
   "source": [
    "import sounddevice as sd\n",
    "import numpy as np\n",
    "\n",
    "def record_audio(duration=5, fs=44100):\n",
    "    print(\"Grabando...\")\n",
    "    audio = sd.rec(int(duration * fs), samplerate=fs, channels=1, dtype='float32')\n",
    "    sd.wait()  # Esperar a que termine la grabación\n",
    "    return audio\n",
    "\n",
    "def play_audio(audio):\n",
    "    print(\"Reproduciendo...\")\n",
    "    sd.play(audio, 44100)\n",
    "    sd.wait()  # Esperar a que termine de reproducir\n",
    "\n",
    "# Graba audio\n",
    "audio_data = record_audio(duration=5)\n",
    "play_audio(audio_data)  # Reproduce el audio grabado"
   ]
  },
  {
   "cell_type": "markdown",
   "id": "ad955c57-481e-413d-8fde-91c59b809cf6",
   "metadata": {},
   "source": [
    "## 8) Utilizando el modelo entrenado para la traducción de la voz en tiempo real"
   ]
  },
  {
   "cell_type": "code",
   "execution_count": 70,
   "id": "a2ef4658-54f4-46de-bd38-bf8aa2c61a2e",
   "metadata": {},
   "outputs": [
    {
     "name": "stdout",
     "output_type": "stream",
     "text": [
      "Grabando...\n",
      "Texto detectado: No se pudo entender el audio\n",
      "Texto traducido: he could not understand the murder\n"
     ]
    },
    {
     "data": {
      "text/html": [
       "\n",
       "                <audio  controls=\"controls\" autoplay=\"autoplay\">\n",
       "                    <source src=\"data:audio/mpeg;base64,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\" type=\"audio/mpeg\" />\n",
       "                    Your browser does not support the audio element.\n",
       "                </audio>\n",
       "              "
      ],
      "text/plain": [
       "<IPython.lib.display.Audio object>"
      ]
     },
     "metadata": {},
     "output_type": "display_data"
    },
    {
     "name": "stdout",
     "output_type": "stream",
     "text": [
      "Grabando...\n",
      "Texto detectado: mamá\n",
      "Texto traducido: mom\n"
     ]
    },
    {
     "data": {
      "text/html": [
       "\n",
       "                <audio  controls=\"controls\" autoplay=\"autoplay\">\n",
       "                    <source src=\"data:audio/mpeg;base64,//OExAAAAAAAAAAAAAAAAAAAAAAAAAAAAAAAAAAAAAAAAAAAAAAAAAAAAAAAAAAAAAAAAAAAAAAAAAAAAAAAAAAAAAAAAAAAAAAAAAAAAAAAAAAAAAAAAAAAAAAAAAAAAAAAAAAAAAAAAAAAAAAAAAAAAAAAAAAAAAAAAAAAAAAAAAAAAAAAAAAAAAAAAAAAAAAAAAAAAAAAAAAAAAAAAAAAAAAAAAAAAAAAAAAAAAAAAAAAAAAAAAAAAAAAAAAA//OExAAm2s4MAMMMuXAkOgqsM2kIXkNRmouAqR1JXaxp+7czr5V9iJYsWLDBzAkA4jTiWZma8zMz8wMDwwMDAwMDxszj0/9t6Kr5wy/BadkM8RERF3d2TJ38aJvmKtz0954OTuIMjsYg6FsgLAafi773/HjO0f/fH8R/G88ntkyZMghERBhBAmTPJkyZOwwRgAADw9/zYOk4Wj/7j///gOk8/M/Yj88EClYFBzCAaEQKNeV460vjFaTIm8DjaY8B//OExBcryfI4AOYemKaHQZiULCQ0JAUBhQDQqZJqYQ3couzLO5FOvuCQp1GQinn/i70PxCo7EmGO5Vlbv2pfMWb8Qfi7nAbOH4gBWmmdwmDxdkIMhT6vZWHIqJ6s9vuBSA/xrPpT73mPKuC2HQuXJX214E2f90iZ+KVrX7xNAuDBSx8WuJMGRlEl+xKaGmkK2RkBl4FPD3jGguH3PeUa5fKEL770VWUEgHoKGC4EmU3xHY4vmGYgGC4BGHQDGObi//OExBota0JMAO6gvIONkuOj6rEYNkOEB66cG0giAJEWYEltKx6WSmQGCsCRxiUefYkEJ4TG7im8pt44KoPP3nX+lsutSFQOc7TxpCKEyqnlST8WktPTL3jsizpV2VMfy/WieSNKy4gXzqYdOXCKjgFIDOUEB+HYgmo6V1qQZkGTMzdM4xNmU3QQe3//////1vW6/q+vV6901M6ZoDpAQYu1ooPb6pQ5UlHFqNgQ6gXcjyEFUBBgIFAsRJgA+5lA//OExBct82ZUAO6avBILAe02RBQe4ESToIwocBokCW4m6QkPrQ3D7HzmDnsl9tBETEFjxqVpuwBIKfGH0I57HcAu5hR0jov9GaeqkasJFKtqJLXz1TuzBFmpFJVAtr+dpFoUVpIFSIw49y+J+TgGmHUewlwKyXD5sZE4cJ84ZomTMiks/WYmRpTRUoxUp/////9b/1f7f//UtaqC1rZNMyWkyR4HR8WcAEu49MYqfZ3YWgoYQs8dclGDQ6CA5BQA//OExBIr61ZkAO5UvANNE24PgBICYxiyYAhMYXAOYiAoYDAE7oEEEAp45o9JTpJF6DPDFlwUGFBEDTFxa1FXLeAv0sFJp+wra79q7uq0+pztxxN37cEwJT9u0LNL2qlDKL3fqvJHMa2F+kx7hVlQqTmkg1EAPyAbhchIJRseQjIx2OHyltr1OMMzSSUqae71f////6f+m3///PWYQE9bVKqF1HjakrDnp1S9wikTQYHhccZIBEdyzCFhi40mpymZ//OExBUs4zqAAObOvODyYAIgOORgIEmMhkhqpYXmJB0z6EMiBWbqzAgaMUkz0X0FNIQDCgSFDQx4YMUAmgsSKgSxBtGmRZ4ZdYp8J2HqS7hTUsrtbvvzNyKlwq4W//li9zPkskFyhgCAWHwu4cRBeLygpJgsFg2GATJAGHj4lCYbjdCjr6nWdMx/zjVHlHDGqpxjH7v////////fS5g+SNOHy5AoU//7h44YpeTkpbkIk50OhbVLdS0gJnqxm7Br//OExBQsqz6EANbUvVJHDBg4xhRbSnCiZgZwcqmg5Lo0jgSFmfdACQQYBtnGAYzN8GFUaKlus/C4YYyEvu/dDBKwqu5fjKXBdCQcrU0Ll/2soanNb/VP3Otas0/bkam45Ju5MyTHCqOjUFoGsLgUEgxGwsCLHoEoLILwUgwEklCiFkoPHMZDCJ2PPWvZ+rOYYcpI5Cpxp5i3///////+iZtDziEeGkhpE08aIsJN+6UxavDgumtQ0DWY5ENc6/Nj//OExBQo4zqEAN7avSEGulSzJYpYucyxnN1G0R2aIgmTvx+gOEL7d5OYCEGexRnoq1d3qQUBwMSSize7FWTyDGrtrMP391X2p7/9lVPb/92c//L8s/3yZjFjKOhJhXEsJAxPCelwuJmRkbD0KBqMYW4w5iSRAJAxNln1LSPKeymos7W9BJatJSLNWjt///////+pa7LU55IpHBVg6o45s02EVBxiqxIcm4WFiFA3G1MRB6Kt2IACIoiYJAbQ4kp0//OExCMvG1J0AOcgvBcZm4FEXxRzAgJMWh8wR+jSo2Fg6moKgNBAZ7WjNHvjTqiguDBnKKWpKlWN7+dSVtKt9xybg2fHmspB3/1Q2P13c7/5fMRO3iRIjQ4sNpUO4rjoFnkUQY3IEQhoXiLkNAhjnnB0okyOxMwLpis02Zr1onuitbupRueUktjlN//////+vrqS0fd0DIrGxFzU2Lp5ZxyP//1/vVW45mMeKgedT6hh6gpXfQxmvOBSEm5h4RGF//OExBkqizp4AN8avQlsCUsg2oKnGYOMxhxCkwgKgHEASMUikzxyDIYLU7LKoVmBAgYuO40LYDjsFDgCBxKt1ucTuk2HKCYYLr9zDSIVzm7tr//dPZ/+YTXea/GLZ6JqYHcHKQiYOchjsNUkSKPhJlA6WEIJ4HpIvlAchNRWozK0al697dbetJGi63bX///////W7au7IILdzNZOLcYqswmOt2CgGeFYBcDTljQCAwR6hh+PAMNF90PjsSwHBzFU//OExCEr6054AN8UvWRBkw+tjG4qQrawKjs1jMTNiLMTAoOAQ0CDDZVMkoYw+DlN+AQFGGgkAiM21WIKYLCyHsrhtt35nN07tzNiphckFrnPp+b3qva/n6vU1NjqHBUEMIcGgQAAcPhoKBbG4hReVJxXEAIosPR6gUwjuK55ClKolfv6UdHRXnnMpLT///////29ldXVpyKymE1dqSCq0oxBmOOOVEF4oyGWtprKwTDzBCUBMjSzOToaIrwqAGRG//OExCQkWbKAAN7YlIYcomWCboig4aE8GwS4qFN4ZSYmjqpxqWb8hmQCqoHUAoKW+VuZtFmkRei7ajcmnl6HGWUb6xQ867nW7/pWf+mz03n6s3XHhkHQWCOwW4Y4FNPRsS4pUEEyhrBB4XULLT/kzWK////7XFlB9TVqrS2DCUXNxDSIlcILgbHDlglQVDEwsfNFewIALBhYobiocmQDixiwRkGRshJ14Bl1A9GN2vNPtOwwOeaOfTOKfNUSM6OC//OExEUmci6AAN6QmOAUwQmIS0wWavi+0dfmERaWxygr2ozlErcsl1CYuH+p6n5tp4sp5DIlBacGQ8BqQaLKMpx9HILmg+IokLUg6+Wuu/////7+5QQkeZR////qMEwdACapKW4A1DCNhlsMmHpJn7cBkEcAgYGHCMRsJAucEkJi6sAkJC1I80VQ25gWHGffm/IHWunIQnVxnBcH2ploAEsMYFAoRhzVG3ghrTYpXGsaWWXpVhTyrdFRV7V6l1jr//OExF4mkyqAAN6OvV3mOescP1zW8P53Ln+WGwUDQihkcLFSJh5UsMjRXEoWucD8pVTXc///9aOhqP////////6eynoYVYWNfuq7QKJmNzZmgLEEPjTgsta7YUGio6gZlZcYGQr5LaoIAh8dZuAjoyECy9vS6IyRNJyN89NcrMLHNmgl6qxcxeapYKb1xp6LyqresWJdTU+W70Yr1tVHUqcrPRFqrXOY6qIMh4QB41FpM0804fC5ARSwoJD5UaHD//OExHYjKiKAAN6OmMelP///ornFgA9////1ZWwAiQ8z//9VrQWgmO0QRozT1ECgcSRjwGYURGofxwZkggL2G9BELJQAyxgOANygpC4SQuRk4hFgsYHGN5mwmWAghfTExJN9FUeJnykSg7rTT0ODS7qw9alEsjVNST8pswHBMVjECS65Sdxz//1P8t6JCCJOka4JI+sOwNyBqeM8ijyqJS9AksUz1f//////tqadLh2nmbXQl/b///tnnf+umRi7//OExJwoMjpwAN7WuJZK4Vepj7vMpOInwAg4LgExU4Ay/mKQQYhVAkiQEMjAIDMeHsxUDZaOAoyKaBJSnUFCJsjaYCSZAtFkCAIEiDgpk62WLAP/i3VVtJIVNqmOT9Y143z4la72SX62UZuVqe9+sf/v6w/6mPblvm8aVRUpSnGiooExYYIhwwdUDFFnLI5f9//odUD1hIpabf/////////kET5Nh5Nbl8ML/UpjgBA0cBg4gNsHDIyUEucaEkEH//OExK4mmzJoAOaKvArGDoPGjogAYD5CFAnavdhBgoBrQmYjj0RZOqukkwF2WmsDZYpQuu1L00ZBFur1uyp9Lk9AEPWJXI+25fO4XJ+k5S9u1Lffw5hU5TfatXae1+8eJNZqlEFgmCAyNCIjOcWHT0fboZRmnujavcw6zGuau71X+mn6Nu1en////q5zO8xWt9X1so6aWPfVXMBgODgsf/Co0OkSTIr6MnAJuJKXTHBGWOzogCiopSqlD69sdF1s//OExMYnu5JYAO4OvDvgNR+jGUTKC6R1EeDSV6XDFSqoeHii5UWr2psadYcbWXG+3qpjbGrEbzWxDpiE3U21a1T5ZkznOAATDgmIioeOGKLDksDiJxAUFzH20VUszItCoy5KddaftkZNen////6ciijKOJDxPN1KcgJf1IVM0wvCYwMKs7UbYxoBEuMYTjSJMiiQYAC6ZcCKFQGdJWOalCaSTSmMZkSSTJyZNU27hEwHCwIsAlTBdQkIRw3zYTKE//OExNolozpYAOPKvByBcIsZhOyXDqXrKhdOkNjksbDhfolQQMxILet+IzKVJv0NhuOLbobQy7NCSTgH5KAmF4Io0wIMRTQ6/Us8YSWlB8mlbHS2VTWnJElH+WOSPoJIRKTrndx9Ruf3UP+rqm1///H9f////8fz6i7t22q1Uw60ShZ5SxX70qVnRhkSmEFkaD8oYjAaBQujTQQbKgOIh2kCqZSuKRmChhb0uTSkZnZIEaNCD9HpBmBchNEpGyhI//OExPYvo1pEAOvWvLMJkVoOQ+SsD+LmlWoRY0kPII0bMhrOox1MdTsNQfMrFGetryRYVrcTNYeKBXVgQoUurfeHr1FCeoxdnsxthzbT2IT+bwYl2GFhmjNUkWnzmFBs0NdmzVf9V1B0XDRlakNFjDAkpiijWA1iy61V6vYEwSADxQMt60fsnz60KlADGYYMGlw7vSDJIMBguMvHEIFIcEjAg4MaBNP4EgBPCGHyiL4hCiMZPXixJIC8HeK8OgTk//OExOotChpAAOPemMNDFOFWd4g4DmECJ2VYZBFjVQ5GqhaZcM8OEyqNNp1gHAdhJNHkkc1xQX2SaTYp2u9O1nVS87TRhGZB0jJZiOsrI5n4lNqtPQ5aBnr9GdxH/y9FYc94GaOnIBsbY+OfEWdUSu3upoySlB1izo+5a2960ZJih1djhlo4Ags26DAyACSAz8qAw8n2W8Z6EGIqAqCqcuCEl+L+nj/coj7MWVOGoCCIcT4fadOkGCA3B/BACbIe//OExOgquf48AOPYmE5QklR1TnTSVsjuDDFUyfOVdGcApE1SqW1bmhGprth73z9+x1GXmJAaDChIXGiKDF5TeahZh6x28yzAiptJaAecAZEJBwkGm2CUkLmSwsUDrlEYuAhkNXVVW6aHXmEiq43n2MQ82hQtZoIqBHBQUFRDZQLYg44tyskWBBzxM0vBJq4ly7UgWmnNDCwy8XedqMQ5fbs6TDUjmRMoUl1PaNpkrMGlOlEJXJLdemubztSh2Lrq//OExPAp2fI0ANvSmLvxh7qSJ5xKrly3lnnS3mExt+alqrjvLXNd7cl8RikjdtvHwn7MZi40igySuX6NRMbnJ1IERMzCyFP8uYfW/h7rHbW0qPtZ0m+/Klq9NmG4dVQ25k77zdycmH2cevf0rX2/udtn1lO3ucbO72/Mxmid/fd8YfkK1WAiTLpyP1pMg+2oehlqKlRMOACxwxG1miCJK6vAzLljQhXLsJDNgIaJYkPEETADCCRABhBWFgEzgf4h//OExPsxs9okAM4M3UntMb5x+y04ZOoUMUk47uuerd+Cc3a1OWWI6T1qzNf2U1bPtGOHqE2lICCLTbNGKltq7KKTYxTMw5TSk5HU5czpiltRnDODSGYmmqzc4nYlDBSzzJmoRW4l4wkAPjJCYIhweIddgvUqsQD0UYozlMxzY0V1AgWaAwbKKgZNuwzlMp4DzqRnqCkjElk0RjNaa27stiUqa9LmhxRsKxlbYMaJRmc7n4X6PBU21TM6zG+I3w5K//OExOcs7AocAMsG3ecosV9DncIrVCs/3Wf13bWvvGP94v9/w67mtBywxa55KixCjmPkdXZqKlQcmi8CEMjmVa029K1OSIHltA2ahHjrfI0CqDyOrChosrQjcl4tQmpFciO1wYU45YKcipugZ1UkvSnsaCigVVcoLwqIh2XLFTNgDuir9SupEYFrTONNZvV5DAMMvzIXTUBQBSOJWCpbjHFU9PwpXFpORHWDZMZbsa3HYqrToxdZo+kjZeXJXPXR//OExOYpJAoYAMvG3Sqp6zS9Mj2re5DWftZLddW1qYS1Z8o9I4k7UxrWio2/3mYP9ImgqLzR+33I82UKqEDCamp4di5w1HJwk0lJXhJK8pjUXovCVWNfeaRRZyOGNcUzaRue+LxJ6+3k96QJWbfOWdkUUmrJR0zqflU9JQv1SdKihEpRKbO5VreX28sudqyq1fu00MyG9LEF3wZISFfWyRCdRn0bQaBZReZMnNgnSiknVqMG6871SCUdbZnUGYXb//OExPQt9BoEAMMM3Vm5TOZBEyTZKfvVB5ZGiqWY9ljipdIYdYkQeYOHTnu6jRhwxezqG6nQtIS3uhJZNuOZRx9DjVF7Wjjh4qwxWG+QNR7sxRp6WN1uEJaBKNYjeX8VFNTBhebWs4skuplulnXNsowccI00PezFaA6geIA0LCcahrvUSaoriVN61W3fq2sJmvUv1IYd6js67oupIfVbSbUXQCGANciXVQiksmbZbUKExE9o6mQrrEzJAT+Lst8U//OExO8tHDn4AMpQ3HKbSAdjmMIHzpDGJ9VC08vGlF8IUBlkES1dXMQjLmDDLI4tOFGMuyxplNKRLwoqfKGI0vCZwy0C6lLCimOk4lCeFmoQxBpvuhPlG6Ixz7OtZV+TKeIppIDVa0XKWPt5dqRearJWv72WfMNspnFJXCoSpAnXMdAt01RtlSkTq7+Od7fcbNHX7hfjnKturYWkyeKqGigfCipCTlXoHPA4iMkpltdecsGllE1VDxGgVMmCWV9J//OExO0tPDn0ANJM3JE5BF7l2NUVbYjNvTrtXSnQplGKNMkUTdBCZP1G00ECkwN8LNgs8mRxoN5EpLk5q7ML6pSNLO78sFVJmOhKPeysPssnDHPFLVc+HONPQjCZM2yQcNhfqakw80oDM6Lt4vGbCm1jTd0xu7OWExb7jJQ1PEmnxhc60TyUvUnLhbo5iy6bbxB3LMbld6X25yxyfzmL1NYx20TGNKwoTEyo4jLhRjtEJQ+Dw/ptSTJVtJiA6di9//OExOstrDn0ANJM3IpXWUJVUcRI2YSZVWnrB1EpDWJop5DbgvBVKYgLA3Qo45OinKIyy2yYZaRyNLMI60tJItSSE4TGtier7ax11uGur+kqnPiRLJK3DedJeffnOLO1rdWLpTRvWjcafdzULrvTNS8Zrq9im24yFtef/cy5yXe2y8KLNasvGNLKijHkCNi1KPr+LugZ9Wu23Zis0/1uGZ2VS25GrSYpgRIkhVMUskRohYzY5L08KlyXCImISU4C//OExOcsZDn0AMpM3EcDU0LlnxpZsUqIrQwarc1VJpCpl01GOS3y2P9MDFBSPYwowUYMfRMAkAhwokMKVWClxqqhRgwqiYBVqU1jLSNYfrSpMYUgxGxhRgxq1KcNZDCoBOAoBIBGspNWqkxr/7alGhqXDUin/6qTGpMYDRLGsbW9WCgYkNVMQU1FMy4xMDBVVVVVVVVVVVVVVVVVVVVVVVVVVVVVVVVVVVVVVVVVVVVVVVVVVVVVVVVVVVVVVVVV//OExOgrXDnQAMpG3FVVVVVVVVVVVVVVVVVVVVVVVVVVVVVVVVVVVVVVVVVVVVVVVVVVVVVVVVVVVVVVVVVVVVVVVVVVVVVVVVVVVVVVVVVVVVVVVVVVVVVVVVVVVVVVVVVVVVVVVVVVVVVVVVVVVVVVVVVVVVVVVVVVVVVVVVVVVVVVVVVVVVVVVVVVVVVVVVVVVVVVVVVVVVVVVVVVVVVVVVVVVVVVVVVVVVVVVVVVVVVVVVVVVVVVVVVVVVVV\" type=\"audio/mpeg\" />\n",
       "                    Your browser does not support the audio element.\n",
       "                </audio>\n",
       "              "
      ],
      "text/plain": [
       "<IPython.lib.display.Audio object>"
      ]
     },
     "metadata": {},
     "output_type": "display_data"
    },
    {
     "name": "stdout",
     "output_type": "stream",
     "text": [
      "Grabando...\n",
      "Texto detectado: Hola hola\n",
      "Texto traducido: hi hi\n"
     ]
    },
    {
     "data": {
      "text/html": [
       "\n",
       "                <audio  controls=\"controls\" autoplay=\"autoplay\">\n",
       "                    <source src=\"data:audio/mpeg;base64,//OExAAAAAAAAAAAAAAAAAAAAAAAAAAAAAAAAAAAAAAAAAAAAAAAAAAAAAAAAAAAAAAAAAAAAAAAAAAAAAAAAAAAAAAAAAAAAAAAAAAAAAAAAAAAAAAAAAAAAAAAAAAAAAAAAAAAAAAAAAAAAAAAAAAAAAAAAAAAAAAAAAAAAAAAAAAAAAAAAAAAAAAAAAAAAAAAAAAAAAAAAAAAAAAAAAAAAAAAAAAAAAAAAAAAAAAAAAAAAAAAAAAAAAAAAAAA//OExAAnGoYIAMGMuQcAqjOLxIceWEWIyyHI3DcXqc+pSYkAQMAypogWiT55NMxR4AIECH5+xr3EptKeghDGIYYEE07vnp32IIRGGIPl7D3d2QIEMMITsXd3rk73wYQgwhEE0/h5MmTuIIECCEY1kyevdw4AQ8RGNFn2+wWTeAAHBGHf98/iPDw/BGnD4CNoP/M+IAOAABssRPiIHcEZh7w/8AAAEB4e+OoEMCcLkbFDT/sTce27ECTD6LEdx3Hr//OExBYpQx44AMPQvGvtpKwU4h4dcNaZHjsIYIYCkHQ1FsTSkFzQuMfiMs9NNC3jAyQ6RLqdneYgRNv4TytIETSnZ4ETDPH6nc87f0LPuS3sUHOLuIYLwbwl2SAuPLenFw8eJLYxReiERbQUgeQKVLzaemlXfaJ6U/o9o9Jb881dTHHd89S2919fxOo/CDFgwZy9fptc4opEp+7qHDJWuLT4y2ewlkPw+3Nxl5yJy2ws3SEbq2ZhkELIaSDQhyy4//OExCQw+wZYAMYYuOWFGgEaCxAiAJCyd/JyGloSmA4IguYdypU1NwRFJRVhinlHcrv0dJSwzF+3YbNzMSziAfOMA7JR6vJ8J287GeXP6wmZPbmA4WpDcezong3OiqCYhlm7/d9HYKL180ifbSLuTk/YzhSrXpDgwrAsbtYSDxhyBn3EISDxxZzd6Zdfel2KUlu7a9eZq6N3gWOU6/ysc4QAmBEFzTT4f/o/+pcVPTE1vvxp4YSuWnFq9HAEMTHJ//OExBMr2y54AGYSvEOe0dKpuoZQcAlykoWELVU0i8ahcEN4/694s/L9yWXWILuXbdDzK7qdtSiYmoYwkderqMWK7kRxr8ffpvMXPjedyUihmjTk0dMyJyBMVyw8YJgHIgmaRUNpZU125RSQSJ4xbILlU0YqEgPGQEGC5GSGVBGTqDWQi/oMYa1er3Lv+csh4xzz8U2ptR8ryneGNzY8p/5UIJhwMF3a/WqvD9aUBRh6sHIqRiVoTy6boRjUOqVv//OExBYp0xKAAMYQufLvYlAaZCOK83jiEfC7TMgCnAxm5uSmJF0m1morJyl/kzWUr6flnUpvcp7nxKzvK3epIjhT4SyXcjMUh4TgPgQgaB8KDxSjhcpThZhgs9jBzSq0i2CkMB9YCIPCIkFEDjGhlUdaNcFHoO7SMVFapTR5hWggGoPKheTaVv1ibWI9YvX0t/9Cl7XiYWoOhQlvCvlqg2NV27KZG7vJlwOrDKYeGDkZWFo9lElArOcOMgYHcJOw//OExCEs6kZ8AN7euBIKbTmgrKFhgwUJBR0YI3GMyIVBlIrfTzMHHDWAwt+YEDuqQB5nJCBgtoUMO83RqUTzxqtLeeix7Nv/G6mNnKKQvUs+EHJQwxxDAFQaErO3n+9Vd4sBWS21Ndxl+PLeNWHDcoLM4vDkVutRrNlYdK2cIzPJ4MOefGX9/86v703jGNywkeY71pYXu61lyQdL26Vg/ZnleOJvm2wm7Bu5Ty4LAztTygvOVn/ABeZaoA4SGhlK//OExCAvyhaEANbemObqZMJH4w4c7sESDMRQDm+o24qMUCFNWDggZNobzbzUePC0BVBzMGUwBcNAJDFABgKjRZ1KpCiU1ZxOZ1X7f/bujmFgLYhCuS5jEsQxhLcUwJw9WIhQaRKSxEsQw5TxUSXZJFKoVUnMPGFljMEyoozKhSOnVsxU7uMikjHTikysrbA5OUfMd8qXS81RVfncfIWPgU+wyv//9KHo+sBjCCrWeq70K7P6TVfRUrSgCWPKrEhc//OExBMqAg6MANbemKJWlOY5HnjyJnIurE4gcBGKCJx50aMJQtLcGCBlZ8FjcOI23dBQIvIaEimcjIGF5G4hgIUYkYgYSSAUAZa+KGqjL8XnaZU/DN3YaDSMolJhKh031VqeRi4FmHqMJJu1Q49WsTqI4vZo0XbTGkj6pHjwWrMWC3wM0vuNSeLLK9iXmitt48fWfWNnb2oSJMTU67//qYLo+m/G4VAkzaQDii3Tww/phhabyTkwG/AyCmKAJjy2//OExB4uuhKIAN7emGcdxyRkja8Bc0yxpO8tQdFL+gqYZWYEGgQEjrSX5ixgg6EEhkIanPEl5mBBJkhyYiQmCERjQJSNJRNUizZIhzoZZiEhGQRKFvDmElRghbMnS9BfFjNUtkBQKFWtkOJJDzFhPZ7RmbD/GP30WNGfK6NV5Kr7w92xWDFpbEDWYXrmm93/iAqSIGjB01O//9S/9SBAGVX3BghflDTmbSHDWdiXtQMqpEwjvxtsDcEBZspThNyQ//OExBYri4KMANbQvBzioymGsBuEWNL8UfNmCtRjB6GI8OyeW0NmXL3l/1X+bGlbBUYi1ZI1ACCA8vQ2kQtTMwXmU4lkOQK+ywz/uxPy6PrlQArDLEdjliVP+/GfbnKxgjzVwSYWKLVM8EK6mkCajsYCkoxEj7dzmZyJmZVld5mUe/6/////////////////4qO5gwbR0yzj5Z+HjqOBofVfWhr1Ktc/9ZiJ6EpN9bBGXoFdCGtA/UOqUkIw2PwP//OExBolIzaQANaOvd8hympdSDAtABdyr6zXi5Gt6s8wcW5nlTUN6B4doq24CXMXbejKDpVDMpRafjLLDPSJ8xPUu6lqXWd4GWHSRinMi16qa01BsGjJpo4NiZiuqqJjX0OIn2R6P1NZ//tX////Rp7zjt1PuYxy2JI8Y9TqWn6s15Wbf/75uvx1ugekwd8DrYYmH2stcMDiSDeadr4voVbD5Cd+Y+xVQ4oU3u5d1BLi5fj+cqta7r6lnlX/jcYf//OExDgmo0qMANZKvBhzGKU8vl7PGu2L+FTsFvzKZFhUoY3Id3Mhw+zsk9Ec53V2WZhMOlRXUXAFb5vS6J9Eedm9EtkJs+n///dHvPI4kpzihCBERD8OuriggUax1p4AlgXaTXk36aARFD5RvNUCWtdy/MYGHUjg5DGKCXTZAIMgHcCRcpi3kABTEueMkVTEJvqePe3zu9mOk+73bHJrgv7n+rj3RKKTEisRylRrLp82wmKIpKH+aS6QR/v54skO//OExFAly0KIANPOvQm1m3StTjnV1MIlSiIWFgbFo2PPKlEPNmJ3ohx/ayIav/R3/TtX2/97V7VV0Vru+dU1B43FDUFC8RLmXOmONxx3+3T6fr9K1btr6dYAxlwxYBoUgpFplow4DHp+CW8gzzUBPmgSccJyvCVjHzGx38J++hWu+VjC/7Ko1ycbw63FFNcA81MfIRaHbXvae0sunBNAtQcx2XMQPufa9J3N635+XnN/aLV78CqvrlxzaetMLM3r//OExGslggqEANPYmDFfa15VQ4IA3semA7SiEFHxR0kXPbaEi7oNvH0cgRqpa5hEk0ki9iRAzaqhsVHrKgxw3qwPHLkpCKCRWtqrgEanndlMBxuHq0uTbMbQUpgzfYtwhNeknZW9j/VMY288hrSOMR6ecmru3ct7t2YRJpo2TBUSh8UhgsuKZnzJrrNK/38l/kfdZctYgyhLlLJYqw37VS/grGrz5X3ZS6sklNETkiRQqZI0KDjFxFgMZq7xj6nx//OExIgl0hqEAM4SmAs84EUIRrhShiIdGKVVYhWOyCUu0ZKAfEU7bSAqLONwCBceetKQFESZJVQqEndsfkhEW44WMOKoyNRQBNNbZMmZByA8vYAhDIERlfgGimSmDqy4jT6GVxJ/Y/2fnpbTZ59p7eVj1MLHvFs54SgNBSOEERB9Hb1Uc027UPWjhtM9kjSRwsyrcjqbut6auP1eUKUm0mhYaaBJa3MrdVCYudlm7Kn//9X/ZrWlpLIXPn3eBhaA//OExKMmIiqAANZQmFpxg9JnhLPi+5kZJz0gGDJNGEbGIxmWYlxTHUj2EDsjB0MAhZqSJuEBtEZnk5iTZhkAKNgwSHATIqwIqMkPMEKJApMvRxbVnDFIHjUkk0KemJ1p2mn62JpCq0okbLURMCkLoRWSG2G7zw3J1uZuV/CW52ZsSIJPPtyKajlmV9qs//+zh9/3W2H4VPIOtX/765lc76COeJOHljIhKnTLOrsGsTApFa3JQzM7GjBwRAKY6qnS//OExL0mgiqAANaSmJQDQgwEAMOOjWCcwQDTFBBIY4mmGAY8IvAYITGHgSkzCQEywoNFHAMRGJiJiYWw15WGM0k30bp0lyHH8nu8jpk1ZZZSYMLuMwyFojLMSrfhp7Hdb9zJn/y/9TtmCxyeKDRldemfs2/pnJmezK1pm830vY1aZXpTCTtMV9zLgljq0jTBAWYkbW2MwsTDANQREAxsNkqioATGxoOrIgeUYhBphwnGcRqLAgDAgKgQ1ucDIIkc//OExNYl4iqEANbYmaChGMzE8xUDzAoBMTlcBCBWowmATFqVMgkAxKBkOo4DFJQU76tidTJ2RqxOq/EAPEtJ4FSMraLHYeZa87vsCWKPBS8KxNXlzsUuUnjcx3WNmm1T3NY4Z3JVhfz+azls/NS+Vv7CqW080fp7V/lTl7PCx38/5fwzwyna1SlDgNmjH/ym7jiZv+PY8PuWj8LUDM+lwVBr0RfODIHOckEi51pQTA69BYCDqEtcShh9uydMGmBh//OExPEyehZwAN8wmIYWxnuzgQfEgIYAeHKI6sS3THws2QhZwh8ZQFBAUjamiZ05GjgCtBgg4GTEYbAFgCEXHoQSM22wBjMZlDcHfrRpnL9V4moLi6LWER1qyGZh6WfGbedWm1aUmdDizIQzDCzsoiiMWB4NhsKQniaIsWxQKxALrKtkNNNNOOOJSZzh+NB+eUVqXO//9c9F/0fft//v0MckPJENUnAnZ/wFq/2S9a6fZKBGYaQCKp5OE6wWS5iZ//OExNoyG0Z0AN7UvAuIdFQ4mmYO0jwyoeFkI4MDgYEwMEzFrzMrAGqFwOZNEZQOCQAEAQM0DNPluAiFCCqwzwGGR+HGlFICgIxaSSYiuIYABVJGVKy2c7K1zoVU11/KSXvwoZA8ao524zx/HqjjaN0fuT2ZVSZ58x3Ti9UNoYeceXGFjzj43G5jDAuQwHATDQSBL2sh05UypY88aEx88g9nNs9//7ZhlWf/0p//eqqcpQcYaEAgIGlxJQeKvm9C//OExMQw60p0AN8OvH1Xsl6c6pkRiusELxmyGkZBRkQuPTzZhGDmFISrlSJdn4CYUAAYTHtRbQlNASShFJAajoNMiYci61DDwttYuCBhOuFF7gAVGJgkEjIKZyGtZh5YpeKfzSskU/LH5qSlMd9YCmo5qKu5Vks02eTWoGlmVa5Tau6yVe2e28XDiQe5u0R/BNTIAEkQJwEcf7aeLZt2+T0S51nGtMDJ0D2Sj1EuZiv///5fOgze53u///9n///0//OExLMzK0ZwAN7WvPY96NmRJHeoaJCUpUHm01GkAmUWnY7sPf9Vj96FnoKrfgklbC69zoaEeBBZ90tAd1d1YY03wzALSYQEHOiQ0NOaCSUHGL8M+AAqnTL4EFhaT2Um6S6vhdshgJaLrNOZ6Dgp+48zNybNC/1Fbksji1NH6e7LIzSSakqVJdOZ/T483h/Bp8xkcrodZTuKDRVQpFRRGLhhyBoqhVY5TKh5UkOKGKMM9//rnVL56/5///koQp0I//OExJkoo0p8ANbKvWaaIoqUKIYPS8WZrugemc/kGio4f7OO7ppbbcYNJEwcZm1ADpvEAb/BR0hUb2BzClXzHGMA6ZxoioollTRFmk9tgVrK8tK1GVsg4FvYwIAXPkEdhPZZYi8jrT1FcrxSOSd25fHMpZU+xjnuxzIjOd2UqynRSTBww4gMzhDO4NqgIVoGKKECB2HOZaO0z//V6qQpnob///9KXauxSVYim5inOQwoScEhj9sonWsEoCZ9PgYv//OExKkn+1J4ANZEvGsEIOaqKNhYSZMSmagswFRwx0BdpYMxA5Ba2vIcTlWnn4Na03kRYbQ4Ps41TKeo5ZWv2Pqy2N5fZnoLa7K6j9QUvuYcZurE5l/IXQXIxN0wngugFzxwkQZlhXc9WmKpilGMak4wujoXH5ZkY11MSjmnDaSHkpikB7G//PPR0LD46v//r//1+iaFyYuLHR55KyICP2lwqkmk+UQ23uuIG+hZenicVdxgEIDuNtCQBMsPVRQE//OExLwqowZ0AN4UuJRgU6cRskNTVZW1EJV0ggKWM/P1DYkZhcb5/w2vbbxvNs/G9wt4VravG+yn0lBxKRToQfkGqWbmAmKOiplVOMNtrfEsauYOa7l1v117XnYhiEERYYpFmJQxHMjmM6Gb/0VSDEOczX2qzu7f////Q6KInCh405yU2qv/u72PV5CiDKJqSyM1Fe6pMNeUpkKHRIa4kqqYe1VokjZIYfREd80uCkC0ZEhU9IIBwi7zu8ymX2fu//OExMQpzDpwANvK3LxxDnLDk/2+rP9/HpvxKWxvX9ft9lhhTHacLaSkAtHCBrBEEJGKylvjH6b5EI8nUS0OkFmlg+FaFu277khT5xGhFxqTwXCUlBsNbDqZpjz1N/+yItfurX+crat//6NZ06PY8w81UU1lOOv9rW+rUKjV5mhQkq03zersFi1HTdNqCuVKjUWKgA08w9tQaNzKVJgBIKFQC/8bca1dq2mNwNKOyKqBtXRbts0StdTwpa0tB1q2//OExM8nm6pkANvO3bVrev/29cWFghsCeRRvCbFxISOk5j7Tyly0xH1JI+6CQ8VEEdB6EYw+pRMrComAhhIFOBQOQWYpHURIt2dbVs7oNZWc67aJ1l6f6bfmZLWZDdHVA86sJD0Cox68Ws1FSsRA0P3CJ0keKuUKVSyI0qMs/Mh6JmbXVhWRNfXYu5sb5Y5sbISZAupM06oEVHlYY8BhjbtVmbbQn0bEHGY0Ktvm0eZhVJyFzeogmQuYmrMMk6Hz//OExOMmyx5MANPKvNQkdp7E6FuBKF/LiaBelDpGUUEM0IpaOkohOIrWZRKinUJhk2uFQojDQaOotxEkiZlsmul7qTeUqQskImF0LLvJcMzj4p3eR7s8q8bvY5OKEq68ihi6cr8/O49OrjUFcaTYDJzi057N9Qhj8ueSmKqdlCn/BUq5nps7rTgpLIFCVnRB5p6vKaTGibE16/Hp6AHKZs6UP07mnxyPsL2mSOKHWq/eDG3nsq6z+ftky09MmDIQ//OExPow8xooAMPSvYrj4fGopAK6elw+wEhBEwAx+0tVoSy/KmcXW57+nemMrdUsKPI5ZRBeIz5ZjO8y6GycHfo5i6bWzkZxu1S/8fXmb8wjuxrPnuW8xGT2fLatmb8lMtr7Ux+X9r3G93/7y9P8x5jur61a/nX/06maFIddfpNzP6owcJzs6xvW52krWLcFauTMLmL9yRNKfYmIhsECc1JNGgIoLofNhdlmLc0PxvSJKZ01EzNmajUmpNTJV8SX//OExOkq29ogAMMM3dDKRtiaMlQoqbvWdLN3CH1Jci+GC8bHAkoaXj6kntXbM2mEQ5TlMvWA9qdowmzFslRLIjpTKQFqEKRg+XQqEC+lnKOW1Wpbygjn8ZWPMkk3uRyoIt4/rTmK1i7w95SjtWbbbB15e4Vqad1jI7nQkoowmbvnKgGg2ioYItTstsWqtXmde/EX1fKrhKqO/iMHrTbbT0LTMjyHdIWGtW1z1dTSsVL7JHGlF2mF4IUm1NnVqa0v//OExPAsVBIQAMJM3bvuHajZ3WbQSTyt8WvSaGVWtXWyPW1NrISTy422ZVQqNsyV3UOVKNxRLL0tJrdrWoXGLLfhBATLmGC6hElV0hZhBbUMqhqVX5W7X7rErqVwavVXelUjW2hp/s1r8UamXW1RNjo2agrdIxyrVhMruZGVrOkwul8bK9pbQUG6Ktaww7Yo5mdlO5JypKp0QJNCTYINsji0irc77qAs9kSakDZSCk0mOrJSlh+hRiCPI4agY5zZ//OExPEtPBoEAMJS3YwQp2rgtGDrEPSlhkUp4gUkyyZxj4rZxaQQWeOxjMsLZWJLhCNiij0HFHD2YVYZXicVYcYhUKKSMcRxQ4aSUPMeyfaB7DRxw4oezMzIP4uimQ+A/tRrEkllsdbCqjhIMoqn0JOMxoxZHAWcpJs4uKypqMHAnGKhFnJnqifDmfZy3O77jfpMOZ3M5m7yXUjzJExKQqZchI0MSjMWhUwKyeVNIEoK0SSQFoGrQvEq+dhzaW12//OExO8tjDX4AMmQ3LWGHxbzCNhJRSTdyxZxZysLLNkUT2UNIp7bqqzesxDc0KXHm66/rdZiLNew0KONISC5zYwuKw1BOebn5FUm4nW8x9qL5eTfcvzhVIVhA4pDdNeLQeSFCac53rdLWaalTVRaPOJMnudkZo9HS850otqJ2lO2ajcGE8WkMsdiHJZOQ5Up+duyqrZluHbt+ntLFR5AF5oG1WC9SQUICqxIS2SKkgqgFiwVcTQImp2h2KTfJUIp//OExOsrtDH4AMpM3bUJIDBtS2pbhVWFp80rKMGkJOwXgly1gVQnKbJHTZVk9v5k2URz4BscjhXmckt8geycTVmQxhZ6kjYqrvLbuiVE6hNoWVqtZp1izi4lHpIbWEKyUL2GtG2uoQTLqcTvEapRu5ezHrTV9HezxD43bbZ4saxYcE0VAsgF5xotMwy1lyWsuU1pnTXn+cp/n+jVLZxpULiImmiXCpLFC7YqsxWJrLAkGma24xSRSVgiRSk1/Vxq//OExO8snB30AMpM3VK4BYMsoUMUKFChlvlqqEhCoqFQqFTVSnO5FFiQUSp5nzlFgFKfVOj3oklOVRxLP6rtW08zJEjBKKmZmZI7Myjk+vswk/+S1eiVNWPONuHAxEjMzP1ziRJLe5HBQUlRIBEqqZRZLtXeZmZBQCROqt7ec9Eqaqo7OaRR/okqTEFNRTMuMTAwqqqqqqqqqqqqqqqqqqqqqqqqqqqqqqqqqqqqqqqqqqqqqqqqqqqqqqqqqqqq//OExO8uDDncAMJM3KqqqqqqqqqqqqqqqqqqqqqqqqqqqqqqqqqqqqqqqqqqqqqqqqqqqqqqqqqqqqqqqqqqqqqqqqqqqqqqqqqqqqqqqqqqqqqqqqqqqqqqqqqqqqqqqqqqqqqqqqqqqqqqqqqqqqqqqqpMQU1FMy4xMDCqqqqqqqqqqqqqqqqqqqqqqqqqqqqqqqqqqqqqqqqqqqqqqqqqqqqqqqqqqqqqqqqqqqqqqqqqqqqqqqqqqqqqqqqq//OExEwAAANIAAAAAKqqqqqqqqqqqqqqqqqqqqqqqqqqqqqqqqqqqqqqqqqqqqqqqqqqqqqqqqqqqqqqqqqqqqqqqqqqqqqqqqqqqqqqqqqqqqqqqqqqqqqqqqqqqqqqqqqqqqqqqqqqqqqqqqqqqqqqqqqqqqqqqqqqqqqqqqqqqqqqqqqqqqqqqqqqqqqqqqqqqqqqqqqqqqqqqqqqqqqqqqqqqqqqqqqqqqqqqqqqqqqqqqqqqqqqqqqqqqqq\" type=\"audio/mpeg\" />\n",
       "                    Your browser does not support the audio element.\n",
       "                </audio>\n",
       "              "
      ],
      "text/plain": [
       "<IPython.lib.display.Audio object>"
      ]
     },
     "metadata": {},
     "output_type": "display_data"
    },
    {
     "name": "stdout",
     "output_type": "stream",
     "text": [
      "Grabando...\n",
      "Texto detectado: mañana\n",
      "Texto traducido: tomorrow\n"
     ]
    },
    {
     "data": {
      "text/html": [
       "\n",
       "                <audio  controls=\"controls\" autoplay=\"autoplay\">\n",
       "                    <source src=\"data:audio/mpeg;base64,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\" type=\"audio/mpeg\" />\n",
       "                    Your browser does not support the audio element.\n",
       "                </audio>\n",
       "              "
      ],
      "text/plain": [
       "<IPython.lib.display.Audio object>"
      ]
     },
     "metadata": {},
     "output_type": "display_data"
    },
    {
     "name": "stdout",
     "output_type": "stream",
     "text": [
      "Grabando...\n",
      "Texto detectado: No se pudo entender el audio\n",
      "Texto traducido: he could not understand the murder\n"
     ]
    },
    {
     "data": {
      "text/html": [
       "\n",
       "                <audio  controls=\"controls\" autoplay=\"autoplay\">\n",
       "                    <source src=\"data:audio/mpeg;base64,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\" type=\"audio/mpeg\" />\n",
       "                    Your browser does not support the audio element.\n",
       "                </audio>\n",
       "              "
      ],
      "text/plain": [
       "<IPython.lib.display.Audio object>"
      ]
     },
     "metadata": {},
     "output_type": "display_data"
    },
    {
     "name": "stdout",
     "output_type": "stream",
     "text": [
      "Grabando...\n",
      "Detenido por el usuario.\n"
     ]
    }
   ],
   "source": [
    "import torch\n",
    "import sounddevice as sd\n",
    "import numpy as np\n",
    "import librosa\n",
    "import time\n",
    "from IPython.display import Audio, display\n",
    "\n",
    "\n",
    "# Función para traducir texto\n",
    "def translate_text(text):\n",
    "    m_device = torch.device('cuda' if torch.cuda.is_available() else 'cpu')\n",
    "    translation = translate_sentence(model, text, eng_word2idx, spa_idx2word, max_len=MAX_SEQ_LEN, device=m_device)\n",
    "    return translation\n",
    "\n",
    "# Función para generar voz\n",
    "def text_to_speech(text):\n",
    "    # Aquí puedes utilizar una biblioteca de TTS\n",
    "    # Este es un ejemplo usando gTTS\n",
    "    from gtts import gTTS\n",
    "    import os\n",
    "    \n",
    "    tts = gTTS(text, lang='en')\n",
    "    tts.save(\"output.mp3\")\n",
    "    ##os.system(\"start output.mp3\")  # Cambia 'start' según tu sistema operativo\n",
    "                                     # Se comenta para que no se ejecute doble.\n",
    "\n",
    "    # Reproducir audio directamente en Jupyter\n",
    "    display(Audio(\"output.mp3\", autoplay=True))\n",
    "\n",
    "# Captura de audio en tiempo real\n",
    "##def record_audio(duration=5, fs=44100):\n",
    "def record_audio(duration=5, fs=16000):\n",
    "    print(\"Grabando...\")\n",
    "    ##audio = sd.rec(int(duration * fs), samplerate=fs, channels=1, dtype='float64')\n",
    "    audio = sd.rec(int(duration * fs), samplerate=fs, channels=1, dtype='int16')\n",
    "    sd.wait()  # Esperar a que termine la grabación\n",
    "    return audio.flatten()\n",
    "    #return audio\n",
    "\n",
    "# Procesamiento en tiempo real\n",
    "def real_time_translation():\n",
    "    while True:\n",
    "        audio_data = record_audio(duration=5)  # Graba 5 segundos de audio\n",
    "        # Supongamos que tienes una función para convertir audio a texto\n",
    "        text = audio_to_text(audio_data)  # Función ficticia que convierte audio a texto\n",
    "        print(f\"Texto detectado: {text}\")\n",
    "\n",
    "        translated_text = translate_text(text)\n",
    "        print(f\"Texto traducido: {translated_text}\")\n",
    "\n",
    "        text_to_speech(translated_text)\n",
    "        time.sleep(1)  # Esperar un segundo antes de la próxima grabación\n",
    "\n",
    "# Ejecutar\n",
    "if __name__ == '__main__':\n",
    "    # real_time_translation()\n",
    "    try:\n",
    "        real_time_translation()\n",
    "    except KeyboardInterrupt:\n",
    "        print(\"Detenido por el usuario.\")\n",
    "    except Exception as e:\n",
    "        print(f\"Ocurrió un error: {e}\")"
   ]
  },
  {
   "cell_type": "code",
   "execution_count": null,
   "id": "ed7dc94c-253a-443e-9674-4b97ab95131a",
   "metadata": {},
   "outputs": [],
   "source": []
  }
 ],
 "metadata": {
  "kernelspec": {
   "display_name": "Python 3 (ipykernel)",
   "language": "python",
   "name": "python3"
  },
  "language_info": {
   "codemirror_mode": {
    "name": "ipython",
    "version": 3
   },
   "file_extension": ".py",
   "mimetype": "text/x-python",
   "name": "python",
   "nbconvert_exporter": "python",
   "pygments_lexer": "ipython3",
   "version": "3.12.3"
  },
  "varInspector": {
   "cols": {
    "lenName": 16,
    "lenType": 16,
    "lenVar": 40
   },
   "kernels_config": {
    "python": {
     "delete_cmd_postfix": "",
     "delete_cmd_prefix": "del ",
     "library": "var_list.py",
     "varRefreshCmd": "print(var_dic_list())"
    },
    "r": {
     "delete_cmd_postfix": ") ",
     "delete_cmd_prefix": "rm(",
     "library": "var_list.r",
     "varRefreshCmd": "cat(var_dic_list()) "
    }
   },
   "types_to_exclude": [
    "module",
    "function",
    "builtin_function_or_method",
    "instance",
    "_Feature"
   ],
   "window_display": false
  }
 },
 "nbformat": 4,
 "nbformat_minor": 5
}
