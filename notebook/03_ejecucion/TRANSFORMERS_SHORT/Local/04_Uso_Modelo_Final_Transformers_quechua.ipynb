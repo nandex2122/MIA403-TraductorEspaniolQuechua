{
 "cells": [
  {
   "cell_type": "markdown",
   "id": "b6758767-43c0-4c17-97ed-fccef6f14c79",
   "metadata": {},
   "source": [
    "# Examen Final: Redes Neuronales y Aprendizaje Profundo"
   ]
  },
  {
   "cell_type": "markdown",
   "id": "5cedae30-9df9-4db0-823f-e2909adbcfa8",
   "metadata": {},
   "source": [
    "## Generar una versión personalizada de traductor, Modelo para generación de su voz traducida en tiempo real al Inglés."
   ]
  },
  {
   "cell_type": "markdown",
   "id": "6ad27fd1-70b2-4a3f-a136-bee4a33f96c4",
   "metadata": {},
   "source": [
    "### Data Data: https://tatoeba.org/es/downloads"
   ]
  },
  {
   "cell_type": "markdown",
   "id": "bd8b6dbb-dcb2-4437-88cb-05a6d4327eeb",
   "metadata": {},
   "source": [
    "### 1) Instalando librerias requeridas "
   ]
  },
  {
   "cell_type": "code",
   "execution_count": 44,
   "id": "cf66b78f-fd4b-4a1e-a493-10e399b3408a",
   "metadata": {},
   "outputs": [
    {
     "name": "stdout",
     "output_type": "stream",
     "text": [
      "Requirement already satisfied: torch in c:\\users\\jose\\anaconda3\\envs\\ns_env\\lib\\site-packages (2.4.1+cu124)\n",
      "Requirement already satisfied: torchvision in c:\\users\\jose\\anaconda3\\envs\\ns_env\\lib\\site-packages (0.19.1+cu124)\n",
      "Requirement already satisfied: torchaudio in c:\\users\\jose\\anaconda3\\envs\\ns_env\\lib\\site-packages (2.4.1+cu124)\n",
      "Requirement already satisfied: transformers in c:\\users\\jose\\anaconda3\\envs\\ns_env\\lib\\site-packages (4.46.0)\n",
      "Requirement already satisfied: librosa in c:\\users\\jose\\anaconda3\\envs\\ns_env\\lib\\site-packages (0.10.2.post1)\n",
      "Requirement already satisfied: sounddevice in c:\\users\\jose\\anaconda3\\envs\\ns_env\\lib\\site-packages (0.5.1)\n",
      "Requirement already satisfied: filelock in c:\\users\\jose\\anaconda3\\envs\\ns_env\\lib\\site-packages (from torch) (3.13.1)\n",
      "Requirement already satisfied: typing-extensions>=4.8.0 in c:\\users\\jose\\anaconda3\\envs\\ns_env\\lib\\site-packages (from torch) (4.11.0)\n",
      "Requirement already satisfied: sympy in c:\\users\\jose\\anaconda3\\envs\\ns_env\\lib\\site-packages (from torch) (1.12)\n",
      "Requirement already satisfied: networkx in c:\\users\\jose\\anaconda3\\envs\\ns_env\\lib\\site-packages (from torch) (3.2.1)\n",
      "Requirement already satisfied: jinja2 in c:\\users\\jose\\anaconda3\\envs\\ns_env\\lib\\site-packages (from torch) (3.1.4)\n",
      "Requirement already satisfied: fsspec in c:\\users\\jose\\anaconda3\\envs\\ns_env\\lib\\site-packages (from torch) (2024.2.0)\n",
      "Requirement already satisfied: setuptools in c:\\users\\jose\\anaconda3\\envs\\ns_env\\lib\\site-packages (from torch) (75.1.0)\n",
      "Requirement already satisfied: numpy in c:\\users\\jose\\anaconda3\\envs\\ns_env\\lib\\site-packages (from torchvision) (1.26.3)\n",
      "Requirement already satisfied: pillow!=8.3.*,>=5.3.0 in c:\\users\\jose\\anaconda3\\envs\\ns_env\\lib\\site-packages (from torchvision) (10.2.0)\n",
      "Requirement already satisfied: huggingface-hub<1.0,>=0.23.2 in c:\\users\\jose\\anaconda3\\envs\\ns_env\\lib\\site-packages (from transformers) (0.26.1)\n",
      "Requirement already satisfied: packaging>=20.0 in c:\\users\\jose\\anaconda3\\envs\\ns_env\\lib\\site-packages (from transformers) (24.1)\n",
      "Requirement already satisfied: pyyaml>=5.1 in c:\\users\\jose\\anaconda3\\envs\\ns_env\\lib\\site-packages (from transformers) (6.0.1)\n",
      "Requirement already satisfied: regex!=2019.12.17 in c:\\users\\jose\\anaconda3\\envs\\ns_env\\lib\\site-packages (from transformers) (2024.9.11)\n",
      "Requirement already satisfied: requests in c:\\users\\jose\\anaconda3\\envs\\ns_env\\lib\\site-packages (from transformers) (2.32.3)\n",
      "Requirement already satisfied: safetensors>=0.4.1 in c:\\users\\jose\\anaconda3\\envs\\ns_env\\lib\\site-packages (from transformers) (0.4.5)\n",
      "Requirement already satisfied: tokenizers<0.21,>=0.20 in c:\\users\\jose\\anaconda3\\envs\\ns_env\\lib\\site-packages (from transformers) (0.20.1)\n",
      "Requirement already satisfied: tqdm>=4.27 in c:\\users\\jose\\anaconda3\\envs\\ns_env\\lib\\site-packages (from transformers) (4.66.5)\n",
      "Requirement already satisfied: audioread>=2.1.9 in c:\\users\\jose\\anaconda3\\envs\\ns_env\\lib\\site-packages (from librosa) (3.0.1)\n",
      "Requirement already satisfied: scipy>=1.2.0 in c:\\users\\jose\\anaconda3\\envs\\ns_env\\lib\\site-packages (from librosa) (1.14.1)\n",
      "Requirement already satisfied: scikit-learn>=0.20.0 in c:\\users\\jose\\anaconda3\\envs\\ns_env\\lib\\site-packages (from librosa) (1.5.2)\n",
      "Requirement already satisfied: joblib>=0.14 in c:\\users\\jose\\anaconda3\\envs\\ns_env\\lib\\site-packages (from librosa) (1.4.2)\n",
      "Requirement already satisfied: decorator>=4.3.0 in c:\\users\\jose\\anaconda3\\envs\\ns_env\\lib\\site-packages (from librosa) (5.1.1)\n",
      "Requirement already satisfied: numba>=0.51.0 in c:\\users\\jose\\anaconda3\\envs\\ns_env\\lib\\site-packages (from librosa) (0.60.0)\n",
      "Requirement already satisfied: soundfile>=0.12.1 in c:\\users\\jose\\anaconda3\\envs\\ns_env\\lib\\site-packages (from librosa) (0.12.1)\n",
      "Requirement already satisfied: pooch>=1.1 in c:\\users\\jose\\anaconda3\\envs\\ns_env\\lib\\site-packages (from librosa) (1.8.2)\n",
      "Requirement already satisfied: soxr>=0.3.2 in c:\\users\\jose\\anaconda3\\envs\\ns_env\\lib\\site-packages (from librosa) (0.5.0.post1)\n",
      "Requirement already satisfied: lazy-loader>=0.1 in c:\\users\\jose\\anaconda3\\envs\\ns_env\\lib\\site-packages (from librosa) (0.4)\n",
      "Requirement already satisfied: msgpack>=1.0 in c:\\users\\jose\\anaconda3\\envs\\ns_env\\lib\\site-packages (from librosa) (1.1.0)\n",
      "Requirement already satisfied: CFFI>=1.0 in c:\\users\\jose\\anaconda3\\envs\\ns_env\\lib\\site-packages (from sounddevice) (1.17.1)\n",
      "Requirement already satisfied: pycparser in c:\\users\\jose\\anaconda3\\envs\\ns_env\\lib\\site-packages (from CFFI>=1.0->sounddevice) (2.21)\n",
      "Requirement already satisfied: llvmlite<0.44,>=0.43.0dev0 in c:\\users\\jose\\anaconda3\\envs\\ns_env\\lib\\site-packages (from numba>=0.51.0->librosa) (0.43.0)\n",
      "Requirement already satisfied: platformdirs>=2.5.0 in c:\\users\\jose\\anaconda3\\envs\\ns_env\\lib\\site-packages (from pooch>=1.1->librosa) (3.10.0)\n",
      "Requirement already satisfied: charset-normalizer<4,>=2 in c:\\users\\jose\\anaconda3\\envs\\ns_env\\lib\\site-packages (from requests->transformers) (3.3.2)\n",
      "Requirement already satisfied: idna<4,>=2.5 in c:\\users\\jose\\anaconda3\\envs\\ns_env\\lib\\site-packages (from requests->transformers) (3.7)\n",
      "Requirement already satisfied: urllib3<3,>=1.21.1 in c:\\users\\jose\\anaconda3\\envs\\ns_env\\lib\\site-packages (from requests->transformers) (2.2.2)\n",
      "Requirement already satisfied: certifi>=2017.4.17 in c:\\users\\jose\\anaconda3\\envs\\ns_env\\lib\\site-packages (from requests->transformers) (2024.8.30)\n",
      "Requirement already satisfied: threadpoolctl>=3.1.0 in c:\\users\\jose\\anaconda3\\envs\\ns_env\\lib\\site-packages (from scikit-learn>=0.20.0->librosa) (3.5.0)\n",
      "Requirement already satisfied: colorama in c:\\users\\jose\\anaconda3\\envs\\ns_env\\lib\\site-packages (from tqdm>=4.27->transformers) (0.4.6)\n",
      "Requirement already satisfied: MarkupSafe>=2.0 in c:\\users\\jose\\anaconda3\\envs\\ns_env\\lib\\site-packages (from jinja2->torch) (2.1.3)\n",
      "Requirement already satisfied: mpmath>=0.19 in c:\\users\\jose\\anaconda3\\envs\\ns_env\\lib\\site-packages (from sympy->torch) (1.3.0)\n",
      "Note: you may need to restart the kernel to use updated packages.\n"
     ]
    }
   ],
   "source": [
    "pip install torch torchvision torchaudio transformers librosa sounddevice"
   ]
  },
  {
   "cell_type": "code",
   "execution_count": 45,
   "id": "3428eca9-5257-4ac2-b082-94c1d9a3fab1",
   "metadata": {},
   "outputs": [
    {
     "name": "stdout",
     "output_type": "stream",
     "text": [
      "Requirement already satisfied: sentencepiece in c:\\users\\jose\\anaconda3\\envs\\ns_env\\lib\\site-packages (0.2.0)\n",
      "Note: you may need to restart the kernel to use updated packages.\n"
     ]
    }
   ],
   "source": [
    "pip install sentencepiece"
   ]
  },
  {
   "cell_type": "code",
   "execution_count": 46,
   "id": "6919539e-e311-4f3b-a78e-b4234461fc49",
   "metadata": {},
   "outputs": [
    {
     "name": "stdout",
     "output_type": "stream",
     "text": [
      "Requirement already satisfied: SpeechRecognition in c:\\users\\jose\\anaconda3\\envs\\ns_env\\lib\\site-packages (3.11.0)\n",
      "Requirement already satisfied: requests>=2.26.0 in c:\\users\\jose\\anaconda3\\envs\\ns_env\\lib\\site-packages (from SpeechRecognition) (2.32.3)\n",
      "Requirement already satisfied: typing-extensions in c:\\users\\jose\\anaconda3\\envs\\ns_env\\lib\\site-packages (from SpeechRecognition) (4.11.0)\n",
      "Requirement already satisfied: charset-normalizer<4,>=2 in c:\\users\\jose\\anaconda3\\envs\\ns_env\\lib\\site-packages (from requests>=2.26.0->SpeechRecognition) (3.3.2)\n",
      "Requirement already satisfied: idna<4,>=2.5 in c:\\users\\jose\\anaconda3\\envs\\ns_env\\lib\\site-packages (from requests>=2.26.0->SpeechRecognition) (3.7)\n",
      "Requirement already satisfied: urllib3<3,>=1.21.1 in c:\\users\\jose\\anaconda3\\envs\\ns_env\\lib\\site-packages (from requests>=2.26.0->SpeechRecognition) (2.2.2)\n",
      "Requirement already satisfied: certifi>=2017.4.17 in c:\\users\\jose\\anaconda3\\envs\\ns_env\\lib\\site-packages (from requests>=2.26.0->SpeechRecognition) (2024.8.30)\n",
      "Note: you may need to restart the kernel to use updated packages.\n"
     ]
    }
   ],
   "source": [
    "pip install SpeechRecognition"
   ]
  },
  {
   "cell_type": "code",
   "execution_count": 47,
   "id": "323f618f-47af-4877-9d9b-d09c3f3d5afa",
   "metadata": {},
   "outputs": [
    {
     "name": "stdout",
     "output_type": "stream",
     "text": [
      "Requirement already satisfied: sacremoses in c:\\users\\jose\\anaconda3\\envs\\ns_env\\lib\\site-packages (0.1.1)\n",
      "Requirement already satisfied: regex in c:\\users\\jose\\anaconda3\\envs\\ns_env\\lib\\site-packages (from sacremoses) (2024.9.11)\n",
      "Requirement already satisfied: click in c:\\users\\jose\\anaconda3\\envs\\ns_env\\lib\\site-packages (from sacremoses) (8.1.7)\n",
      "Requirement already satisfied: joblib in c:\\users\\jose\\anaconda3\\envs\\ns_env\\lib\\site-packages (from sacremoses) (1.4.2)\n",
      "Requirement already satisfied: tqdm in c:\\users\\jose\\anaconda3\\envs\\ns_env\\lib\\site-packages (from sacremoses) (4.66.5)\n",
      "Requirement already satisfied: colorama in c:\\users\\jose\\anaconda3\\envs\\ns_env\\lib\\site-packages (from click->sacremoses) (0.4.6)\n",
      "Note: you may need to restart the kernel to use updated packages.\n"
     ]
    }
   ],
   "source": [
    "pip install sacremoses"
   ]
  },
  {
   "cell_type": "code",
   "execution_count": 48,
   "id": "a30a1014-6a1d-40d4-9b5b-3ad4de25e136",
   "metadata": {},
   "outputs": [
    {
     "name": "stdout",
     "output_type": "stream",
     "text": [
      "Requirement already satisfied: gtts in c:\\users\\jose\\anaconda3\\envs\\ns_env\\lib\\site-packages (2.5.3)\n",
      "Requirement already satisfied: requests<3,>=2.27 in c:\\users\\jose\\anaconda3\\envs\\ns_env\\lib\\site-packages (from gtts) (2.32.3)\n",
      "Requirement already satisfied: click<8.2,>=7.1 in c:\\users\\jose\\anaconda3\\envs\\ns_env\\lib\\site-packages (from gtts) (8.1.7)\n",
      "Requirement already satisfied: colorama in c:\\users\\jose\\anaconda3\\envs\\ns_env\\lib\\site-packages (from click<8.2,>=7.1->gtts) (0.4.6)\n",
      "Requirement already satisfied: charset-normalizer<4,>=2 in c:\\users\\jose\\anaconda3\\envs\\ns_env\\lib\\site-packages (from requests<3,>=2.27->gtts) (3.3.2)\n",
      "Requirement already satisfied: idna<4,>=2.5 in c:\\users\\jose\\anaconda3\\envs\\ns_env\\lib\\site-packages (from requests<3,>=2.27->gtts) (3.7)\n",
      "Requirement already satisfied: urllib3<3,>=1.21.1 in c:\\users\\jose\\anaconda3\\envs\\ns_env\\lib\\site-packages (from requests<3,>=2.27->gtts) (2.2.2)\n",
      "Requirement already satisfied: certifi>=2017.4.17 in c:\\users\\jose\\anaconda3\\envs\\ns_env\\lib\\site-packages (from requests<3,>=2.27->gtts) (2024.8.30)\n",
      "Note: you may need to restart the kernel to use updated packages.\n"
     ]
    }
   ],
   "source": [
    "pip install gtts"
   ]
  },
  {
   "cell_type": "markdown",
   "id": "7d468e9a",
   "metadata": {},
   "source": [
    "### 2) Implementando el modelo con Transformer"
   ]
  },
  {
   "cell_type": "code",
   "execution_count": 6,
   "id": "d5dcf681",
   "metadata": {},
   "outputs": [
    {
     "data": {
      "text/plain": [
       "<torch._C.Generator at 0x1c5897f8bb0>"
      ]
     },
     "execution_count": 6,
     "metadata": {},
     "output_type": "execute_result"
    }
   ],
   "source": [
    "import torch\n",
    "import torch.nn as nn\n",
    "import torch.nn.functional as F\n",
    "import torch.optim as optim\n",
    "from torch.utils.data import Dataset, DataLoader\n",
    "from collections import Counter\n",
    "import math\n",
    "import numpy as np\n",
    "import re\n",
    "\n",
    "torch.manual_seed(23)"
   ]
  },
  {
   "cell_type": "code",
   "execution_count": 7,
   "id": "2c2cbd17",
   "metadata": {},
   "outputs": [
    {
     "name": "stdout",
     "output_type": "stream",
     "text": [
      "cpu\n"
     ]
    }
   ],
   "source": [
    "device = torch.device('cuda' if torch.cuda.is_available() else 'cpu')\n",
    "print(device)"
   ]
  },
  {
   "cell_type": "code",
   "execution_count": 8,
   "id": "9c6623a1",
   "metadata": {},
   "outputs": [],
   "source": [
    "##MAX_SEQ_LEN = 128\n",
    "MAX_SEQ_LEN = 64"
   ]
  },
  {
   "cell_type": "code",
   "execution_count": 9,
   "id": "3103d45f",
   "metadata": {
    "code_folding": [
     30,
     94
    ]
   },
   "outputs": [],
   "source": [
    "class PositionalEmbedding(nn.Module):\n",
    "    def __init__(self, d_model, max_seq_len = MAX_SEQ_LEN):\n",
    "        super().__init__()\n",
    "        self.pos_embed_matrix = torch.zeros(max_seq_len, d_model, device=device)\n",
    "        token_pos = torch.arange(0, max_seq_len, dtype = torch.float).unsqueeze(1)\n",
    "        div_term = torch.exp(torch.arange(0, d_model, 2).float() \n",
    "                             * (-math.log(10000.0)/d_model))\n",
    "        self.pos_embed_matrix[:, 0::2] = torch.sin(token_pos * div_term)\n",
    "        self.pos_embed_matrix[:, 1::2] = torch.cos(token_pos * div_term)\n",
    "        self.pos_embed_matrix = self.pos_embed_matrix.unsqueeze(0).transpose(0,1)\n",
    "        \n",
    "    def forward(self, x):\n",
    "#         print(self.pos_embed_matrix.shape)\n",
    "#         print(x.shape)\n",
    "        return x + self.pos_embed_matrix[:x.size(0), :]\n",
    "\n",
    "class MultiHeadAttention(nn.Module):\n",
    "    def __init__(self, d_model = 512, num_heads = 8):\n",
    "        super().__init__()\n",
    "        assert d_model % num_heads == 0, 'Embedding size not compatible with num heads'\n",
    "        \n",
    "        self.d_v = d_model // num_heads\n",
    "        self.d_k = self.d_v\n",
    "        self.num_heads = num_heads\n",
    "        \n",
    "        self.W_q = nn.Linear(d_model, d_model) ## query\n",
    "        self.W_k = nn.Linear(d_model, d_model) ## Key\n",
    "        self.W_v = nn.Linear(d_model, d_model) ## value\n",
    "        self.W_o = nn.Linear(d_model, d_model)\n",
    "        \n",
    "    def forward(self, Q, K, V, mask = None):\n",
    "        batch_size = Q.size(0)\n",
    "        '''\n",
    "        Q, K, V -> [batch_size, seq_len, num_heads*d_k]\n",
    "        after transpose Q, K, V -> [batch_size, num_heads, seq_len, d_k]\n",
    "        '''\n",
    "        Q = self.W_q(Q).view(batch_size, -1, self.num_heads, self.d_k).transpose(1, 2 )\n",
    "        K = self.W_k(K).view(batch_size, -1, self.num_heads, self.d_k).transpose(1, 2 )\n",
    "        V = self.W_v(V).view(batch_size, -1, self.num_heads, self.d_k).transpose(1, 2 )\n",
    "        \n",
    "        weighted_values, attention = self.scale_dot_product(Q, K, V, mask)\n",
    "        weighted_values = weighted_values.transpose(1, 2).contiguous().view(batch_size, -1, self.num_heads*self.d_k)\n",
    "        weighted_values = self.W_o(weighted_values)\n",
    "        \n",
    "        return weighted_values, attention\n",
    "        \n",
    "        \n",
    "    def scale_dot_product(self, Q, K, V, mask = None):\n",
    "        scores = torch.matmul(Q, K.transpose(-2, -1)) / math.sqrt(self.d_k)\n",
    "        if mask is not None:\n",
    "            scores = scores.masked_fill(mask == 0, -1e9)\n",
    "        attention = F.softmax(scores, dim = -1)\n",
    "        weighted_values = torch.matmul(attention, V)\n",
    "        \n",
    "        return weighted_values, attention\n",
    "        \n",
    "\n",
    "class PositionFeedForward(nn.Module):\n",
    "    def __init__(self, d_model, d_ff):\n",
    "        super().__init__()\n",
    "        self.linear1 = nn.Linear(d_model, d_ff)\n",
    "        self.linear2 = nn.Linear(d_ff, d_model)\n",
    "        \n",
    "    def forward(self, x):\n",
    "        return self.linear2(F.relu(self.linear1(x)))\n",
    "    \n",
    "class EncoderSubLayer(nn.Module):\n",
    "    def __init__(self, d_model, num_heads, d_ff, dropout = 0.1):\n",
    "        super().__init__()\n",
    "        self.self_attn = MultiHeadAttention(d_model, num_heads)\n",
    "        self.ffn = PositionFeedForward(d_model, d_ff)\n",
    "        self.norm1 = nn.LayerNorm(d_model)\n",
    "        self.norm2 = nn.LayerNorm(d_model)\n",
    "        self.droupout1 = nn.Dropout(dropout)\n",
    "        self.droupout2 = nn.Dropout(dropout)\n",
    "    \n",
    "    def forward(self, x, mask = None):\n",
    "        attention_score, _ = self.self_attn(x, x, x, mask)\n",
    "        x = x + self.droupout1(attention_score)\n",
    "        x = self.norm1(x)\n",
    "        x = x + self.droupout2(self.ffn(x))\n",
    "        return self.norm2(x)\n",
    "\n",
    "class Encoder(nn.Module):\n",
    "    def __init__(self, d_model, num_heads, d_ff, num_layers, dropout=0.1):\n",
    "        super().__init__()\n",
    "        self.layers = nn.ModuleList([EncoderSubLayer(d_model, num_heads, d_ff, dropout) for _ in range(num_layers)])\n",
    "        self.norm = nn.LayerNorm(d_model)\n",
    "    def forward(self, x, mask=None):\n",
    "        for layer in self.layers:\n",
    "            x = layer(x, mask)\n",
    "        return self.norm(x)\n",
    "\n",
    "class DecoderSubLayer(nn.Module):\n",
    "    def __init__(self, d_model, num_heads, d_ff, dropout=0.1):\n",
    "        super().__init__()\n",
    "        self.self_attn = MultiHeadAttention(d_model, num_heads)\n",
    "        self.cross_attn = MultiHeadAttention(d_model, num_heads)\n",
    "        self.feed_forward = PositionFeedForward(d_model, d_ff)\n",
    "        self.norm1 = nn.LayerNorm(d_model)\n",
    "        self.norm2 = nn.LayerNorm(d_model)\n",
    "        self.norm3 = nn.LayerNorm(d_model)\n",
    "        self.dropout1 = nn.Dropout(dropout)\n",
    "        self.dropout2 = nn.Dropout(dropout)\n",
    "        self.dropout3 = nn.Dropout(dropout)\n",
    "        \n",
    "    def forward(self, x, encoder_output, target_mask=None, encoder_mask=None):\n",
    "        attention_score, _ = self.self_attn(x, x, x, target_mask)\n",
    "        x = x + self.dropout1(attention_score)\n",
    "        x = self.norm1(x)\n",
    "        \n",
    "        encoder_attn, _ = self.cross_attn(x, encoder_output, encoder_output, encoder_mask)\n",
    "        x = x + self.dropout2(encoder_attn)\n",
    "        x = self.norm2(x)\n",
    "        \n",
    "        ff_output = self.feed_forward(x)\n",
    "        x = x + self.dropout3(ff_output)\n",
    "        return self.norm3(x)\n",
    "        \n",
    "class Decoder(nn.Module):\n",
    "    def __init__(self, d_model, num_heads, d_ff, num_layers, dropout=0.1):\n",
    "        super().__init__()\n",
    "        self.layers = nn.ModuleList([DecoderSubLayer(d_model, num_heads, d_ff, dropout) for _ in range(num_layers)])\n",
    "        self.norm = nn.LayerNorm(d_model)\n",
    "        \n",
    "    def forward(self, x, encoder_output, target_mask, encoder_mask):\n",
    "        for layer in self.layers:\n",
    "            x = layer(x, encoder_output, target_mask, encoder_mask)\n",
    "        return self.norm(x)"
   ]
  },
  {
   "cell_type": "code",
   "execution_count": 10,
   "id": "61070162",
   "metadata": {
    "code_folding": []
   },
   "outputs": [],
   "source": [
    "class Transformer(nn.Module):\n",
    "    def __init__(self, d_model, num_heads, d_ff, num_layers,\n",
    "                 input_vocab_size, target_vocab_size, \n",
    "                 max_len=MAX_SEQ_LEN, dropout=0.1):\n",
    "        super().__init__()\n",
    "        self.encoder_embedding = nn.Embedding(input_vocab_size, d_model)\n",
    "        self.decoder_embedding = nn.Embedding(target_vocab_size, d_model)\n",
    "        self.pos_embedding = PositionalEmbedding(d_model, max_len)\n",
    "        self.encoder = Encoder(d_model, num_heads, d_ff, num_layers, dropout)\n",
    "        self.decoder = Decoder(d_model, num_heads, d_ff, num_layers, dropout)\n",
    "        self.output_layer = nn.Linear(d_model, target_vocab_size)\n",
    "        \n",
    "    def forward(self, source, target):\n",
    "        # Encoder mask\n",
    "        source_mask, target_mask = self.mask(source, target)\n",
    "        # Embedding and positional Encoding\n",
    "        source = self.encoder_embedding(source) * math.sqrt(self.encoder_embedding.embedding_dim)\n",
    "        source = self.pos_embedding(source)\n",
    "        # Encoder\n",
    "        encoder_output = self.encoder(source, source_mask)\n",
    "        \n",
    "        # Decoder embedding and postional encoding\n",
    "        target = self.decoder_embedding(target) * math.sqrt(self.decoder_embedding.embedding_dim)\n",
    "        target = self.pos_embedding(target)\n",
    "        # Decoder\n",
    "        output = self.decoder(target, encoder_output, target_mask, source_mask)\n",
    "        \n",
    "        return self.output_layer(output)\n",
    "        \n",
    "        \n",
    "    \n",
    "    def mask(self, source, target):\n",
    "        source_mask = (source != 0).unsqueeze(1).unsqueeze(2)\n",
    "        target_mask = (target != 0).unsqueeze(1).unsqueeze(2)\n",
    "        size = target.size(1)\n",
    "        no_mask = torch.tril(torch.ones((1, size, size), device=device)).bool()\n",
    "        target_mask = target_mask & no_mask\n",
    "        return source_mask, target_mask\n",
    "        "
   ]
  },
  {
   "cell_type": "markdown",
   "id": "0f4b2910",
   "metadata": {},
   "source": [
    "### 3) Definiendo la data"
   ]
  },
  {
   "cell_type": "code",
   "execution_count": 11,
   "id": "869a7244",
   "metadata": {},
   "outputs": [],
   "source": [
    "## Archivo donde se guarda el diccionario descargado\n",
    "PATH = \"D:/Jose/UNI/Maestria IA/Cursos/03_Tercer_ciclo/03_Proyecto_Tesis/Proyecto/Modelo/Local/Transformer/corpus_total_formateado.txt\""
   ]
  },
  {
   "cell_type": "code",
   "execution_count": 12,
   "id": "d0af1eba",
   "metadata": {},
   "outputs": [],
   "source": [
    "## Identificando el archivo, separado por espacio en blanco\n",
    "with open(PATH, 'r', encoding='utf-8') as f:\n",
    "    lines = f.readlines()\n",
    "    \n",
    "eng_spa_pairs = [line.strip().split('\\t') for line in lines if line.count('\\t') == 3]\n",
    "##eng_spa_pairs = [line.strip().split('\\t') for line in lines if '\\t' in line]\n",
    "##eng_spa_pairs = [line.strip().split('\\t') for line in lines if line.count('\\t') == 1]"
   ]
  },
  {
   "cell_type": "code",
   "execution_count": 13,
   "id": "c930226f",
   "metadata": {},
   "outputs": [],
   "source": [
    "eng_spa_pairs=eng_spa_pairs[1:]"
   ]
  },
  {
   "cell_type": "code",
   "execution_count": 14,
   "id": "53f3c7e9-51e8-49fb-bf7a-088913a462dc",
   "metadata": {},
   "outputs": [
    {
     "data": {
      "text/plain": [
       "[['000002',\n",
       "  'b) ¿Cómo lograban mantenerse estos siervos de tiempo completo?',\n",
       "  '000002',\n",
       "  '(2) ¿Imaynatam tukuy tiemponkuwan Diosta serviq punta cristianokunaqa mantienekuqku?'],\n",
       " ['000003',\n",
       "  'Cabe señalar que solo la Biblia explica de manera satisfactoria cuál es el origen de los muchos idiomas que conocemos hoy.',\n",
       "  '000003',\n",
       "  'Bibliallam allintapuni willawanchik imanasqam runakunaqa kunan tiempopi achka rimayniyoq kasqankuta.'],\n",
       " ['000004',\n",
       "  'Pero al mismo tiempo nos advierte que “el amor al dinero es raíz de toda clase de males ”.',\n",
       "  '000004',\n",
       "  'Ichaqa nintaqmi: “Qollqella kuyayqa tukuy mana allin ruraykunapa mamanmi ”, nispa.'],\n",
       " ['000005',\n",
       "  'Hoy, todo el que desea vivir de acuerdo con sus mandamientos considera que conmemorar el aniversario de la muerte de Cristo es de suma importancia.',\n",
       "  '000005',\n",
       "  'Kay tiempopipas Cristopa kamachisqanman hina kawsaqkunaqa ancha valorniyoqtam qawanku paypa wañukusqan punchaw yuyariytaqa.'],\n",
       " ['000006',\n",
       "  'RESPUESTA: El Reino de Dios es un gobierno celestial, y su Rey es Jesús.',\n",
       "  '000006',\n",
       "  'KUTICHIYNIN: Hanaq pachapi kaq huk gobiernom, kamachiqninñataqmi Jesus.'],\n",
       " ['000007', '¿CUÁL ES LA SOLUCIÓN?', '000007', '¿IMATAM RURACHWAN?'],\n",
       " ['000008',\n",
       "  'Adán y Eva desobedecieron a Dios, de modo que fueron expulsados del Edén.',\n",
       "  '000008',\n",
       "  'Adanwan Evaqa Jehová Diostam mana kasukurqakuchu, hinaspam Edenmanta qarqochikurqaku.'],\n",
       " ['000009',\n",
       "  'Sin embargo, poco después de escribir esa carta, los de la casa de Cloe le informaron de que en la congregación de Corinto había graves divisiones.',\n",
       "  '000009',\n",
       "  'Ichaqa chay carta qellqasqan qepamanmi Cloepa familian Pabloman willaykurqaku Corinto congregacionpi llumpay liryanakuy kasqanmanta.'],\n",
       " ['000010',\n",
       "  'Jesús cumplió de forma sorprendente esta profecía durante su ministerio.',\n",
       "  '000010',\n",
       "  'Jesusqa Isaiaspa nisqantam kay Pachapi Diospa munayninta ruraspan allinta cumplirqa.'],\n",
       " ['000011',\n",
       "  'Cierto diccionario bíblico lo define como “fortaleza espiritual, emocional y moral para hablar y actuar sin temor ante dificultades y peligros ” (The New Interpreter’s Dictionary of the Bible).',\n",
       "  '000011',\n",
       "  'Qarinchakuyqa llumpay sasachakuypi tarikuspa mana manchakuspa ruwaymi hinaspa mana manchakuspa rimaymi.']]"
      ]
     },
     "execution_count": 14,
     "metadata": {},
     "output_type": "execute_result"
    }
   ],
   "source": [
    "eng_spa_pairs[:10]"
   ]
  },
  {
   "cell_type": "code",
   "execution_count": 15,
   "id": "095f4037",
   "metadata": {},
   "outputs": [],
   "source": [
    "eng_sentences = [pair[1] for pair in eng_spa_pairs]  ## índices de la ubicación del archivo descargado\n",
    "spa_sentences = [pair[3] for pair in eng_spa_pairs]  ## índices de la ubicación del archivo descargado"
   ]
  },
  {
   "cell_type": "code",
   "execution_count": 16,
   "id": "0d9e1c95",
   "metadata": {},
   "outputs": [
    {
     "name": "stdout",
     "output_type": "stream",
     "text": [
      "['b) ¿Cómo lograban mantenerse estos siervos de tiempo completo?', 'Cabe señalar que solo la Biblia explica de manera satisfactoria cuál es el origen de los muchos idiomas que conocemos hoy.', 'Pero al mismo tiempo nos advierte que “el amor al dinero es raíz de toda clase de males ”.', 'Hoy, todo el que desea vivir de acuerdo con sus mandamientos considera que conmemorar el aniversario de la muerte de Cristo es de suma importancia.', 'RESPUESTA: El Reino de Dios es un gobierno celestial, y su Rey es Jesús.', '¿CUÁL ES LA SOLUCIÓN?', 'Adán y Eva desobedecieron a Dios, de modo que fueron expulsados del Edén.', 'Sin embargo, poco después de escribir esa carta, los de la casa de Cloe le informaron de que en la congregación de Corinto había graves divisiones.', 'Jesús cumplió de forma sorprendente esta profecía durante su ministerio.', 'Cierto diccionario bíblico lo define como “fortaleza espiritual, emocional y moral para hablar y actuar sin temor ante dificultades y peligros ” (The New Interpreter’s Dictionary of the Bible).']\n",
      "['(2) ¿Imaynatam tukuy tiemponkuwan Diosta serviq punta cristianokunaqa mantienekuqku?', 'Bibliallam allintapuni willawanchik imanasqam runakunaqa kunan tiempopi achka rimayniyoq kasqankuta.', 'Ichaqa nintaqmi: “Qollqella kuyayqa tukuy mana allin ruraykunapa mamanmi ”, nispa.', 'Kay tiempopipas Cristopa kamachisqanman hina kawsaqkunaqa ancha valorniyoqtam qawanku paypa wañukusqan punchaw yuyariytaqa.', 'KUTICHIYNIN: Hanaq pachapi kaq huk gobiernom, kamachiqninñataqmi Jesus.', '¿IMATAM RURACHWAN?', 'Adanwan Evaqa Jehová Diostam mana kasukurqakuchu, hinaspam Edenmanta qarqochikurqaku.', 'Ichaqa chay carta qellqasqan qepamanmi Cloepa familian Pabloman willaykurqaku Corinto congregacionpi llumpay liryanakuy kasqanmanta.', 'Jesusqa Isaiaspa nisqantam kay Pachapi Diospa munayninta ruraspan allinta cumplirqa.', 'Qarinchakuyqa llumpay sasachakuypi tarikuspa mana manchakuspa ruwaymi hinaspa mana manchakuspa rimaymi.']\n"
     ]
    }
   ],
   "source": [
    "print(eng_sentences[:10])\n",
    "print(spa_sentences[:10])\n"
   ]
  },
  {
   "cell_type": "code",
   "execution_count": 17,
   "id": "60d11478",
   "metadata": {},
   "outputs": [],
   "source": [
    "## Limpiando las tildes\n",
    "def preprocess_sentence(sentence):\n",
    "    sentence = sentence.lower().strip()\n",
    "    sentence = re.sub(r'[\" \"]+', \" \", sentence)\n",
    "    sentence = re.sub(r\"[á]+\", \"a\", sentence)\n",
    "    sentence = re.sub(r\"[é]+\", \"e\", sentence)\n",
    "    sentence = re.sub(r\"[í]+\", \"i\", sentence)\n",
    "    sentence = re.sub(r\"[ó]+\", \"o\", sentence)\n",
    "    sentence = re.sub(r\"[ú]+\", \"u\", sentence)\n",
    "    sentence = re.sub(r\"[^a-z]+\", \" \", sentence)\n",
    "    sentence = sentence.strip()\n",
    "    sentence = '<sos> ' + sentence + ' <eos>'\n",
    "    return sentence"
   ]
  },
  {
   "cell_type": "code",
   "execution_count": 18,
   "id": "478f673b",
   "metadata": {},
   "outputs": [],
   "source": [
    "s1 = '¿Hola @ cómo estás? 123'"
   ]
  },
  {
   "cell_type": "code",
   "execution_count": 19,
   "id": "96ac79c5",
   "metadata": {},
   "outputs": [
    {
     "name": "stdout",
     "output_type": "stream",
     "text": [
      "¿Hola @ cómo estás? 123\n",
      "<sos> hola como estas <eos>\n"
     ]
    }
   ],
   "source": [
    "print(s1)\n",
    "print(preprocess_sentence(s1))"
   ]
  },
  {
   "cell_type": "code",
   "execution_count": 20,
   "id": "d9fc9c4d",
   "metadata": {},
   "outputs": [],
   "source": [
    "eng_sentences = [preprocess_sentence(sentence) for sentence in eng_sentences]\n",
    "spa_sentences = [preprocess_sentence(sentence) for sentence in spa_sentences]"
   ]
  },
  {
   "cell_type": "code",
   "execution_count": 21,
   "id": "f7a3b18d",
   "metadata": {},
   "outputs": [
    {
     "data": {
      "text/plain": [
       "['<sos> imaynatam tukuy tiemponkuwan diosta serviq punta cristianokunaqa mantienekuqku <eos>',\n",
       " '<sos> bibliallam allintapuni willawanchik imanasqam runakunaqa kunan tiempopi achka rimayniyoq kasqankuta <eos>',\n",
       " '<sos> ichaqa nintaqmi qollqella kuyayqa tukuy mana allin ruraykunapa mamanmi nispa <eos>',\n",
       " '<sos> kay tiempopipas cristopa kamachisqanman hina kawsaqkunaqa ancha valorniyoqtam qawanku paypa wa ukusqan punchaw yuyariytaqa <eos>',\n",
       " '<sos> kutichiynin hanaq pachapi kaq huk gobiernom kamachiqnin ataqmi jesus <eos>',\n",
       " '<sos> imatam rurachwan <eos>',\n",
       " '<sos> adanwan evaqa jehova diostam mana kasukurqakuchu hinaspam edenmanta qarqochikurqaku <eos>',\n",
       " '<sos> ichaqa chay carta qellqasqan qepamanmi cloepa familian pabloman willaykurqaku corinto congregacionpi llumpay liryanakuy kasqanmanta <eos>',\n",
       " '<sos> jesusqa isaiaspa nisqantam kay pachapi diospa munayninta ruraspan allinta cumplirqa <eos>',\n",
       " '<sos> qarinchakuyqa llumpay sasachakuypi tarikuspa mana manchakuspa ruwaymi hinaspa mana manchakuspa rimaymi <eos>']"
      ]
     },
     "execution_count": 21,
     "metadata": {},
     "output_type": "execute_result"
    }
   ],
   "source": [
    "spa_sentences[:10]"
   ]
  },
  {
   "cell_type": "markdown",
   "id": "4f9ec85e-bd55-455d-ae0a-2697cc6e51a6",
   "metadata": {},
   "source": [
    "### 4) Diccionario"
   ]
  },
  {
   "cell_type": "code",
   "execution_count": 22,
   "id": "97931cd3",
   "metadata": {},
   "outputs": [],
   "source": [
    "## Diccionario (índices a palabras y palabras a índices)\n",
    "def build_vocab(sentences):\n",
    "    words = [word for sentence in sentences for word in sentence.split()]\n",
    "    word_count = Counter(words)\n",
    "    sorted_word_counts = sorted(word_count.items(), key=lambda x:x[1], reverse=True)  ## Ordenamiento de las palabras desc x nro. palabras\n",
    "    word2idx = {word: idx for idx, (word, _) in enumerate(sorted_word_counts, 2)}\n",
    "    word2idx['<pad>'] = 1   ## índices español de la ubicación del archivo descargado\n",
    "    word2idx['<unk>'] = 3   ## índices ingles de la ubicación del archivo descargado\n",
    "    idx2word = {idx: word for word, idx in word2idx.items()}\n",
    "    return word2idx, idx2word"
   ]
  },
  {
   "cell_type": "code",
   "execution_count": 23,
   "id": "7fa8738e",
   "metadata": {},
   "outputs": [],
   "source": [
    "eng_word2idx, eng_idx2word = build_vocab(eng_sentences)\n",
    "spa_word2idx, spa_idx2word = build_vocab(spa_sentences)\n",
    "eng_vocab_size = len(eng_word2idx)  # Cantidad de enunciados\n",
    "spa_vocab_size = len(spa_word2idx)  # Cantidad de enunciados"
   ]
  },
  {
   "cell_type": "code",
   "execution_count": 24,
   "id": "79d6b633",
   "metadata": {},
   "outputs": [
    {
     "name": "stdout",
     "output_type": "stream",
     "text": [
      "55320 234316\n"
     ]
    }
   ],
   "source": [
    "print(eng_vocab_size, spa_vocab_size)  ## Nro.de tokens"
   ]
  },
  {
   "cell_type": "code",
   "execution_count": 25,
   "id": "e564017c",
   "metadata": {},
   "outputs": [],
   "source": [
    "## Clase Dataset traducción\n",
    "class EngSpaDataset(Dataset):\n",
    "    def __init__(self, eng_sentences, spa_sentences, eng_word2idx, spa_word2idx):\n",
    "        self.eng_sentences = eng_sentences  ## sentencia español\n",
    "        self.spa_sentences = spa_sentences  ## sentencia ingles \n",
    "        self.eng_word2idx = eng_word2idx\n",
    "        self.spa_word2idx = spa_word2idx\n",
    "        \n",
    "    def __len__(self):   ## tamaño del dataset\n",
    "        return len(self.eng_sentences)\n",
    "    \n",
    "    def __getitem__(self, idx):  ## indexar cada elemento del dataset\n",
    "        eng_sentence = self.eng_sentences[idx]\n",
    "        spa_sentence = self.spa_sentences[idx]\n",
    "        # return tokens idxs\n",
    "        eng_idxs = [self.eng_word2idx.get(word, self.eng_word2idx['<unk>']) for word in eng_sentence.split()]\n",
    "        spa_idxs = [self.spa_word2idx.get(word, self.spa_word2idx['<unk>']) for word in spa_sentence.split()]\n",
    "        \n",
    "        return torch.tensor(eng_idxs), torch.tensor(spa_idxs)"
   ]
  },
  {
   "cell_type": "code",
   "execution_count": 26,
   "id": "b579577b",
   "metadata": {},
   "outputs": [],
   "source": [
    "## Para el padding\n",
    "def collate_fn(batch):\n",
    "    eng_batch, spa_batch = zip(*batch)\n",
    "    eng_batch = [seq[:MAX_SEQ_LEN].clone().detach() for seq in eng_batch]\n",
    "    spa_batch = [seq[:MAX_SEQ_LEN].clone().detach() for seq in spa_batch]\n",
    "    #eng_batch = torch.nn.utils.rnn.pad_sequence(eng_batch, batch_first=True, padding_value=0) \n",
    "    eng_batch = torch.nn.utils.rnn.pad_sequence(eng_batch, batch_first=True, padding_value=1) ## el padding viene de build_vocab\n",
    "    spa_batch = torch.nn.utils.rnn.pad_sequence(spa_batch, batch_first=True, padding_value=1)\n",
    "    return eng_batch, spa_batch\n",
    "    "
   ]
  },
  {
   "cell_type": "markdown",
   "id": "1adc45cc-506e-4a81-aecb-681031747181",
   "metadata": {},
   "source": [
    "### 5) Entrenamiento del modelo (No se entrena)"
   ]
  },
  {
   "cell_type": "code",
   "execution_count": 28,
   "id": "8d514b7c",
   "metadata": {},
   "outputs": [],
   "source": [
    "## Entrenamiento del modelo\n",
    "def train(model, dataloader, loss_function, optimiser, epochs):\n",
    "    model.train()\n",
    "    for epoch in range(epochs):\n",
    "        total_loss = 0 \n",
    "        for i, (eng_batch, spa_batch) in enumerate(dataloader):\n",
    "            eng_batch = eng_batch.to(device)\n",
    "            spa_batch = spa_batch.to(device)\n",
    "            # Decoder preprocessing\n",
    "            target_input = spa_batch[:, :-1]\n",
    "            target_output = spa_batch[:, 1:].contiguous().view(-1)\n",
    "            # Zero grads\n",
    "            optimiser.zero_grad()\n",
    "            # run model\n",
    "            output = model(eng_batch, target_input)\n",
    "            output = output.view(-1, output.size(-1))\n",
    "            # loss\\\n",
    "            loss = loss_function(output, target_output)\n",
    "            # gradient and update parameters\n",
    "            loss.backward()\n",
    "            optimiser.step()\n",
    "            total_loss += loss.item()\n",
    "            \n",
    "        avg_loss = total_loss/len(dataloader)\n",
    "        print(f'Epoch: {epoch}/{epochs}, Loss: {avg_loss:.4f}')\n",
    "            \n",
    "            "
   ]
  },
  {
   "cell_type": "code",
   "execution_count": 29,
   "id": "2379ea72",
   "metadata": {},
   "outputs": [],
   "source": [
    "##BATCH_SIZE = 64\n",
    "BATCH_SIZE = 32\n",
    "dataset = EngSpaDataset(eng_sentences, spa_sentences, eng_word2idx, spa_word2idx)\n",
    "dataloader = DataLoader(dataset, batch_size=BATCH_SIZE, shuffle=True, collate_fn=collate_fn)"
   ]
  },
  {
   "cell_type": "code",
   "execution_count": 30,
   "id": "e08eef6a",
   "metadata": {},
   "outputs": [],
   "source": [
    "\"\"\"model = Transformer(d_model=512, num_heads=8, d_ff=2048, num_layers=6,\n",
    "                    input_vocab_size=eng_vocab_size, target_vocab_size=spa_vocab_size,\n",
    "                    max_len=MAX_SEQ_LEN, dropout=0.1)\n",
    "\"\"\"\n",
    "model = Transformer(d_model=128, num_heads=4, d_ff=512, num_layers=4,\n",
    "                    input_vocab_size=eng_vocab_size, target_vocab_size=spa_vocab_size,\n",
    "                    max_len=MAX_SEQ_LEN, dropout=0.1)\n"
   ]
  },
  {
   "cell_type": "code",
   "execution_count": 31,
   "id": "a1181a12",
   "metadata": {},
   "outputs": [],
   "source": [
    "model = model.to(device)\n",
    "loss_function = nn.CrossEntropyLoss(ignore_index=0)\n",
    "optimiser = optim.Adam(model.parameters(), lr=0.0001)\n"
   ]
  },
  {
   "cell_type": "code",
   "execution_count": 32,
   "id": "a989b5ae-0f48-4d40-8589-8241e06f2702",
   "metadata": {},
   "outputs": [],
   "source": [
    "## Guardando el modelo"
   ]
  },
  {
   "cell_type": "code",
   "execution_count": 33,
   "id": "3fd511e2-5fb4-42b6-8e0d-236497c53be4",
   "metadata": {},
   "outputs": [],
   "source": [
    "#print(type(model))"
   ]
  },
  {
   "cell_type": "code",
   "execution_count": 34,
   "id": "4a0ed008-09c6-4808-b684-c27ebb0d6825",
   "metadata": {},
   "outputs": [],
   "source": [
    "#torch.save(model.state_dict(), \"mi_modelo.pt\")"
   ]
  },
  {
   "cell_type": "code",
   "execution_count": 35,
   "id": "563f86e5-4aec-4a32-9ce2-8a69aa76bf22",
   "metadata": {},
   "outputs": [
    {
     "data": {
      "text/plain": [
       "Transformer(\n",
       "  (encoder_embedding): Embedding(15369, 512)\n",
       "  (decoder_embedding): Embedding(10312, 512)\n",
       "  (pos_embedding): PositionalEmbedding()\n",
       "  (encoder): Encoder(\n",
       "    (layers): ModuleList(\n",
       "      (0-5): 6 x EncoderSubLayer(\n",
       "        (self_attn): MultiHeadAttention(\n",
       "          (W_q): Linear(in_features=512, out_features=512, bias=True)\n",
       "          (W_k): Linear(in_features=512, out_features=512, bias=True)\n",
       "          (W_v): Linear(in_features=512, out_features=512, bias=True)\n",
       "          (W_o): Linear(in_features=512, out_features=512, bias=True)\n",
       "        )\n",
       "        (ffn): PositionFeedForward(\n",
       "          (linear1): Linear(in_features=512, out_features=2048, bias=True)\n",
       "          (linear2): Linear(in_features=2048, out_features=512, bias=True)\n",
       "        )\n",
       "        (norm1): LayerNorm((512,), eps=1e-05, elementwise_affine=True)\n",
       "        (norm2): LayerNorm((512,), eps=1e-05, elementwise_affine=True)\n",
       "        (droupout1): Dropout(p=0.1, inplace=False)\n",
       "        (droupout2): Dropout(p=0.1, inplace=False)\n",
       "      )\n",
       "    )\n",
       "    (norm): LayerNorm((512,), eps=1e-05, elementwise_affine=True)\n",
       "  )\n",
       "  (decoder): Decoder(\n",
       "    (layers): ModuleList(\n",
       "      (0-5): 6 x DecoderSubLayer(\n",
       "        (self_attn): MultiHeadAttention(\n",
       "          (W_q): Linear(in_features=512, out_features=512, bias=True)\n",
       "          (W_k): Linear(in_features=512, out_features=512, bias=True)\n",
       "          (W_v): Linear(in_features=512, out_features=512, bias=True)\n",
       "          (W_o): Linear(in_features=512, out_features=512, bias=True)\n",
       "        )\n",
       "        (cross_attn): MultiHeadAttention(\n",
       "          (W_q): Linear(in_features=512, out_features=512, bias=True)\n",
       "          (W_k): Linear(in_features=512, out_features=512, bias=True)\n",
       "          (W_v): Linear(in_features=512, out_features=512, bias=True)\n",
       "          (W_o): Linear(in_features=512, out_features=512, bias=True)\n",
       "        )\n",
       "        (feed_forward): PositionFeedForward(\n",
       "          (linear1): Linear(in_features=512, out_features=2048, bias=True)\n",
       "          (linear2): Linear(in_features=2048, out_features=512, bias=True)\n",
       "        )\n",
       "        (norm1): LayerNorm((512,), eps=1e-05, elementwise_affine=True)\n",
       "        (norm2): LayerNorm((512,), eps=1e-05, elementwise_affine=True)\n",
       "        (norm3): LayerNorm((512,), eps=1e-05, elementwise_affine=True)\n",
       "        (dropout1): Dropout(p=0.1, inplace=False)\n",
       "        (dropout2): Dropout(p=0.1, inplace=False)\n",
       "        (dropout3): Dropout(p=0.1, inplace=False)\n",
       "      )\n",
       "    )\n",
       "    (norm): LayerNorm((512,), eps=1e-05, elementwise_affine=True)\n",
       "  )\n",
       "  (output_layer): Linear(in_features=512, out_features=10312, bias=True)\n",
       ")"
      ]
     },
     "execution_count": 35,
     "metadata": {},
     "output_type": "execute_result"
    }
   ],
   "source": [
    "## para cargar el modelo\n",
    "#cmodel.load_state_dict(torch.load(\"D:/Jose/UNI/Maestria IA/Cursos/03_Tercer_ciclo/03_Proyecto_Tesis/Proyecto/Modelo/mi_modelo.pt\")) ## carga en GPU pero solo cuando es diccionario\n",
    "##model.load_state_dict(torch.load(\"D:/Jose/UNI/Maestria IA/Cursos/03_Tercer_ciclo/03_Proyecto_Tesis/Proyecto/Modelo/mi_modelo.pt\",map_location=torch.device(\"cpu\")))  ## Guarda en CPU \n",
    "##model.eval()\n",
    "model = torch.load(\"D:/Jose/UNI/Maestria IA/Cursos/03_Tercer_ciclo/03_Proyecto_Tesis/Proyecto/Modelo/Local/Transformer/mi_modelo.pt\", map_location=\"cpu\", weights_only=False) ## cuando se sube el modelo completo\n",
    "model.eval()"
   ]
  },
  {
   "cell_type": "markdown",
   "id": "7c56234d-056d-496f-b7d5-b13054be3d24",
   "metadata": {},
   "source": [
    "### 6) Definiendo las funciones de traducción del modelo"
   ]
  },
  {
   "cell_type": "code",
   "execution_count": 36,
   "id": "50740746",
   "metadata": {
    "code_folding": []
   },
   "outputs": [],
   "source": [
    "def sentence_to_indices(sentence, word2idx):\n",
    "    return [word2idx.get(word, word2idx['<unk>']) for word in sentence.split()]\n",
    "\n",
    "def indices_to_sentence(indices, idx2word):\n",
    "    filtered_indices = [idx for idx in indices if idx not in (spa_word2idx['<sos>'], spa_word2idx['<unk>'])]\n",
    "    ## return ' '.join([idx2word[idx] for idx in indices if idx in idx2word and idx2word[idx] != '<pad>'])\n",
    "    return ' '.join(spa_idx2word[idx] for idx in filtered_indices if idx in spa_idx2word)\n",
    "\n",
    "def translate_sentence(model, sentence, eng_word2idx, spa_idx2word, max_len=MAX_SEQ_LEN, device='cpu'):\n",
    "    model.eval()\n",
    "    sentence = preprocess_sentence(sentence)\n",
    "    input_indices = sentence_to_indices(sentence, eng_word2idx)\n",
    "    input_tensor = torch.tensor(input_indices).unsqueeze(0).to(device)\n",
    "\n",
    "    # Initialize the target tensor with <sos> token\n",
    "    tgt_indices = [spa_word2idx['<sos>']]\n",
    "    tgt_tensor = torch.tensor(tgt_indices).unsqueeze(0).to(device)\n",
    "\n",
    "    with torch.no_grad():\n",
    "        for _ in range(max_len):\n",
    "            output = model(input_tensor, tgt_tensor)\n",
    "            output = output.squeeze(0)\n",
    "            next_token = output.argmax(dim=-1)[-1].item()\n",
    "            tgt_indices.append(next_token)\n",
    "            tgt_tensor = torch.tensor(tgt_indices).unsqueeze(0).to(device)\n",
    "            if next_token == spa_word2idx['<eos>']:\n",
    "                break\n",
    "\n",
    "    return indices_to_sentence(tgt_indices, spa_idx2word)"
   ]
  },
  {
   "cell_type": "markdown",
   "id": "b0455acc-aa70-40c6-8d26-fc6f5c36db6d",
   "metadata": {},
   "source": [
    "### 7) Utilizando el modelo entrenado para traducir en del español al ingles un audio"
   ]
  },
  {
   "cell_type": "code",
   "execution_count": 37,
   "id": "a7e10a50",
   "metadata": {},
   "outputs": [],
   "source": [
    "import speech_recognition as sr\n",
    "\n",
    "def audio_to_text(audio_data):\n",
    "    recognizer = sr.Recognizer()\n",
    "    \n",
    "    # Convertir el audio grabado a un formato que SpeechRecognition pueda usar\n",
    "    audio_data = sr.AudioData(audio_data.tobytes(), 44100, 1)\n",
    "    \n",
    "    try:\n",
    "        # Reconocer el audio usando Google Web Speech API\n",
    "        text = recognizer.recognize_google(audio_data, language='es-ES')  # Cambia 'es-ES' si usas otro idioma\n",
    "        return text\n",
    "    except sr.UnknownValueError:\n",
    "        return \"No se pudo entender el audio\"\n",
    "    except sr.RequestError as e:\n",
    "        return f\"No se pudo solicitar resultados; {e}\"\n",
    "\n",
    "# Asegúrate de integrar esta función en tu flujo principal"
   ]
  },
  {
   "cell_type": "markdown",
   "id": "f625614b-1c0d-4cd4-9502-aae629e6e055",
   "metadata": {},
   "source": [
    "#### Probando grabacion audio"
   ]
  },
  {
   "cell_type": "code",
   "execution_count": 38,
   "id": "6321db74",
   "metadata": {},
   "outputs": [
    {
     "name": "stdout",
     "output_type": "stream",
     "text": [
      "Grabando...\n",
      "Reproduciendo...\n"
     ]
    }
   ],
   "source": [
    "import sounddevice as sd\n",
    "import numpy as np\n",
    "\n",
    "def record_audio(duration=5, fs=44100):\n",
    "    print(\"Grabando...\")\n",
    "    audio = sd.rec(int(duration * fs), samplerate=fs, channels=1, dtype='float32')\n",
    "    sd.wait()  # Esperar a que termine la grabación\n",
    "    return audio\n",
    "\n",
    "def play_audio(audio):\n",
    "    print(\"Reproduciendo...\")\n",
    "    sd.play(audio, 44100)\n",
    "    sd.wait()  # Esperar a que termine de reproducir\n",
    "\n",
    "# Graba audio\n",
    "audio_data = record_audio(duration=5)\n",
    "play_audio(audio_data)  # Reproduce el audio grabado"
   ]
  },
  {
   "cell_type": "markdown",
   "id": "ad955c57-481e-413d-8fde-91c59b809cf6",
   "metadata": {},
   "source": [
    "## 8) Utilizando el modelo entrenado para la traducción de la voz en tiempo real"
   ]
  },
  {
   "cell_type": "code",
   "execution_count": 40,
   "id": "a2ef4658-54f4-46de-bd38-bf8aa2c61a2e",
   "metadata": {},
   "outputs": [
    {
     "name": "stdout",
     "output_type": "stream",
     "text": [
      "Grabando...\n",
      "Texto detectado: hola hola hola hola\n",
      "Texto traducido: allin pu hinaptinqa dios imanaqtintaq hinaptinqa\n"
     ]
    },
    {
     "data": {
      "text/html": [
       "\n",
       "                <audio  controls=\"controls\" autoplay=\"autoplay\">\n",
       "                    <source src=\"data:audio/mpeg;base64,//OExAAAAAAAAAAAAAAAAAAAAAAAAAAAAAAAAAAAAAAAAAAAAAAAAAAAAAAAAAAAAAAAAAAAAAAAAAAAAAAAAAAAAAAAAAAAAAAAAAAAAAAAAAAAAAAAAAAAAAAAAAAAAAAAAAAAAAAAAAAAAAAAAAAAAAAAAAAAAAAAAAAAAAAAAAAAAAAAAAAAAAAAAAAAAAAAAAAAAAAAAAAAAAAAAAAAAAAAAAAAAAAAAAAAAAAAAAAAAAAAAAAAAAAAAAAA//OExAAnAs4QAUkwAOoKAoKEEUYrFAoQMQggQCgVisVisVitGjJwAAAAAAAACBBAmTJkyZMmnv//73cRER2ggAwsndnkyZMgQIECBAgQCAGAwGAwGAyZMmQIECCEREXd3d3dxEREREXe/vd//9oiM/73d3/2iIiITu7u7PTIECBAghBAgTJkyZMmTTBwEAQBAEAfB8HwfBwEAQBAMA+D4PvR///ygPg+H5RZcp1REMm6yP8aejmZGQGhg/971T4Q//OExBctPCZsAZugASibxjBOBfAo0A1CMDHg/FjLhfGbA2CADQpw3QBTf4m8OXGYGUJAIBAHAVAapEIIiEf5cJgnCKEAHAIKg4cTQlo54Ax/+T6DHC4goApGHoDgHKIiVyI/9BkLdAvxO4rQ6XC0RM7/v2TUaOX9PivkMEyIaLIGSIUih4ixcO///sgyf/u2pSF/1////7Vf2t83MzZMkUy+XzjuaOZGpmsWxjk3DIWLMZ6bd+JMhDQFEXyqNKC6//OExBUpUiaUAdnAAEJMNyhKTxnuChqgyaLAUFRCgEnbVarakgleZQY9Tumc643ocpylPID4ilcqinSBRz7uOVLociNPKp58Wh54vlGYGp6VjttfkapKl+Uz3crOq/5d1bvb5nlZ7j3GtzLKluctY93h3et2Luq+r1fW6StYzwpK16X0lDezqaqhQImv////5ZhYKrFgk4mrZ/WiqqqpO5ZTptvo0nf6VvEYfkBi8Uls2WAxsYYKHq2NIZEZTVGZ//OExCIwS3KIANbOvJ+RBSnC9QYNmlpBngorDI1EjDwhCGZfx+gsCmBjxiwcig1pPYxEiBQSizAZb4VCCsbAwIwCo2JTFgzLIYfOGFamCMQo2euajXD73Rpezg2Ibt2KbPvNGmI77o6HMczKOjUkD4cJmEzDWLllLlzyB6HvGkZLqJQ8B0PkCxo0nmo7bt/////////oyMdLoejqroxfAcUAe6kmLTbCYQNESVW5zKyyoqwQsLO5XjohDjQS4ILJ//OExBMs2haQAN7emJuZBQnNWUDORNxmShcIMhSjg08yMNKwFgjLQIcmUFQKHGWz6hxgoIGCBf9PuEIShQZTqUXcoQgxhRSBCIeEH4ljWXRX46csksMi4ocPxAuFT+X0ed45Q6SBDLFLLBAV0NseTTTRZ9fPvil9Y1enlxCo23hbhaib/3qbE+5rR4+oVZdxaywoGIoJguJgslf//1f+uICdZ1IoB3+fex3ngpJKqfevwcYV0dlenlLJhsIgCm+O//OExBIpCeaQANaYmJWHfi2skxbY3HwHHEcLc8YxqfCYdeGRAkA4NDrFBBEzA4IAQLMBUgZYqZ0UDki611ggmaAWJOggYvtjgVABAJjMBSyVO0+sCwO4TYjkRTo/PlUplZIWNaAkaC+fo343XW0OGsDfOR5PX53nnmFdshzb58/VvazzTXvUHEMIhcwFhQxX//+z/qAI0XNxSNV3MEf01ZjvOzimxj9EDjCTU06sgwkyN5MwgTzX0XGMHMjdY48p//OExCAsa4aMAN7OvMgc2LDrCGMpRuNwdq1szDAiQO+mUWXMkFgMGLcdkwANMmSzHh5BeLS9HlACj0ut3KTcpnYZvy+/ViMZpLtPVq0tavcvXvmaOcp5+vjcvzgQA4Fhg2GpNh0oeOnMepo4QG6CxhsJY0HyBBjjZrVzqv7o05pqz2c6v/1////6z6W6TtFRFUicymqccqaVqbKHsd9a7zLdZfIiTH8ENQlDoQqBgA/PCLL1ONKVgQQAG6jJ+jMD//OExCEmYz6MANbOvYtIgZpqlwMJTQ2YEmYcNvK4zKQqJBBGNDkPyR4YcXc/0Xy/KrSymcz7+OPO8/WXdc3/efvn812ret8wrGiMI4SA7APHzRqXIi8xpzyAP3Ig5IA/AAEou46QJkN6Kif9f/pvX0f/////ee02/nJMKOOHwgRtprHXNaqhkGWNM0kGoxmNSTDzdysDb6BBwVPabiIieyHnQEYKZ8omsep9ToxGmjxf5chgKUcSspFyizLnBehm//OExDokScaAAN7QlK0+138qr+1M/5MCzJ/5Mf7FP/wqvfK0NLnDoPg6B4TkVZIqDUTB+9lHFHGnio4qnCwoh0SHf8UFGGmOt//6xUEQiwKmmVixU0w2Km484dcxmlCZ7X/lCFXGW4/nZQyMz3ZoLMCIeMClYoJDVMyMVBBWeEw8shIIw4RQNbS0HAMcYuiBCcAbAgkEQMlgEuGJoWkiOC+R66GdJf0USi9+Ymi+7mj+839csNoKUR4uNJkzhkkU//OExFsoRCJ0AOVO3WuqqgboeVLBFMm83+veiGoh7Hf/////tHTHQdMoNhwaM55FzD1+67uapp0oYY9zzlPMfSYaftIOPOyFbzGe9lZ7M6nEkQ+h/dyrHBQEmIsmv9/yYbLRbggyFCsZuArAHhKIzCICQkA5KAYvAgnEZ0ZkTakM2BgQzAY0BwnUMtpGhoL0ipsaPWgXlqbWorr61k7tzJ++h9ShZXRTiICFViCTj3SzqKw2xMoa54OBwxHzDPzO//OExG0n64p0AOVOvJsZP///nv+er2q5hlbOxhhynlSpqjhJZc0z1o3qxlnUw8fZ8pB8FThEHg6Pc6qzxK2kurvNbyqp3GPVS/pSjTBVp0S9xuJK607Wxht2AMWgAkkJswNjxbKIBpcDIBwDgIuQaR4lBzAMsaAUIDMHlMUxShBDRDWcImj6kkfzf843zMZt1TdSzdXfIDtaCSBcYhhw7G5RmsxxK/0b7qv0f/+pzfIGTRThbS6IiEiWVTRe7O6G//OExIAmjC6IAN0U3ZxGW+ff9/sit3r3U6YhhlmWef9zLXqmjMSU1fy/+9rm7t2dKxVrEtEJ824p17nJuzXAqpDjVJnFRIw0JZkbKRKIy4cqUEy6YG4xgDAYQw+aNOCEhkzNlAtN6mS/TtTuM+yj1Uh47UX8o3NQYCaSkZyDhCG4XpbSRod8436Gfsd///lUe91mmG2cgFJpa1CA87nEBKREysacQELO2jP//9FU9jChUo5cw08x2fucYp82ezk7//OExJgmnBqQANUU3c20it95qrNPyb7Y69tPHDF2gAlKEU7l9bi2wK0NM0P3MhAUSZaVaLCAJVQzqg7gYpHaXmOICEAs0qon0zQ6O81+gVn7LOJKomCyVGac3NVLKA0WTtRc1dlMH5KrIcIMBcKVneYQD0355vzyJkzEHhM//6/U4empeRlSRnVCgsHnH885+Yg8L9iAsTkrPuZ6b/b9TjanPMspDoWKFehddWCNs9PVq95L5Avcx6OPGFzLgJGR//OExLAoC8qMANSU3Z037gJ3mRjgsPPbL0CKB+4GHICjUUtMzC4YbWpI3SNeiXyBEVdM8k5QDLQ4j7oEwOYMqaI601F5/UYo+x0HxdDswkjPc4dI+rA+L0JoKwKhMNTnOPJG5u5v/1aOt///Q033HSL3Uxxq3mod6HjUjacUGwdOxC6sNaed0hoqRClYTEThEbdEt62cnaF4CUASoFxl9mxlMEaAouaQgYRAOCQPMTSVDBecFf0YdEu8aCaaMY88//OExMIlsyKEANzOvGpmdus/iVWxjNu2gneWzn3mobVK4sRmppyEiItPVdUDD2jP1UrTMra3HLN//zJlCZp5QRBFB8OkVMAeMjBJWTulazNHnmDxcbERHEsSSxmtelL/9b////7terFhuaYpV7H44WKGlBF/rUo45xf/qOfvTqUdAAVOkMFAAzAPAcMFIL00ERjjGgALAQRYBALMAEEALggGAKFOYMAfAkEGnAYAoBLWh0BgwhgyDDzBQGgGocl2//OExN4nYvpoAO6OuGytk7TtTliDQSUlUkFdxpZXF6mV2PO4iuPGNB1e27L0QSpk7sRpXDUHSTQtvxm5vCQxLtyxT9lUjlVmJwphkD01Lv7+GPdZ75zeWnVHMmmTwWi4F4BgPhMJRVkOnKahhlU06mPN/dPv/59m1XHmFLHlBwdHVQoXGxEIReUkkZf76M1j9RqUJCZLnUrt7Oa5XMQZZDPv3Izmw/+KIgFjAKAqIgMQgBswAACiEFg0xCWzAWAh//OExPM2m75YAPYO3Xlh9bhgWgKmByLWYVAE4GAYRvRmQeMJHDu04DEzLaai4zmI1bkfjis6cMRrY4Wpm1XrXY80tX13X08ta1Ls86SVvqu6dzqbtY9vd3aobuuU0FZsRktJeKYXsYvswKfsiZXK4kGMarI177+ldNP////7ejyuazmIdEDGMn/ysqezxKCYVOucq/+nRWX/6n5Yy2fyCwMmJQPwKKgUVCLMLbuPW0UMnRMZsWZIQ2MKCBMqhxAA//OExMsqc2ZgAPbEvU4OAgWAdWHJJlmIGKo1K5xrTjRmKwFi+7uxCtqblNFD3NU9JPuzXq565VlOc/am6Who4/fp5NU/vNvRToqGMFEmnykEnOHdQh3md5zLeyIb0NRL6OSETr//+n///VLVcqOYMDrv9OlhgLrDRA1y1NCl7XRV1dUgDYCVpECTAYHMpF8wKMDh7wMCiksFAx0DzCAJMFBkwKSgEGiy5fksyj0die0Z6GyrreHBXjpPofS0x3d+//OExNQliupYAO4EuJDXUdWp1QqVnYXk2ehT5wVrc1HMXIhUNhbHHb2rtQgpzCgAZX1JTJVzDjIEYM6yG7KIlVBrE1FK5DEzw+4EZEeU1LIj/zvV8qnfZwpVSIgad6xJ4mHLnrd/6jbmRYE0XJJ9ysowYSTt/ejHuPXAp7heWxs64rRp5wJGYECgEfAoGSDoZtORvbPDcxfcuTtYdyIQJDbvp800wXBjNxYo2NBf0urGAg6XHwOBoUjov7Mc6jJW//OExPAsutJAAOPGuVjjNhyKEQsE4gELV6jXCorAft5bx6y5nWtKxWLbJSIiy5uSGGgdc+n/YznJ2tHOabtOKCr9PuZ/nXCiUThoHQhiF2hv3jAoKx3icUCsPkC+HWq1webA4Xkb1fGebze7HarGo5sv72rHpEnpAmjwNe8N/e8O+oceJfFY8DT+/xrd1famqPGSVnj68DcuKZ3h5r5fs/3TLnDvfW3msVeZxe98+BtgVkVjj/Go974qxx6UvuBN//OExPA+ZDJUAMve3YiazesN/H28yWprB1thxsCv+90Lxjzwtoo6z6N0sbnoDcll8TZ0YjQWpO1WjC6J0lQnIk53CvncdJdj0joYl0WdLeql2iTYcjYQs/1lnVq+zqpPITI+bbwMUfQFW2sUOqjofmXsbd8QFc/b5suTPTxcVWQeYE8RTE2UJTx+L2qmJCKLrlpebkwMRoUHw8fMxtLl+IikZXk/y1qVnGtu3VB7/ntvTt9x1az4KUDjWcHVEDkH//OExKk1zC5wAMvW3c+aFiyilzbGqvN12MbRpVMudC4Yxh6n5ZdtlZeK9rXXLGtZtTVbubPsiK45k61VF0Caa8pwfjfFTDq1QhT5KxLItQOgjlcfTI8XF4MTAqBYCABwOnhbMdv/71ezWqtTZnlto5TVUbnTWbTfemkoVty9XUjoLWW1xFQ5EjIHTi5BXBDiajHAgcKgk45jAwBGcpjMprqVvebT/0f6ZM2ymUYioQVdzGHlix0GFIIyN+R0hihX//OExIQlyxqAAHsKvfJYHJcfpDlv17bqp97VbHtW9oeqW1NSd/EvTY4kmj0aVRkAwa04GrEzWWvQ9Ko/G1KzKQoh6GZFK9KhUA3CvP0/kUaqpmetjqDTeI+NWrvesxa79c1+d/X3iKrbmKUvLl5enyOQIhEOiLTGQz6sYWDoqKo9St/+n////rQzmDTkUrB8VYScBmlFagKMIqoQ9hISDL1PlniK30sKCB7AeNsdooKlTdSUBBclm1egY3BxgoOB//OExJ8jcvp8ANvKuEAZdA2CNDnQ5WGbV3nZT4kVrOBC4jLa2c6reyNOlprhMoM0hg7KKFhhbBlMs5hUdzvflE7a/G5DFbf59l9bu5XF38i9iINYopda/uev7c/8//Puv/9b7+8yhMPCIaJKZyjyvUaaBxEIuVF//+pUb///xQaLi4iA5kOMECIMDg8ROJEezs3/3k62MpGmIRv/9aapOQqMwmcRHsA4mOD69X1h55U8zCYYDhIlwcPJhWFqQwkI//OExMQr3AZ0AOYK3cZDSWmGs1zoqnPGc91lUF0yzGsmQHhprtIoebQrdZ1KGYFtm1sa5QNds87TwNW7uvPc/6k5Gp7dSih3djJlbTr1NnqWU2X4XrWv3nh//3DHn4V/wiogFBqSnskwwTrMHxoec//v+cdWv//+iqgnKMIxwPz5M9xoQGRIEcgSVWU7pbRJm7U989uhvv7t0ONMKTzCo+TJDpAfHRWXEUS3pd1qma8QWDMEkeCwarnMCASMKAIM//OExMctG/54AO4O3JNhTrNTAUYQcCKvnFhm3al8GRnuddSsM2v3CfRkImqmnrK+DAhes7nVl8V537s1r909jP9YxrLfZuNWuxxwH1uT1j/xxzz13me/5//+PP1vLLWGgoJgoUYVnVCxSgqHw6Ut/+1vRn////q1gkgEOHRwgKCo0OiAfGhYWIuTotv0u71/TqV2///7qdFHMLmOIEBVD+qZ1VYUAFaMIQMbYhCsxWCQyZ18WHoWClqckaRPRGah//OExMUpg/Z8AO4K3KCwFQq+bGQJDDtGJPk4BTwwhfEDDow54YxcmC4UWd0ybS1GqtjI+mkomCtlMiRqbGpUKKCkkkHWpS1oLWg9dm00saAaDA46zUO6FFBUm3///////nEiiJQ+JRIeo8oiQQAYDBEQYtGyV9l2/+2n//+jnY5RUwsBA6USD6lFVYLsNbCgHGELvGVgACEABGNZiMH5xpYoZrwQRI0CwcAJgCBTeterQ2CgrjFeWoTzDSYtPqKG//OExNInO/58AOzK3HbHwK2si0IUQiGTaoFhJ7/+gta+3Ls+atyrHeMxN4/ellLZwtxFdUi+pfpb3563zdTHn6wxx/87lN39kiogCMHprGqcOzBwaiIYTIp/7Kif7f//neOtHhSEo+LTCwmd2FYvHhqC0SBuymZt170dDDf+uxPRP//qxJI4WDI1nAMGDY8Afw0qn35XUYAAKZdj2ZgAKHAcYBAiYoBcbj7IZJgoWldpeAsCsVm5wdAkaArLA3Bo//OExOgui/pwAO5O3HROJEyTCQIDGtQYELyI54IiJMpKF4TqFjJlMYFWtSZ5digXlVpIVyADSdjA/00VsrZm/2WpJi4QDcRnZs8cZJO3/9XXoZv///+ceag+Kh8xyRJmKDw9cTHkpl/+mlP/op/f//8w7KGiogeI4+VQDX2ilZtXbAACBGYbBFY6Ae+JgDARGFOCcaIhX5hIAEgoBJCkgAaHgDW+cmUiQAhEAFLcktzBimVsRhsVOHxHOknxDJVB//OExOAnm+50AO0O3K3YlNv47NjCnp7O9V7Wr+HJ3DfcL/MeTN7HDGh+1zCHrWW/y7nvX9/es/1ru9/ln/R4qfPPVXNFJhO5M1P/0f/////qcaoqPJhQkNhHcSRMeOmETSI+axxzo52nZLbf6sczf//tx53U0mPC8akiI+6fWv0Y1jIqbillSioFMv5AIZVpWYQ/k6qvDPYaBwVQrMTidoMVzeMFA55qSPFnWSwA+rrgFSsaXshS4S6bsjOhWgvA//OExPQty/JoAPaO3U2RFRoE/NPJL3IrY1q0zScxz3ancMMcOa3Xp7EjlVSn3dz7jf3zPX97jvX/l3Pv62D5YsIUlIu6nCJkidw/YUPl33fiP7/1hP0///vr//+uqqmatCihghD0o0e6OdbPwlc//////Pp9V739/f/6dN1NYscNBqKCxalXVjozdcpVxZND4EEjmnVLjJkxmTiLFTisQR3BIBSUlt/afOVxNkhv2FCYUJ3GxU5jWFtHqfEyJeQl//OExO8uzBJkAOYQ3epwmbA2m4EMWXND2JEK1octqRYdtarV8SDuVywtwozHPmzyskSs3+MfVr/ddaj3Lqjy5M1iHy88aSUWSwOgOB0L+YvNqn/99z/F+nPN//w/L1Nr00Iz1BcDzhxJMRea4+e5r/////5/63yIR+6vr9+xz/Ga/gXCVzAEnwFiD6KCEgsHl5caKtDbsyKJv8hNmdymUv8ysyPYnx+q5O6jWYI/ljxW+unb1T3tZUrtZQ5qXy2i//OExOYrs8pwANvQ3Xxc04X0tScHIfKaRp3HC5MsPq8KEq+oQ2KyZhNphZN9QUczcoKOaSYsweAjSwBBJG+lt+sjcXSp4qo/o0dQQMKRbvZx2c/l1Tfyof/1Cvt/y///z1ub51nnUktPiIvBx1P/XSuJTLFi6XmAUNYpToVqjgv6ws0a0NYDom1JUwBFVD25uk1JpFBE4hIHGmIjOhzAqZ0OdxGxtrNCgY+Yd5nuom+wYduGsRmF6gS/GU5kGGIW//OExOopouJ0ANvSuDcFAjMG4ikXVRoYeiHvEW0QIctJ5p5o+mSPlwljxJYZQZLEYCQBw+JixcbNzkIkTMoxKMMUOixERxh4jHnWo24SkpN7PTKSb3u////vp+KilaYqJmBlNu9RVV//////96W//xVVVp8njpcbo2uIDau2PM6qyprrVDI3Y8AoTFLxrDINmjhpbiRU0OtcmZZElA1B79D80sfr4WnGNeYYvXMfj7LXp/W2OJiq84Sno7B2cgcL//OExPYti954ANvQ3QBc6XlV47TnQnDQSgaGg5oBueHUESx15IicpE4vvMkonsyWJDAkDwsRyQw+9s9ScYzXY99Q2TSLh8Jua+It9NlKDW6WhxxtMlnPf//9/smHVy96CByzd0Jn22x9Pv6jj/+f//mam7+Np2ZdMNh87WRzMH3rvjCEZh+s6pJQx5ZJVODcmMQgxemWvaZb0HICCOalkRZAmpLLT6stDgd/Myl9IwRd9K4z1XvGG5/G1uqvZ7/E//OExPIuVAKAANsW3RV+9bOc60MmVgmiNLolblzLehbG6iKNiiRW5xN9TnlDenXDVlo7JLO5XmefX3VvJHWIRBCg+AkKigNyjBdxcej3OgqLjS2tLTuH9AalGwDQKPfJ7QLNVTxxcf///6VHFmOUSijyYdSh4fMUPvvr////+b45fq4pYZtfrv6eOLROyGeqIge7jXMy1VWg/9pvG6nCUC/oSmSDCE/5MHgGB7MwCQlX6wyVHyR8PdWEOIkkTEqt//OExOswnDKEANvQ3Fqu8QlchETwYruPjFlcoIkE3XIvJ5FkECAQgMIdbaulylTyQw4sYkYPDDQkmAC4jFpBrnTw7FErOl7FJpdBkOs0g2pIeyUcUSafprjy1QYJtTfR6G3/b4YVH6tBp7n/7//////76+iyYWbD9tPvQNicLR6GpSmdsPMFAM5zegShVpEMDDs4Mc7UwuXYkkqYdXg5Pf6OxtlhpveENcQt1xQFMaGgs3VtietWrWgHOWCu+wrL//OExNssOvqQANvWuD534StZ8eCrk+z0oplWZEROG8ALgZ5xx4zWhqlf7gzFY5FJGQ4ikJgXDMTEFpCKDQORFZiSiZudLyZom+dOF8+kbJmBQJUzGGJElyeYrRUgk6RikaGqLM/51I4jZOv////QQZSLui5io6itJOYIF4+ddAwAoEQFXpF0FneL/2aql4neZB83Vbkstv4w8wpPAZMChyA1shgEdRsBKO5EOYw6CUMSlnMYR1Il+Od7EUJtNhzL//OExN0sKwqUANvauCcKp/Mr7DrFjPq51Yq+7tcGBTg1fmpeuV2M971HaTu5kJ8Sa1uO4JsOG5OGFC6kBOovE4/qSMjezLJxvZRkJqUFTEYUdhbnETA/ZTmP/Rdf/////WktVFFFJFaKKDskkkZJsyzE1PLDUGg5Ch6oC2d6Qr/1mGgqIgqNDSphwcAKulEDDMFDVLHD5UcE7DCkIDDQaTJYWzXM8jN4LDBANyIJHXXWYxGeYVAOYBACCgBY7aBI//OExN8pyxKMAN4auBk/z/Qy3Q0jlJWJVTt0BxMlpa01H0hYRFWQqDIIw9At807d1eC52nUcw/wiCNwdqN/XF9vLPVKbBsFa3Hra+QguxT8rbzxy5ljTUeXccNd2ajISKkWGw6EA1NGgtB8JQ6ao0KEhqrD6Km3dp1////9/TNU0uh9kVrHGA8QVsa75vem27ornsLVSy39v57ev+51nMc6UnFFQ4dHDape0lhSwoIFAxC7I0BHYwWAEZAYwDAQw//OExOo0lDpgAO5O3JgSMLoLMOR5MAQkHglVeIAKMAiEclXalCDkHJK243g+7MoJgWxLKF4mp7v1Ze0ik07m1NATCQiufFK0sVWi12kfiZLNv7YqVLcUq9uEZMxUwRxsEkFwWBXEWXPPH5cgJGU8w0nLmGDxjyRjCpGhZRBCCIhmN0qPDSxUucilz//Ts3////6WdmVbaJOJiobMf06LNva/s9DDzygJnwkKVX1mV4CQFmCAPGXtrGZQUAQAzAYF//OExMotSvJsAO5UuEwbB4xbKQxX2c3nVowbC8LASXsAQjmR6Og4kQaDSzkfjDPTYgoceaHmfhZkUBXlvP6wsCEJ6Za/SOKEN4qpguVuoVAGyFkSUyoQVAmAGDhY8UIiItKLwKNqUhzdj8LlUvUyX5Um4PaSSBGKQDeZSShkb4RAi/YZLjGRBzEUdKClgUU4b5H3pZ5AlNQTKLBsCxu2t6hhe3KEp1cVbm3QG1TNqLJWstLmoHkHT5uSajv//r39//OExMdITDpoAO6e3D3/p84xj5+v9Z////+///n1zrWJI+NwKX7dWHDd2i4yxx3mKx2CbNt5h338bv94xqmYmbyzvGt/Ga4zYpIOVfR3E3NrdL5pVzZKP4c2VWrGBjk0yN6vQxueMCqde6WteAgBM9o81IDRoBNAZySho1pKgcrygCNPUoLBBMRuIAgIOAEMsoAQIcoKKejjXCUAMkXiINh5yKaGRGGSaknJUBBYWZWJwe2OH1VCJPlMudqAQwvM//OExFg7G8p8AObW3bAVtHdmloGBCwkBQPEZ5w05XJqYRiILplMc4+BcxWKNyWQP+0p/ojaswA0CHt2ezMnnJ7CsBICeudaQAFwyH9iVl5ig2ZPNWO5ojRWbQbEg2J7FCxfiWPp91//82rsmuf//6+b////d7nvp5w2caquOmR5xMmDee+m983Nzsg+oaHNtG18ruWROx0o8Myyb/KM26KC1uVrcMJVmTUKX8aoWikowZqkr6ktiMBcrOMLQ4Ety//OExB4u+5aMAN6KvSS+TKgTVBWSO+z5V5tT69HugDagYsNpI9JguLEoyQMUZ0BAxjkBx0FuegpaYJAgoq6s1KX/Xs4tbC3bfmt9K7bJ2a2cJI19dVJKvy0/NKdiBAow5xcOAZbqAxg84gIgMLiofCIaHjuKUcUUOB0DHFhqiynYo0PRZziJjHeb//9f/////M7mRDHFpR5GeyXVFQ7sImPkEaelzNX/0kCMqf+6UYiE45/kMjgAb2FRexi7RgTG//OExBUpy3aMAN6KvRhDKFY4EMOnNMHb2GW7plGm8Ap87c9KS2YGaymV5BQ8cIqvtwdOSZ00chGoM+lxpAMGrVlvLkbkFnGvcgGlqfuhb2Z5hNwZqW0sw1iGbOsgmBgUruA4gHuw92iADB65BUMFmneqnHiJBZ7GlOUxrkUrIouxmad////////+7dEs6iO99jooqLhea7RX170Xafz9VaDPCVjAg1V1Jheb/FUEazkCp0plTZQSHO2Ih+HZwyEA//OExCAmKd6MANaYmPcbeNckkdA1VY5x+KUVIkobQWp52oiiGadBJIfaypuFRJtjKtMQe6Cy6zJrfLUSoq/eOy8qyqxDLO0bJZi4rOEAXGv0bgtfpfp+01uv/fWZ28a5u2R0ez5v3/C3Jo8Mxd4RPSLkHf//7vbGKIJUqxQusVoGw0/fRLLde1DiWxzqApwp8wMFMOBDgSYaHFN2cAERMAHgM1LVgpDQ6eASdMmmZYhIN2wgxrUAPCg2LFZdAbXR//OExDolOyaEAN6EvEWmuAzkHu6vEsy5lvGmqy3f8u1Mec3Yxx3yJW+blMtjUayxuQ9l/755VLL5n4CylUQKMYyy62zIJs7KVWRRIoYMBHbUrUM////////+vsGePOw0yCzzoNP+p9VNQIYUvTDWw9n0MzKBEAiSWZo+nHyhh6GZwDGkphn5sPGZiAsGXcCVAxM2jzLeKzyzI4EbYhtdglcFehUIOGAiYsqpkl+bToWrPhF2mc2LjDr+VNJZND1///OExFgmuhJIAN5QmAlV/HdmmlA6c1geAMxxQfDHaGXb4tr9v9uJWIZSSDnWGXX5/mP52iYrskYLRCJQVxdDhyv+qzdXgIeCsYS///byJtIwpUGxUGBAiC0NTQVw1kya20AhBiIXc1/oGgJnNWxbi7xxGZk/5RKvxU1biwEhHJjNrtoHQkpy9rTDPHss2snzrGnpE336vNKs8w0+tLxRTzdTfTu+6Serj3HVaRN+s2sEVUONt2GVw8osD5cqOlhB//OExHAnxAosAVtAAerRzHEwqvF828KcRkJGx/269TM3tEpfN/Kpcwyu6UrDJp57GUU8780ynvyYeC9rOQglE4yIUhGCTMwtdcuCgU0NN6UMmfu+3Bz4uwMNotXhnPWwLMKwmZ1mucqrbnhtKJKKdINK7hyIUok6jmlQD7fKUcA3xD1Ufx1K5aV6NUDQdhwxlKEfJu2KVAK+jm8Vc6XUkkyxU60YLQNxOHidE14G4D9sY2+JGckMWjmY1Knko1ph//OExIRG3DokAZx4ADKMJ2u10uVcSyVzYnjJum6PG2Kab801K5q94cCsYXJWHYdKWSrYzn2dasbGZykb1bZzeys75cPGaG/Xc7Wx3Zl3FkVm2G7VuC9fse1cuZzjWEgZCPV91RBkevo2oMGzJCfvnNvblExPH9W+utTQYKcVqreJh+fjmxoYdR+MMiy+VNolFQ/hyRF+y0wRYjmgWlcvGh6dEFUVUTYM1SlfdUCxhmmlBwS9yjXrCBsnYQqnvcAu//OExBsupDZYAY9IANHjSo6Mr+96WDwYAwyxFw1K7jATEgYFyBxGwxrKK4ZH6kxqCJvZJPtbWIJ1KayzaNUnNrk6SouQsyPLd0o5UV28LWR6ujbRt0jb6NkUqsq4hGWU1cnBnoq2L5Vs8J5Ejc+j1h8MegjUEOaZTybsuEc8KlueGSy5f25SE4XNiaN021XqNyptSCmeX2bT00pobizOOXGH9Vcft/yhlx8ZJyVH9OR1AamsfJ1ijz/o8C578OeZ//OExBMs1DpoAY9oAJL/dmDjEYKBn6lrSc8pA856yl2Ugi1blZTGELCnT+9mdFYyxwLNBAA3Cx61rW96K1qY6fYRslxwCWEALwCOACYJiYWd0GunoN2pKdFETscgbgxyGCQDvKQXM3TCdr6701d9F6ZxbqU76C5IGgxw56QFEEsIAOwxL5LoJuSl1f1am3un/r0azFFS6LZoeTnzEeZYkaFh8lB6D0Lh88UzdM3VST2IsOAcGuqCCMTeblkfPMPZ//OExBIqg8q4AYhYAcR89d/v/uO9Qp3/xNNe+ah0weZZpqNk0IEn8TtGgfqbd/b8ik9E3fGVDuU5V2FJKIRw/ToG9IZPWNzRjC8UxAgfFADA9jrOh5bpWPI3EkbTZpjZ6HqUsmT11jcjH2G584bn7NTQxJRJcYDtaVMavG/PU+27l/i3RUvuFT59j5dVQcio9iL4iN9tuYKzz0AMot96S1KqzsPbuRWWqZsCMhkkGUOCgML3sfdjC7f/HedT9fj+//OExBssE+KUAdhYAd3fe73/3vZt3brNjYPRgSi5Q2KTzkmx7JNSadk4BEoO4bgSTrmxu3csq4uDxsSh3DtODuPSWjtH0mh+AOLj0PqWkkeiWavaidc01QJQ6huJxKPImrW5KSNkjUeVka217f/b88OdwqlbYn3XDomKh74mqaiTTU77eYv3OdfDnObXW1se3+a4mvttO9zjzhpTFTWKqbi/VZuBH1SoFHAYiC6bBbkuqavgpi0LI3M3a6kw39ji//OExB0u5DKEAOPQ3aqw6vyI/LwtzR1yccXc+Z4NqwNeakSvjyz68NTp5yUR0DkENKclCGqdSQWJwix7wFYuH65LmT8vzK1uSkgwqMjBXGr+m7w444eYKEiwmUAQKDCbJO6Yl0WBYRSVmGnPFypQs4k08UH7lkukcxt//////6cIt3pBMSkCo4olR9NM8Td8f/CfPVzEU1M49YxrV//8fUT/3HvUJHse7CK0ZZt7Y0zk6ZMmUMuY2YpobTwsmAqc//OExBQk+gqMANTemGCxECLx08AmpaQcsDRNaiNFiNsYxCyjVtI16D81MTVIwJI3idLRcgJVDWKCSJSNjMlB5uTgqhbVewstlZC+m6DjGcVt/Nvfy8+MN0WDl4q40bdbY+Hm/uFXOvn/EoVcHBKtyz3/8EUic4XYgyeT+r9XiwoIH167nSLQ+LBksAg2jshhgvOZocIYZ4EEQAMTh07ISSgGW4EHRM5U/Sw6UCVOOkrmcYc8ul2m9agjrcftuY7///OExDMm1CqAAOPK3cs392e33AiY+30LWKB0pVtjHuEdJrmAN5ms2tAR5CoEfMXX3aFv4/9rW3moiXMrMIjgMJOylVgGBo4wkZPUxlKrf////9aOwqZjd9eau+zfT+v//mMlSsImr9daodEjFdoCxAiig83F6n5ZAlKMBsYkS4YMg0v4EAgYQsubVm6YKg0DAHVWMARKFgcifW6HfBIlX6RLQILSex5fx1rF9o40df2crpoMm7ncfW93rY6btyu///OExEonSspsAO6auHLf3UZLZt2XCVbjbqSGxvAegwJcLw+gawkI9SigUUGvTrrer1e01q/o6y8p1WTV67dX////TWyqdqkGNlm6AkGGNsU+i//Kf5tCpJgagc6cgIC11XCUNTSAgYm1s+mIgEjIPAkCTEZaw/5zC0Dm6OWCQzIg9l82FguOSCrUrCEZ3quNdPKQUHvqRI1uW1btWr3xbLmEM39YUsJs7wjlyaiVsZBbWPxSmhVHTbkUYiE80drV//OExF8mC3JkAO5EvHa1lGtd+lVV0m99rukm3/Ndrq3XfpJ2///0Ar3U7Tg3QWKUQznebX/2d3uzLSqJkaCpf+Ne2GTidCqbRLMBgcGAXOQEAMwwPMCAAMGRrMFwSOoUoMAAdBgBI6GEwTo+sHkg6DxwCL3vQ9mEgnJRMKls7j8ueWxhXlN7W6ezU3lSX894T9PK/oKSgsv+y23M0spuZ1caeW1s3jdWds3ss8unVpb1QIxGIzsqpdeXTS1Ptz/9//OExHkmw25gAO6EvB//9T0+iaJ+hRJQEKZf+n/VFqh3KiHIdkGAg4m+7w61y5ZR8RmI9mcyFkjdMYWFlTmzLrl8V5NcnXlbm+zuNbX+/dbViBhic00BmiOGJKQqGIw29GjI0cuu9EG2lIHknol4Xlo9ttHFG3TFKXRPV6pny62GXv9P4jvxCos6Bm4cDF0XoId3Fum52uaV4XE3/3/uW6X/RTZLCwg2af77lEREiF7uZUDdIn5T9/nkeXT9yiIE//OExJEnHBp0AMpG3U4hxNz/67n+gs8zlRPHQ8rEtlk8CUGxXFK9tg5ccuZIbyvOW6VHySOWfOGWaaUuitSYiRLo8VBcqOupwpyhCkNSDHJk1EzQ53GmJo1Kdtsr7JUDYmJHWwxTBucuUXZIKhEYeMlR5jocOISuSvj7pqp3eKHpanpVVxVNNQMGqcoxyYgfZE9xEy9UsdT/dmxxzXv718c/Ev8Wt8XVq9o0TaRT3Q1rIXazZRVIoJlAkw0yCIa2//OExKcnE/qMAGGQ3SpWWNQlyJW8rSDMmNBRip3BTzdXZ1ue1PKTfNSEjlSVsKHGzEHRHTb8xPDYw0JQ+FA8Hh0XNSQMFiQaipO1V+sD5WTJKIE6i1zBzNZ1XEnh6HxxQEh+j2SIQszc43lZWpuL6i+U/W4W1hr4ZUvn4ipoakiCuCxWa/rvs6F7vyf0a7h3QWx2IVLuzAVlt1//JYJgOChFbODODmLDBkWc3aB2kCxkQuTtwxIdJZO6h0FvT+FW//OExL0mYuaIAHpQub+BXCWRjnnhtOXzJBfXnrFzIXxCFWdgSBKnPI2nezssznhgXeo9KN66iqcGwPHwScJ2a7mH2vufmZXktx2zkEQy6R/1V9K8MPurt5/riae7MH1JU733x/////Hxf8rzU1c2sqfLTP4wMHw/ci9v/K9AFYcB8PqbcNiRgwKeIFiwKnUkQc0mCRrD69xFVmzmzO0/DGCYFHVEvMCipioM20rUDHnUs1DCEhtsrDIJHlbbGpdD//OExNYmKwKAANPQuNEnUSb0wAxnErIazdOw+E4xi4/uEFw+/E9K4bp70sZBDLOrEP1rEomJzPlbG1ln3fc88vw1VyyyujzmOgxiv8pWZjlExQTdXO+7/QxyCI4Itc5SmVr////aV9RUriooMINILOzfd/TNHFIjOVUKs6sqL///TVnWgiUjnFU2+1Oy4CfQUeDqAdkEXMAhjYCdnT3mKv59McEJyoVyBG0v6AgSBmXCy44OoTMBi08p0F6p85yR//OExPAuvCKAAN4K3QRvzS0AIAjlD0rFEIBpcvUKiPJIHdgtogtD0YZA40OzrW2Cxm67edSMvBdpZlRxMVlsM2JdKqaYtYU12lyv5Z5/rmOq+WN7NhweMKizDBs8hiSWceNEWB1cWE3Y1mZlqZTCQOpxIjH37lodqf/7KzO07owmdUCQcjHv/6Ec5EqZFelzM+xit/8uQruR0Q5kNdDCykEitEtQ4GW6lRZiaSX1UtMAmYDC8L6GFIfmQM1mXoZi//OExOgyvDJ4AN4K3UFLhGBw0GO4NJyt+FAfMmARVBJ1bAjCxGHBGMAZJvoktIWbO/GGRkxF2pmaASGCpYoObpOnWoqBDgwPUulilTDYxGmXwLDlPHWdXsuzsol0srtyXdI0HpS024/VO+tLTVL9HU3TZzP16tLjZ/CKNhzkDwkxQO5i9yxbM3TjzE+2ONjMvM1u7Mz082pwzRFY6X2Swomlp873Tae6ZpMzMzMzM9RiWJ9QtO3fhEtOnsPFEQ8n//OExNBBxDpgAO6Y3Nc9atD0eW2zvdZ532DOiazhTqbLXbeuslMFVuijrfcbZ6knSjThV2LGvhbdo23ZWT7nZ6bqZ1lhi1WamA8GGqwlmCoAhYXzLF9jHcYzBAMDEE5TeAEDRUOC3hgKB5KAwGFRN1RswSBcwSAFlj+ssVLANMu0xSIaswyhk+cXLAKZ9iQoIoXTO6k8vNNKLkAB+3F+1Ydq3QNLpauWW0sOuzqtQP1DuFpW5v5qnBhaYLcIef2t//OExHw/rCpUAO5S3U1arlj2amIjVqaw/O/c5QuGEKlnVRoTAWYXCTKB5r2msFlxQPJG4xqUPfyfZypYtluOoSVbYxlHLvynOUv/HfL///Vlmhl7ZE2YCxqhUFSWEF3GiuSj+1kk63xcmrHCVfsCbxypekLP2NbGmHqx7IpKmkS091aMZYRTpJ6gpBFRFe0NFAAlQnyY76B4QhhwrMREkydBzRhGMKBIhCJgZNGhwA7L1goQkRBf9ubSFTtdVKIE//OExDAs69pMAOPK3cjyvKaKw+zEYnZupZWsqQOK8VcFyesy2OFx8r11XxpfZ9ulYOrbrmDBbo8GZm/1jXzFhWzi2t2zWtQ6OehjtEQBQJgpnc1HKKqVTKjGeabZlKpdl7fM/sUxk/7qykVytRzUUs30VFatVlQ0uuqm2KhjUMiqHWMpVqZQ6RpkzNONBfS/MhAGQGHdNsxZjQ5qEQaDswGAQwSSkzkA8CgECghMGycMiQAg2A0HiIVX9a0OiIrT//OExC8nqko4AO4GuHfiW8ZTnS3/s5c+U3+00ql2eVBb1efWWRbeGsuf3Xe/fyu83d4UYUYtjdXO0j6ba8zaN0njHGYxQNSzhtVVS7nAR7NH1Lipl4M2XE7mBtgSdIC7HBgJmUkxiQMA0GY9BFdLIq+1Qc7hVbHxITZbK11OwxNA4hCEwff48YC4BDYYAgOFzBHmQEYFA4IRgLCI0mtKdCgOBAMwY5LxlYCy8SDB4fjDC5p0eHC5dFDWYQtKSZGm//OExEMne+I0AOoG3FPVPaT0MZ2xjPA+4RWacaSvNutQvcU8vmdNEudhERm9QspklKCzBnZ5Tqu3xKu33LOydv2/TuucyiLXytQrXP8nO5mmZLzz8rl/ot4VIpp2n5g3FsSImRxixNZorOEtQbWOI9XpdXKDqLgR15i8UgmXqcbGYr27hqZmHjAeiD3309oid/bf+emYWkFggRm8muNh/F7epmKJ7DmKIPtsQPTsg+mYTJyxAggowoSF36xRASAO//OExFgw/CZcANGS3T4oD4RA2lBwJiIGEeQXbhmqW4jOCQLm0goJEmUdF2mJw1Q6TqZqcidAXfj0HXcRtIMgXLCRAm3DKtHtYu2ogcvIVpMo96kXtqJvYnSbc4LycRrMUbhaTHydw/vYW9TYQvYXJhBl7k9/90xGR6GvKnIPpkIJJFQCkM4re2SOu32fpLNJS1tO/G7OmityrF8yf7+zc7fmYXr0EAnju2v8cBgjcy5hSWyALD9OP7fpHMWFdm+z//OExEc2XDqEAMMY3GgRP5eua/EvOGyubmkpT51tc0lXMNqS8XyGCKCUQIF9wyE9MIZ0eUhJa5aZofLqAYEtolrgiNP88ahao8cElW87BE8sjOTpKmS2dhpayI/RLuQVDHQvnZcREh1Y3HFY8RzHDbHH4oGG9tdZlZPG7tcoaWxydrKr6XWHbLyzZYZXRUtW9qQoSev9a/YxVzc2KBli6pt+ZIrOYGe5jsHr9VCYCJZywIFvE6b7wCQHt6oTLi19//OExCAtM3KAAOPQvdQa+XzJ/aW/8Jv397iU+I0C1mKG5WUrKmVWW4+0aolg6Mwqu4b1iUyHDia1t623YpjmqJqJGx7Mw8wQsMi5xzMzc0tckgIg2OWDpg8GpYNTWOcVRdRU0WEaSQ9GmstNzXAs61lHSnT/O9cNaRjaYoWccOKHHM0qvLNztcNt68bydm5BQd43b2ybJsK0V2X1mzFApbaWgmTRRb5kYmG6weq0GB4EF05a2jWwmVvgDMRh5IDO//OExB4t+/54AOYU3KwC1bXPlTv1+9iUt7z8b/4fcp+/qvSX/yq95vkqn86Gib9TRrkMgwowcFHanQVoW8EInngZmweJrCskTDuU8CQw6cXv2pymsyirzOvN2gNjoHAsDcRClTzDGZa5yMn+tp+8kSeZ///c0xnUgUw0u6s1LGqaSkJQRYyHpViCyWzGv/+dONMdJ7P9Ku5rE5GcpV21P1Y1iA47rCmhq238MGmg4iI0vgsAGEGJECdoLRMGX7lr//OExBkuc8qAAOPa3UoaFFjfzTT7eNtqkpryLefmVkv8Zkp/liifwWVn+oKpQu73I7WdjdhLQGwfa0ftgvTHQypdTIDVmtOLCMUH4cGX6mT6XbmFreRMQYC2tMJQRoWow6akjNMwdJNNO0xZ/1v1XNFHixFbKf//1pJU3RQW6kkGWqpOkgkmSbyWTNjt1pKZne3V+1Wq6FBIyZlN9FkmNjI6cWfxxVGuQINROX5txrRNeBgJefGKAYDGgJLokEDS//OExBIqU+aIANvQ3bhHj5qNHKEf737yiED0+WtUW/rA1/CYKf4h0/8rzX+HO9MNyDgw7p0XBUJ9RCHBKiwKBxJSZRSaUD1kE3L+5K45jJVc8BuUSo+40KJfh6CIEAXkEFLcz8X9//O/xO5ZRkMjlY17qP/////hh8JDp9SnOzxW02g0woUqkgc/Oj/yn8p9RN9c3DTvH//08MkJPuhKcSr9HdmVxppS1oECU2Qdg4IpzphGAw4YWqBg4MIDXGjL//OExBspo+aIAOYO3XHDXO5Mm5+/gvD//7HP7qN5//x23394yDD9VZZv9zK0YP3NQMIDggFV+pbLGtxjdPGkyluRyWS1gsPdrVuxypdx1Oz1vDs1GxFKkh4fBwJCGGu/b1/zDWOMJ5Bj0mvr//5rmtVDHRGd55yrQofmjrEz3ZU+/t+9HvpVXKnq395rn2Qwxbl9ZFP7ZTXF+lmHrKgOMQo8GAIeAa9iEEAihHAhY4tBK+OP3HOo2s31DLusVxW7//OExCck68qMAOPK3Z++7uM/x13j/L9V0+FYXyNRDFyDbLpEcHynAOVlhdRyMtGUKfGwo4Uup0/Hi1zeNf6zLrH9wwtxonY6n7u/VnP/VCaon///9czkWri5lsICDyIKDj5WZ9C+np/9d696lVP9BipxcIdaK/503qrKivyAAkJvpcHAwhClLSE7PhMTqDOQenoWwhFq7BgMBGQ0xUv5CHGBM3n45eG/LYqtw0+aapzIc6FrEdEBwCwIWqWZsIEA//OExEYlY+aQANvE3XJJVbBZyns5J+Ul6opVya08+xTUtL0pX7z5M239er0SdakAzszk7oi0Yy/+rrb////++jUotSspVVlLl7X///z9mX//qj6kUEvQoHzA0N6qwosH3C62NCb+EACChA0PHNkGwgpEIAX4AoQHwuRBcVHBMrj/w2iumDOu/Dam7LZx/H0cyGmuLsS8ZK77zzqlbLrVySGKEanfM746lKrYy6Q1FHM1MSdRCeL4hJtnKcrE9jZr//OExGMlyaaQAN5elLxmmc0+vX/Os41vcDxGKPC84aGPKoAYudEv0z3//fSNDBsgaakg3/rHxQm5v/aksxzGwQVVgGFYjgAagfEQFOryNAgljJ6qUmLnZz9CbcXgodXUOB5jgmpbLHLLeL2tQSlMqsy6HoFYs+sy4Bbtz0dQSsHfDqAKSCyhbfv1hBUEReQ8pJTdpY/Xfmml9PEuSqIQJA0pfuVWKKg5f1rmf93r8vy5nr6+H0lcUCARalRdP7lV//OExH4oDAKMAN4E3Q7W//zn7/////SiopMin6GIpn///ot1b/////sqlC7G3V0qmaz7gRSMSLVqKVtbOrA0w5GYQjHmMhyZk7IMDjLjYzMaU8wsHTPyVQxhJQ2JTVUzAqTKJXQNGc8hVAQZznAAUYCYCsyCZI42q0RisspJXLbHLNNWsVZqVakucppX0a+CukuSA8Ti00kndkkLrRWya0HmS3JhkzLRSU/v6q1m1FaX/1U2avX/////ZJKy71rS//OExJAn2vaEAN4auHMxCj9VYBA7v/9WxLUhwlW7VrAiUDHqNP2IDM4UIKgKqoZV8F7A4OWqYGQA5ZmGimFmIQKtBhtHMDMwLBIILAyTlrSM6Mtk4NIz1yZis6EPS7CMQ9jnax1qktZV79LzO5v/ry3Hsiay7NeG+1ql7v4b5/cP1hjrWfcrVvDpTurF9OvNFC2S//0Iz9/////7OjFdlNZQxRR6P2/9lQpz2/////s8zGzBXihDoJQq3QqOEN8S//OExKMnDBqAAN5E3IA4ZCIGdQxnYNJwoTnrqIOQUfhABGTH48K3XRASpBc7Gwha6s83c2oRfzAjLJjgjGTOwIgCl07nD8t5uXfqpLefcq3vqc/85bjjbvbwvW8oMexiU/y3S/+tfnZx/X/rDfbtPKeXt2zXp++wsUg0v/9ndlVHVf///9FVZlUqEjAmORDOzPq1d9UOyGNRf////91zjXKQWYe/VZTXZYYtLwYuFY0cTPY2DA4joWUOgGgmGDpk//OExLknnAJ8AN6K3YFgchmvS8cAQYXaK0OMKAEiiAutCxYUqNkDSyBNgpMc4LTzZZfPM5ZNWlI0y8q5WbKqM6eaUHc8Mckpy4tGlWdSWpBnUkzsamajps627fkQpBcWChVv/60uhUVFT////NGzCpEFimCJMqrL/XpuoxlZrf////9WU0IHESGw1WkyxASY1bpnoGonKxmVIqYjDIWAIiPBteVsWa6iMYjAkcV0FQ4DhrLaUcTIjOveaCqBjiMp//OExM0l0/54AOUK3TI1BUrDlziAKHW1etmkYnKGYnLeN7nJTv69nDC5u3nVou/TatVWxropK762vs2MNVand5832Zw/Uu1ZqTu69W9Ejg+LQwI5rM7//NNZmois////9xxx4uSQ0kJY6cUNNLHx5nZV1/9TXNNm/t///1pc0oPMLhugtFxMcYsg5ZlyEdwtzuw/iixgSELWSVKK4Bjisxa1Dze8nmyAoKnZg7QLqpUxpEte9EnjC2igcxfUJXCm//OExOgspA5sAOZO3TBgM6scHBgZIceV5Tfr75zin+bRqaYkS6hRXFX3zbWv67+8Z9tyWj6pkC/AoKK1XPnnM7CoaB8NmB2LB5uYiTcvFIt5Z6VF//Hb6TfP/+ksoz1Ylebpn5mJruZv/n/45v/0qv60m+P/+//qe42Lg020utmbmHEYmdLaLGVLASGMeWDlUNqomKBo2NvXh7sORV/W9gp7GXaTog3FnYfAiOaJlgSzQkkMcugWaCeH3Ac1QxsD//OExOgqQ/J0ANvQ3Uq9lvDY74zrP+cVxD2ouVKVPNUwoWl3CcWBvgbzG02YbVNARdt/G5SF0pTFmSPAqu8EOXr7ytKjLS1Gl5l30xSVQyExCSbiavU12TtqqNKxVRSlXxahtYbZm87O1lmMKEcsdstQlwX/YtFHAL2KWo/tWiUyzNXaK7dmulrxGkMephFE5GuyOCUx0cEJhkIEAhDIC8BfwswWzQHxZMSHYDcdW9qa73YkztuXBUfo6j/4NYjN//OExPJQnDpsANPw3DQWy+HoS6mT7yfF93XrN3bSrTw/b+VQK78ErHfuYnad/2QKCM3huNO5dmpmaUAgK27DuR1zn9Ym/7EGGQdTw3DywjNIfVsZYziWv+w9ib9zCkiVIEkbpTV1OOyjH2014pKUwnFjNIVfdRVCKIgYsVUeLDBFBFDG3KneyzAKQW8850OyTOyOuoD3zbjQvGdLd4MekGsCZzTrbCzlkanJyjQYsFmTqNeH6OlXMKEnMcylQL1W//OExGI9LDqIAEle3CPZ1Mp0PH6jRcFCMEjQdCVDWPQ4RMQzQkKgQ1sPgXUoxygIyEqwGWT4mirE3ChA+ACMF+SQz4RkGsVR6FtPM0w4E+5oXtMItMwqFsHwOhnZ2RnP9vs3nWsKZCIp/sCpJu3qcy3XqwGgqF+HEXKLXbMuUgJOmTyhoIszeLifh9kjVBOGJeVIqlQaBK0YvRW1tYlt/T/lv5ruXP7/9+cefyX/7+e/l/aa7sz9KQU2vz0zX56Z//OExCAmtDqgAAhY3O3Jra37nWtHLNJpHfzRY9WvrLtHB5HtFpKZBsdg+S0BXQwbUFovPktaP9l5TP0RPRj0Vw7L58WR7HU7EaMcx/SvtiO0rEnTx5SeHpyynLx5eNxj2WzksQp6t1bzUFs5u6rNnf6761augN2lCjlSpCIIi0Rn6bH42atOWQbf7f39u1Wp6OnWzNs9Dvu8/b+piKK3v/vTz+TP/MzmW3JmZpM1nJyez/msy/M3gxasLKb6HfNW//OExDgntDqgABCY3LfH536aNCvxohqzlV6kkg6cqC8kVEY+HkFlDA5AaOBcWhBKQ4uk0kRmQ7vFUckhsUlyCrPYFdmjRU9Ra2uh/Vxm87Y/pK96jK8ydWrFy89o1lvOlxpW0bcB/jSI7PjjOdX3Qlk/9o0wfpnRP3n+/kv8iMIzMW6Kpf82UX2anRt15//3JyZ/+n8+lcjn++bz/Vm9JszaXf5v2F3S+1VNXKUTpVh+4xzyx09Goqk0rh6emg0o//OExEwoBDqcAAhY3MaSQKR3AiZk4bgsKhUyFTyYZEQ+OkNEWAlQF64vMKoJOzFAQ2l6GYmUV3HVsLT+nqlEqgP2rsLl0nrRk28hHVz52M526eTBcVksPq36LO6tG6z3I3nSBdK0t2Fs+d8xs+rXa3//mEBMWYXR7MjV/yFEw8GM9tffnY333vGr6k8ttfOvj5/hR9Wrj7zT7liQ6U1fVdRoFs0V1Lb+IUfcXPrrNIbE5+uLahK5lUyuYnKLDZBX//OExF8oRDKYADFe3YekW0hKhesLLCs2qGI2zK5vm+Ym/FtSfPfTwYtrxcvrwo2dW3quvWsK9LY3WFPq3/1W0JXbhXzFrq1rYjWtbNIOG8YJiyE4AFoOdjCgkVFASmnUNRhwWXITfEQIJAE/WzcSi55qT63nHRtfF++PfP0nKR5IeiHNTwLg7UOkteJ5fG9UkkmRtMS7Ra2XR3zG2/77lVhkXcPPZrW6CRpG1UhnEYsKuZCGFxFDFcOsylY0rfuY//OExHEnbDJ8ANrK3aUrUfUzzUMlMpSmCyuhRgs7rUqUcttJWVDaGRX0I7pNM6+/0MYy/Q6SpcecurLXqFgRhUcXkUxQ+CxCdbZmLh6KS1Y0WZfPlO4SfEU5hdP8YhKpCNfUkTXhMb/ddR70zClZ8QVAizISLUAhl8ZXe9q+M3R9ZyywrKCY/km0+WNJT4vS9/8a1jOCFaLBwYocGgOOvTZHlHsn8SDggOIQhJTIjCDr////zqdqezqyOUZ7f/+6//OExIYnFDqAANvK3KKRkfRkKc5jf6+idroVUYjMazkVYkMqw5q6FWQeSJajYViRi2KBlZDeDJWoste1+CwTe3K4bidrcPtpOGTPsyR/mrlE+Xrar7duOdRrd0PAWAwDVD9EZIpWRXiidMb+Vufq9kyk0QXBQKlxjM7+NbW9UtbWMfWTi6iaC4IAwTF1O1qtWqD7EJV6jHEA5Qh3Lro////77OhLm8hVmZ71///ei1/X//vqjPOjyEWyDkuwubKZ//OExJwmxC6MANvK3ZHk7INJDWUcoEy56loMPT4g8We0oZFKiVgt1fFhAMxUoOaNMQ5V0q3GCj74XSpLmz70fp6GRW5+MyGSvycijEIQsux5gZAek85JsJ+8qaVmB4ck4JQNiAhH5NusbZXN45FFa+Unc6+ORoRxFS9K2f75+Z6abTemZmcm2T0uKDkj//cCYfCRkPS4RERc3//U3V8W0CoZNQWMm2gIeLXGeqzzPTCq4MAhUmDSjIoFjENgMvgk//OExLQnaiKQANvYmAIBcKEtFGoo1wdQvEFUJs73XZCECYJOWNs5lWOGTR0MIcsw+jYX3ZxOOMskADVZladlrL7Nnp7UdazCM8N3YzrdeldKI7rQSoCumgy+ajNi/vVrO9nz8Zbb7auS7LcpltLzPlYFdghEp1WWEooHP//x4aEQNHZENPAKP/++sI9XdToZlaJxGytICwZiPYTJ8GjFENDBMDjDIZzD49DN4GzCUCpa6zRiSwXGazMRd+QcHleN//OExMkmgbKIAOYwlOsNWBxGBbt54R1S8sYiSZKNBbmmclsTXyAO1eKyrfEqrlXVxhKNEdTuDYCMXVlLq0bUq5eJ5tn9tvfbFcbzvNbSK2bLhInI0TP1rH/zr/1+v86zXO3ldC1sR////ebJL5Q49Iqwsf8kVAX/fNETp57oBUEyU4jACMAICkwLQwjN0YmMN0HQHAAEgABgPAWmDKLAZgoipgdgFGAMACpJkhgPg/CQOBbhU0DMzMMSt/JJOQEA//OExOIoMfJsAO6emOI00um1gjUOigfJmRSxPoNRxZ1LqOo4jVBK41BcZBgWWXeyFQkomrYblFOI1sQfaOurlBbUq01LJnK3V7hj3+YZWt6ztN0h6doYZrLVp5NHHCJFwNKTHWX+08tigDbqL73nRXhkq5qv////64/nviUhJVe+/+bU9CmNKSrr4khJmNpHUVIjpY+d/lmoVJh//j/W7/b/iINNJP3ZIohQkoQy5xURzA4GTrFdzJAHTCEJTA8B//OExPQ37CpYAPaQ3YwbAYwQF02TDIx9CswGBwDAoiibdaJLS1nISFuA0eRRhhjYwQY9b/y/MvuHltvEl7uQMnjQ8GKaM9b9Fl3X7fyZf9Na1Ux426oYTI7NwBNULdlihBlKaM2Tsbumr6mxqb4zitYRpxoCnT7lGrus7/WPiSv1v03n/7xjGIXF6QA6Xf/7iBcEDjXV6BcmGAA5Y55I28eVJkVbCrv/QXJF0IsJVWYP+9a/QKMB60lplACIWGAw//OExMctSe5sAO5emFQiMOhCNiR9O1BiNCzKARbiQAkwamaQ2L+CABMAAOGgzMOy3NXDFNC/yi4jPwFEvZFM0TjHg22kcDgYYAAuOGtBYjBjGwZBKYgMG2RQwThixGjAxsy1DKD5uLXnhC4SJBqpVquEzIHBipmnZuBADeP9Q0iCRGFWpz3aaQYGRhxXE4VKVK3N3LJXPwTbo6segBYrgJzM6kIwGG/UaHxob+HB1TGKTTZ3S2pbYiRL/w8TM795//OExMRJjDJkAO7e3R1G7TiUY2fcTU2v/j/X/1/j4/+s+rxWN79ka0POxU4jv2O2KatTM7PZDMvY7PDYJokR/bP+/9a+vn/eNavj33TUPCncomIkCH9sFcbhnWz7qr392OPM8on1fAkjwlY8YJryKoCzcJLUwKKDkZTCAUDQutIIF5h68mWAm/z7FUBmMRGY2AryQExMwaQzFokUK5HkbAmD2bpHIACkKo1G6dDxFVtZujcQeeyJAMzAQSNmziRf//OExFA5HCaAAOYQ3c2V5k94Fq12yNqtaHr8rh+XxmTSuG5JLuwAyt2kBKoX2cALAVLG7Ebi0CUeVaMSu7+FmZlVMIwXEQRwIAvgwJBFzB257zcB2eJRdk/vr5L2D0gRBWLUerd9//////zccIWIZ4hsNNZEGw8jaejaLGXW1C7vBlV8fHP/zP/xN/Q+5caLshF9ohswrpYuQkGMQYKGSkEV1fweMQk5t4krfFWQDhed6ZEQe8jMzARcaHW9qNLA//OExB4odAqUANvE3aIr4jcRsE8KtGyNQrhdTx91Ofyhy/J+XYuUaEeg3i5DPAxhdgSgMZVUOc5C5K6ycbc5w8lrmsOBGm0/RSrJ6fqiQhlrfNLQsYpb/7qWQPBxYocoJh2MZVRSOQ6r/o/Yz/////po603ZKOsiIhUUvVv6fft/3y2KtE9JpS2MxaGFfVMamaV/m4oNGiGwZrGYKBDpg0sHVz8YQGw8JmymAAvAxaVxVAAtca8yWked93Kh7KXu//OExC8kKeKAAOYSmHzFqC4Dd7LGrelV+GbTA2cqa7Xa6rMS7rQXaht3bVSCgFDIkJBAsh1dZE002qRAkIgXBUEQMhllZrf7zy/jHKRS2Uv4xjCStbKX8aQqxO/////8GXf7INPErv8S4c/h0TSybBE3SIBFOATSMSQcQxJgeMupkN+i7MbgPegRBkY6ArKfuGAQaHisPDvkgwBsF/UdK3CJV6JZCEM9Myly5+7hMO7MwHAKX7gwLE3Lj0ujUAQz//OExFEn+vJsAO5auCmGbjpsSgl2Y3HLta/SYmqA4ySUMMOcEbHIbNuiyTOzOtldep3qOGpOHYXD21Gek9ajyR5v1Uk2RMVLtb/////1r/SNViy//Z///7pUDit0nbUyMGBM6wFlg0AhhYkGU+wZgKxgIZmKw+ZXNptFChxORpMFi0yqQUMUawYGDEAsKeLXS0MSBJi8GAoBwcOGJSudQeXW3gQkPrHoonIX4FhI/p7m2oYYyAUsciORCmxep3on//OExGQxdDJ4AOYO3Q25ch53DGxU5hEIpUfhhcPppqXtwbSVxSbn7lin7UpLWH//Mx84SxEEgSAjCYCovCQIAejJUuQ5MUEJhNKPb//////////tmGc+v/6mMr1Rel7/MoqVqjWMmWqjH7oVdiaRxfZsZYODCUWQLCxQ4kKFQIuspuYsnnLjyv3sEKCZKDOg3jYzSy37lCZZmVrB33e5tSYNzSh6ksvp0U6LUdW9AuGIEAg4UvF6lVig1n9EnTRb//OExFEs8zKIAN6OvNM9k/bbKL+OqeBqe5XZL9PJSoBdWXSyJhQq40HzjSouQ9RHHR48fMHhopMsK3OFxpx59h9EYRhgfIMP1II1GP0af6J//////+1fmcwsTPKBH8w+KsX0PhxJVoljjZ48JBZAWeX5AmuBxpOOHHbNsHVVY61oxJaCIZrr7Dj0FUM2oDgMG1pnGRnQkNYlbCwA0dadrFUHWt0yjo0Gr1KMMC0kvaUDEjmyC07ZMKt4TCk+yMQn//OExFAmqgKMAN6emBAZbkCWINz3OOFmCWOM13Ix4tF9w1ay1a+XWcXpe8zbNamcbr63r3s8Jyg23PRmt8RN11CBUGXpexn///9AdA5554wGmu7bFfY4isqWAhwyZhM7s8+hyVSppW8Ah5KpR2sIiIuccKGUOBxnKllZsJ1XglMaQzAlcKQ5itkOQWOvqBoLrzNMFWgKKXZwRgBYhLJuAU5JNZze2fq5sCbSvK3AktqbiKmFLLsn8t6udov1QiY+//OExGgl4zqQANaKvFFT2Endxgu5yirTiJ6ILqokGqVRWrDTOpmZEOfJ7//////////rRUdRxMYf/kaOqvpImX0PwnWpcTvNV/EoEOygA1BchGpeMAjwEYIgYKlD8pmxViQCajiDwCypcIzhjxLrS6XIT10SFjRh0gYXcRo6dgURtYh5NoiNALEYiqhqXFueYUmv8rqpuwfMv0gmXpDlt2WOU9NEnzwv8+plbtX9Xu2tar47xwyl/cqlmzzKtvWU//OExIMnmcqIANawlKrP87TUooRUtIJsLAZ6P/9X//6HB86w/+OY3TWUw5DgMODpxpCB4QKEij4agBpSBgSZuFGZArSnZFUD3iT+Wsimc1oY63Z/woaaiKzmIohFrmbfaaSoDF4dUOSudp2nGROfuhfIhBAwIsCu131YZBIGvOyyGaXwqyWpccQiwVxxK2q8hzlBexfmtn28brrNde1ntIzc/ZcRIj69PXdbYrS/tnMj2KWEtv9rf99qrHXly7Xb//OExJcn0d58AN5emL/zv/9H6tzKVS7huEmGod+gnuHggIYwCSqoCnVHELzYnGtUKpx1kqXuxirSoXKHGgGHVc5UtBe63nL1TOVXyRQmjchxMQVJwHUiVmDCUUZ8wxWZ2cp2sii0+vrFd61WLj4tq2H266zXNdV/rFtJG+vv2tX2fWiU+K0f/lQV/9L50AgqIgaO882ys6V+v2Fn+p/DqWAICj/oRZYZOUZ8abaaYE0WUaIqgxI4SI0a6AWAL8wI//OExKojOcZcAVl4ACWbsPB0uqRDfDOlTKh3ShuBpVCGKw7F46FyJkT4QrKpCKxqbaYyp223fSUtDMgIFkBAENxKOYwiD9tkdqxDMoqv3rXTtnw4coQZUGryXSOrLKXK1Yite7TSSip1+OgzkwoEwYNeyasxT7ysU1iln+zEropfEtSvha9p7zzS1EvjEEggIXrn5yVS+fq2/3hYppZlG8KKvjvOrWzl3xSWW4pzbvxe/SYcsb3Uy5bz7OXbteza//OExNBJfDo4AZrQAMrOt1+0t69UpN6q5x+H5ZWwa2/9HMO5YtQxy7K8t2cd3qT6WxN7sVu52rmFi7lv6tJ3XPvVN56mLdJ2xq/rDs/hi781SOJEaZtncuL3SEgSko6Rx6a9HkC25xvFAJ4NvKpgHNNdVrS2ckACuMwaF3pk9IDarpnK1oQiw6gMRvnM2YZYPtCFODqRITpMz6LsTk+S43g2hKUKMeklRJj2cl2dJykqOVL3i5wzXPE6FSuCLL+s//OExF09/C5kAZl4AR+oaXFWD5P6FuO+wxS5PiUnirS5uD7ZWIuqoXLUTN2cyvb4yt0972LXNsvNPHN5iFiJDgR2GM2MMSV7Abc/41Czr/27/MO+njP4qriPJY+YDE2yKpOte27Ezjt9601b6p4NcQn1ZvjbhAo6uzv+u3ajRzbOo4S4iOcaPDhd8xwnOHeE3xnylYVyoW+NDj6Zfjef8+tc6/rXD2LMO3FBoWNGOkVTTj16oMdJ83ZhmLTNLew7//OExBgq9C5EAZtAAVTQTEEVFUt0NU3aBYcTS3B9iQBaJ8uXgggHQ7FRYSiouNErwMGCgsMLKFUCxJMEtV2VWfD7zIiA2JKFBYPo2VMYpttSp1SrYjjBV95msddDhiW/C1w9SlXFRfJpESLZgucKvconzutczrxERd9tCxMxXdSUbmE7DiFo0buTY5dbemh6vf/P6uKjvuOZukV4xkIinE4WqdGRToN/+O5ApAFz9WRA42XlROIRibCL+pE3K4gE//OExB8uVDZ8AY+IAB8In4fH0GZNiDlQmRrhbOry4tM3QY1HSQYc4m0f7OgaHTc3DkyDCC6hWouIRv/0FtpIm5XEFycIKTwzAceF8xSQn7/9DTdJE3N0GYZoLYADwPZCx8DEDlR1B7A4RmyW//9+mmo0Kjsh45iZqIXIwdwhQV8PzHUWRO5HjJuOR/////6DL/lQiBQJwoDMIpmREBkFHVk45XMDQnHqam+ALYbRBzLXEUWg7Wairja+a3+vLjXy//OExBgq2z6gAc9gARms59pmZmZnJ/s69Z6/0mvT1Nme2ch1JAIK7rMsNudm/XZrt+zc/bNF4trVhLHBlmghNrXFzTcUjiJQkhMUaXJIkn4ETyFEdjqVlQdAaKo6rD5awTisWmWXWvW0PbMu5NVsXWhOXd6dtOQuu2yO3sf1oaWrNv1bZmuu9berj3nQirlTvKf/H/pKrwUF0urtaV0poLVsi6vAqYb41tYHQQwMNNZuzfCtEgYIDJiY1pKbjgoY//OExB8uLCKAANvQ3Z4p8wqabONRPMwfhHOOH66i2alRB3q+NUVisgtafOsnRuuZCzTrlw7PqHWO9o8g3g9/SR0eJdYBqKCJGiPYV5JoGsQ70xT03RzComEAF4UBspJN58xBYeu4NhHsqfXWLLFR1ohtU1WpNJfcfH//7fz/19RP2nUmEk04zWyljX+I/TqbISpu375+//5nnmf4+5/mZlpk+8tDISLk45JZ4Fo4sBSxHU3CKQGyFfJx9ubUFr0p//OExBkmFCqIANvK3cqBz0Y2m6JcuNMj/pqcjL39dOPzc8ddqT8GzcXlmnuCRFE51eIKfscK2sPrW28+ep8wHz014u5WKnzG+ca3emNZ9zWUTaMEgFDRofEEO6uxhUwuRdd85lIQ2zujW/////SleioJoKMUxaPe/+7VI1kSv//29/X5kdmR0McRHnaqm4bZAAX87caEht3DAFY3xfNLBV1mEo57RuYwBrovhdy2aGmQyGsTlJIHSt3INYdP7jji//OExDMlEd58AN4emM5hhKZbzski2VxTpyp6lbUAiWd2VOVCs2pKYiyxpqy3g+FqfDFEFeUU1s13669d+uf/auv64jZxBeqZ9B1GfZtnT6C4iBXFH8OtV///SFB2R/WJRE5bmeVzR7/FhMDYdNLqfdYcQgYYNI2ayFEYFAeRAiYIgocmhAYOA4j0CgNMYRXbSGaRJVXDAomIwZARAtrVVmdfCmrr1sUtcINS1qkanMt3M8IkzCW18L87lyMOrQz1//OExFEnTA5oAO4E3JaVI49J5mhs0Fe5vWUvpYKcpVaXyCeqU+X/3n/nn/75z/781CDmr2RkADu1NGKQS7uR4eX/////o/+pJk///7N/W3///7t3Y2Q4VfVVeMuCNAkYlCod3AeCiIEQAgUoTTovAsBJaFwzDwMF7vZE034yzyGQtyEGtlvr6fPO7Wk9NXiKAGHbNiM8w3+POwFftXrlq5z60fpaazdhmYuyrKlq3nJSMZGnjwAiLINhcmROzGHK//OExGYlivpkAO5UuH81MzsxzGuNjVTe6EyF6MfRTjj2Zucaa9ur////+lepiWct/5FjBSGP/+aUlBp+xKpFAt4YADnS2B1m6FiJS4sDJpjGPJ4qELHMyEWfQypXFVM0/2tredR+5+MSygH5MJ4WiIVgkCYoqie5keEohTWZ0NcoPx+MBmF2eEsEMYEvZGPYqLI+KEwtDcWWU051RTyiqVFs4w8gMdHZjnu5vb2d3PZaUUkp//qi0/v58zq/+r6z//OExIIm+3ZgAVtQAI8iPnf/oqVY41TjKmGMTlj0IDkvf/7xtIiVUcOIlENOp2rVOBkS5Xi+ahCEsdjVNq7xWQ4keT713SveI/Dc2wdfH7BqCzwKyTM7Jn//wlZeLHpp9G1Iyf///DezywmSR0ShGIft5////+9Z4dnjur9D5dOKRL8KJRrlOf/////vlBPnDBEj13R+0ugBWHGpxhnePpRIcvqP////////HZG9zlfx5X8f5jxLnw8P2CdC7VDh//OExJkyvDqYAY94AA25EMrMcEFY///////////3v7zv3vHxr+92TXvull1Agw703Dbm5hZ40qHul9UK07lChGUz29W/1rC43HV/GCQ6061Wmkqvcc/1v5efPrF7I7uEIp8wtFy1zHcuVOG4BJoWrrTLmu/h3VzTubc0gjdVE49InFS5kQYgbKro7UHjzjY8Sh2j0OopDyPpoegk0kXXLWJGv/tq3XO6WpOlFtSa1D3fF1NcG1ta1zrdFtqTs3CT//OExIEmKzqkAcxYAJzrO1Y8edlt3KjgaDuNOrOg0DTLyUAgrUicUiTLuQtUBnhhqmjwu7GxQthcujTkLCh1GJLUUOkcDulYhEYopTSYU7THCeSblTuNdUDTqW2xR35mYrU/ZbGeSXThWVnVdvPrIdiqB0kDy7sGXPXYzlmJ5vshd1ncgs1b7TlbntLrVaFsb7r3uk4/MXU5YJA/FwqVnYdIpuEJZrkZL2qHdBtCj6RCGTKRGSPQpUVa//W3HPFQ//OExJsnohKEAH4YmNsRvqXGBZWmCeAHXoLQYNCREf464IqYiynFqILqnme6LiqYG9kDrFK2KkoLOGlKbiIRFBurhpWKCLFSgViEYs7J2TQQpsz+Xw7AVa9lWvWbmd8HVoslum2Lkm845sZ9voU0Y/at14dtetKspngLHZJgIRIlpBGOVg6rKNfT/7tPSQQclhl//XVsyoanlHrsQAmH7P/+v1E1rSpmYUpGmMuA18kAHtG0lsgEHYUBhJ/0XjKL//OExK8k4hqAAN5MmEmNuSouYuUHBFI0UFAIZGMmcB5elyhAKkVW58aAJSBqNFN9m+MiFAUHP04SajvPNTT8Zs8gCWy2YjF/K1KblSzyMXcYXG7W7NfLdJhz94d+mRiGVRJXQiOYXUJAg4UIIiZDnaxB0SMitSQp2UCoMOQVXVW7////9v//tytvKiKUokYcsWXhJMQeTadcC7M65BYrTREwNWVcKOg06fEsLBrQMVDxKE0ITV6KGhxSGLEkJBAC//OExM4ne0aAANbKvWQSQCUkFgsHG3PBloURAUEGRjIOIWGxFZ2OVRpFLjdgd3aXck3zcrh2W/nVoezcxatQTLsO4X7295ZZcWfRG5p74+OEjRuEZ4PR0bDo1LGGllolz7JuapU844xf7f/////X//ZDGRjyo6thytVsGEjMAQgHc6ommYJeIkviEFiQAMWL412IIHGQKYZX40rlNBUQGnvkbXFAsUjCwoNQaA0OEho7gQCGgS2dEQoKEigBhJ7G//OExOMnCx6AANbOvYIymCACNBAxIegwfJVtzMJisWAMUgl3kkZffRvXrg+7J120lpw4nflbbwdWh2G9T1ZTOnU3lbfwND9WQ4/MReq4zSzR25tYctStnj9zQlwSJwnMlhsD/0tJJBtTjtx9fmmILx5SzyNI3v1LDXactDfu3VfJrNtZx/jP9fv5+v/j7396/+L0rq+JL5/tj//N8eHGnUup2NGOCnVESG6y7jVnE63+z/0LC5sNizxV6ZVt9gpF//OExPk9A1ZoAOcevAOUpbIzECcaV1M2uGCtTcKiNhoCABgppieZzoCg4qIdBjXRdMps7WjYjkaBWqDAYYQUlqFORgOC5eoG64qFp5M3ljc4d5lenrPHpx/lJ+P0VbGxKa1/UQr3c5rWGreHe67ibZTZ3UxFOEEjkAwQpjkNB81Gduq0KzlLqJYqof7bf/+i/2yI9P/pTmMDIlDCCTqv3//61aGRoTB3KBRZARYADCGoSh18pgmHpIsYNsCCg5/I//OExLgmkyaAAN7EvJDLR1Jw0mWvgHDFJM7jxIUMc2eKhVAlqfpAuY7udyBgpcvwy52WQw7BEshqmv/NZWrtuYuybScYNxifEYCVA2BJHSyVHXzUW6/h0Sc0c3VeaFZs5tu+mcQdqL5teEmpuxOETP/bW40hSwVDgYAjXf63OEQUUa5MAoJCQ7/vWkGTKRcZNjgWAwUUMXDAaDA04NTWB5VM5Qg4zMUEy7BiI4JDyWqZoUCXxUqbcEFBTWjO+pi1//OExNAmqdp4AN4WmOcJYZUz3vzYfaRsJVyYMnSJsCmq7rouLdjNFlllllWhmW6rv6/sVuQ1DK5UJKdLumHEh7KCxTMtc03V/X3IqDUGoKQhNJUVS1yQ6cPQ5ryRWV+f//9ahaa5/+Z/r/9mlf+Pr4udlWlmBayTYHyx7ErrVQ0R8JLrOt+hdTFAwfyMWfNRFCIK2gCeJkTXXKZimC7ERgJxo/jBU9h3lPe3KTIvqZOopCalwIsCRCakE0NDU2MF//OExOgr2u5YAN4QuDIGa0mKBLm5kUDQwRN3LhcPKN5yykEFIoKRN1ugi1JM+iaJTF3pNUyboOfapZ1FZgpGiyFapoYMzqZCpVk1Lui1FffTpum6buu6Ckj7J3UgkgeWpSkEnWmrZFHZa1K1umymagiju6CkGUtSlmy6DMgz1VIs6lIsqdbqQVUicsl2MMpcIRgy0OlAz9Bi74ksiwS3YYGgIg+E8IAJZe6AzlmK5tIR2Mh7G87yMg8EFLZuCygD//OExOst/Bo0AVpoAeWADO5XR2LGCzEcx56LJtCMEEzoNEHQzkstWJy3eaKzhFdL9LxgYg2BmJbICBiafljerHcOMZa+pupnHpt9zQ0KES+YA4D0JAZ44b1YqWM5qraaxZkMOOWoIwacSWdwiQCCrDtsVQZ4Tn2P1/65gvRU7IWz0sOz12HX7l7hh6RhCSLvqM0yUDV1FYlBGWfOavY65LNavdwvdk7/xGPQG2N2mlq2s2h1fLBnsbm90SiD0tgd//OExOZNpDpQAZnAAIfhjZfZ/lsO+EIZI3BxnY/DuHP3+v/nfw/ut6/teMySds3MZBhTvlD99yJBYjEfkbkR2jcdXThOZDUNvu/jiLpWZLKFuyIrQRwbB1SNha606hoHdpes1zdXoyEDo+o35ZPVy9CXbZdaCYogx8dvst2x8l9+JIiV0TWBkxQksqcMuiKAOsOHPJpADQspFntzPc3tTUQ/nGr7NTSzh5WZtayRciKFKYkjWiUmpl6g2TlIWfn7//OExGIjcuqEAcwwAcO1a+N83t/8dq/z/I2kn7cxv/bmdUmsKp34rc3rXnVBe6774qEVz4TtTa5uLIWrOfFa2dIs49A9I1hNUsq2PitCNvSE8y6xY7qqNu298ZqR65xK5we0oj06wRxCSAHFGAMtUILJEIqRsCUBgSMgUgJUAmRNTXpp6UzROjykm5Ra009nO5Cw6T4xanDMWprP8VLKyRkZoKbCLU5QTtdVOVQ2od8s3+4wr/f4z3Nm7V9xRimv//OExIcm4tJ8AHpSuBQExKEwUKDFvP9dGgLq8qLrkbuqmkU3Q0QaifZlM9VCSN4RVXK963JixFH9O0eHK7D595jnLRP1/ILUen5ztieeaRqznz4ll4w14MyxC+nKzpjhThJpEJaAVzKqYOowpM+TWTa6EUkmJrzRFRojDc6SIoQvUM07hcW51MVsT7moitEEZioaQLX2X2veKeG5DI3f+Q8/PfUKzP8rJ1X8s7MVNhJhqVMW2IYKxy+yL+pBpZBg//OExJ4p6xp8AHsSvGQQGvSozLi761XKczdQ0eLNhF22cNkRjpOCituECwY7cLxsyrK1LoTy1ufiXN0xNMFbfevzvTeXZnpg2tWVDwlHxWFxLs2XNTvumpfGoPjweVxGduqZj1iqPZjru1j2goG0e4NQOcWfk/P7+NNUySWeK0sJLM8sXh5SJO2a2Tsu7h9var///9+1b39x/lHX/BpBAtUnk4uM/v///f//+7fu0a0v6fxfi21ltX1y2fMb9vZu//OExKkq/AqAANsM3JcQGqnM5cYY+nJgzvhQCSxMMeTvyVa7PIdlBeRtMc2QlzFYMNqhLnO2buh9L08R5rfqn3eM3T7/eKU0yPmNHxyEHKShWmO2t64TJb2lshtRpreF8whcCWRHNyTiGQI9YL9/ea+752Y9nMKC8iYLjjEoeWfNqNgUkXKMunOThli2EgUEgmNcRzGo6ynW1uJiIv/////5uX4FDRaDBooIxqDDynm9p///j940W55yy3nSOtv3//OExLAvjDKEANvQ3b/fqMYghx0ivHKvF4zFVeXMZUKDzeIErUq3FJAI3tTidS3gLMA0OoExhEdE1tclgZ9+pyqOena1ZE39OUTPgsHp4RxFwLGxJwtsEIWo/FNfh1357C9EsbeFDLHLfuNvtH2WWKXtPOyvPOrc+k1dx7rD6W5Y3NSTOmsX628LH853f41bmuZWsv/+//2KO5TAuAXf/60jUCoKqAQcbf9enZF3/omS40onY/Kq/HV2aBjOl2x9//OExKQmmiqYANPwmPpVYwGiMNAZbbpYkYGHz+YUIEaRO91Uw4I/xup5/Xgn6t49U6nJ/CTBlqyI1m8DAE3S6tO4fw7Y9WJXIch+1EkOIhDzSOiWjaCNkwyHEOEqM0nRQNlIoomp+jRMz6SRxMehKmpkSxFJe6S0HqNjE+kk6V+6TMjdX///+no1NoqTWtJ0GSSWgZnhEo5KO90OHEGrvq/+9OBKmbesX8MCuIwoHooWrCwZMjwQx6UB4Kutd4Bg//OExLwoIvqYANvauEpXNh0n+CiB5n36KcGFv6syrrGvldKrOocYZq3U2BhgAksLLB4nwBEjvntcbHg1at8donSa1EmEhEpPGJicHs7Vkia9bPpMkukTRhTVbmpOHk7zEupWXZtSX2SVWij/////Sf0ntMjZKtAvGpARB3yz4dWIoSJfrd/6K3BUA1Dy2bNzAEDyQfDLSmwhVQqAgWAkwAAQw4a40OEUiAJFBgdcwfCwBAsy2nIBDicA2TN8adg7//OExM4mOvqIAOPauI8Qwdt/0w0fYdtXIpPT+DIy8YWEBRSgsArobHMduz9x+rN1x3fYwpi4tWpHZVb6SZLmgmRdNCRBWwtgwRseN2Wuyq1utVltpPetZwnlhimtzBFM1SoqRoLS/Su9T6f////9CealrqQTaYn3fuaX2d3/s+/ILjVO9gColWjxXPSlwxOEQAGAIEzA6HN3x810HjLIdMJABHo1DIrKWqSDDNWA7A1KKT4BQg5nBcuqjIkMVxad//OExOgqsvpsAO5auLLChIXawsN2KADovvL3PMEET7SAWe5JjUpnQLoS6bFQJfutS0ntcmrFikcCd5XoVBK7zxOXIcww9NYyg1ic/3lx/LO/mH8x19V36Wgq0kN4Wr1DEcb+NqvH4hXu37M/z9WOSnZ///58QSQgcFiaXA+PfAWFiYsZW8IDCTliAWEc4qwVP1qiE0qUyavSBWiZsY7bJUzRl6dgRDsSZiwg11WoV3xL3gcNOGu3QCFHEYuKA4AC//OExPAxGfp8AOawmIARGttfxfdZVNajEYVUfq4+67y8CkpKzuLhctO5e1JK2RvIeSseKxcxHisQyV7K/ncHHTHCTQtxeo0FUqpztDhPYmrxI9aVjOraltNiysrv5+8x49tR73nPuLDAx/+z//3oQBWS2r/dTvjev6rec4zsCOYcHr0aEwQxejM6DXkgJghgSgCk6ijLdTioGlmAqVGckfMYdy6JpOHRoLBuoqcuWZYZbV+EJYVDBWYciriC1Mh6//OExN4l8eaUANZemFMEBmZZ83UzEQNk5Cq8pg8bOqegUEZe5MCRFi69pxxJ17ndj7D3zeZkMOwDC3ka880uF4sCYSig6EUsYaJh5DzCY6PE2JlYQEig6VGksxpMJB0bBE4oHjT0HB45WJmmmNNX9//pf/////6KboaMKQNOb2HD6DAEA87S+qrHDroGirEwKifAxzY7pxm76qDmhlg5jCFNwSfOw/ByFQAKiTGUDZnhYcYdKc+yYs+JHUZAAQDq//OExPkwUzKMAN5OvIZcEtZCQZA8IiBkwiEovQDjZjBY0RAgIxAgSCAoMqdRdAMoasWMuXG2cuSIAUiEHwyJBSMkljcdRwKg4hKrDIblw7LJzdUtqiSsI2scam8HRXvHD1IeRnLrUEDurT5qYp34kFguWAw8BBRoBt////1rNhYPAqb70zwSBsi4RuIV1dWI+MGDNK3EnlFzjuwwE6rKjMGDjhJS3cErTkqFerKMhIPZBCFr3ITjfGRo04a7RUkZ//OExOotyeqMANaYmMGsdbkCBgGArdloNEmBUGNAL/fEvkgBgSURNdwfMj2NQjR2MwpHXCeTXYnD61kMlXLg5gVKhOu6dLnoUNTtPW9v2t8tW++dTm2Io69nY9VaJSD3x869J+r////1ErTYVDDwwu32/SqIvGggMYiD+QprwIBAa4m4ChkQKQAAkSnb6wtHDAMYEImGBAkpmHAmSUHZKA4oHEi9oFjHbeDSd5gKJOVHGmLSyEoNImGtjBps70k0//OExOUmGcqMANaYlALSRWCQ9LswimWCTCg+88LXZ2tPSqm1FrOOoam4anoNaDEneyjXatmtTU2+b4azo+ayscSs9DRUC4HQ2Ep9eccdOnId+cIw6UEYHwlINTWdWdHRW/////0///Q46azqRVh0ih41GpHzvyxUFZZ7X++uaeZgJZhlGHTeYd9XhiMoGyW4atHhg4xGXCmYuBZh41mkEiZoDJgIMmCgcZNKBgkAiIkQtBXE8gQgYtqYLgZUDB08//OExP8vM2JwAN6OvIwB0VFRl8RUAFBJrISUEoVQGmlNV9F4nXfmGq09Kb1elx7YjN61V5aq2Haiub+zEWClIaFDOVAqG3Q1mZiGKQCzF2p930qvSV7qQ4CyUrO1exFrQitXqtf7U79PROVZwEtayZWBb0q2aUDtz+LJbStwRhK04UAFGZR6jMDgBU5ERZlrjXwsKZwrNHmelmrqOOydw4WKNYHZzE3XYLOIxO2HSCeSZguwwm2VPsKPnbaAuow7//OExPUs8xI8AOZEuLzsrS6NU2kcIaji5E3rS+/FIsPaVaZi4uEz9RcpiKAIEBqP2pNxkem6Y+owiHOn8tRKUUMOVAPRaVqkz4fUwdGoSi5lsq7ppXab0PJ2kjD3s2qa1CAaLKqENl1RsKmqxCVbBB5dy6aKEO1lIOYmVXKa8nELNQw/zReW6NaqJOrqLVG5DYHxh6IuM4vInG6SWUlFRUMFQ7Dso6UHOIZw5Eq07LWCpnyQQTgkWDoEItaWQmDN//OExPQwFDIkAMpM3XnOLKMPLUUhLmGuia77tvtv8F3qXenLCCHrjiXVhIhRaB3IUIctCNMO4GpDOubnGEYG9QmDXZt8kckDQ1tTiAjXQoanTd2YzBxKZW+hCj4jHNP6Y2aG5GpVzct0Ek90TJRLxtCMYIdGZO6Ea0oYKkALNREAliX/ERRd0ijNpgKRGQWTbG0cBTUTlAXCXamwguIAFKVzMtYvAjvk7E8HyOIiCFuoZPDsVpzIwg47DVj1K04x//OExOYoZDowAMGG3PAd5lDxL0IYQce49RyluDwW8JIFyKWrzQRK6Vrc3qtWPmBQErPY8C/qBzV608ZEyWMfBfUHGlUSpfOBd0OOhshGQtvG09DpQs/yeMrO9SyUWpmAu55nQo2CVIIxkVyMOtTLLurm5sF2p1HkX10rlal3BPsDK5TKw/2phfPI6ka2VzZNxFO5TQHNwhwGFbmhMjU6jQ7qSDSj2d5HkiyYc3N43q57GWH8JqrZ0/iP2qDFjPXN//OExPdJRDo0AVl4AFDHCgvmlWN6Sg2UDO8XDKl2RnYF23NcGesbD9OQ53zp28a4TG+dOmeBBaosbUc3R9kQPjKXITFRKGpvPU7ycK9F1UsPTbN3+KeLEUZcIiFxWs3C9H+rGRPuLM43H4qD9USAchvObEkTjVDAzp9DFIrF2XRaTKhU5hH/CcDvJ6dRBDwitS7MVnnTDlOjfdxiRS9k+b3CE0Kt6cbe6VJmJ5+qUezLhfYz7IGQdLiBnOrxmEnK//OExIVJXDowAZp4AINs9SHj4bVY4Mc8eddo9uUDcUShcVCrIrC5H8jI6f7ayHWdZlOERCUqyqCLGjO1lrhN7gu4USFRshtzpHRMwYrjKZaCXDp5t4TBlNchZdxMz+JYbqFC6F/gYPEsdFdFiyP2uGxwHl0mrENVDCjVczMSw3RHblZih2ezRI7in2F20po0CNoSjDPR65a5jkLYMcW8vaoL+9MkxmtANJ8s75J1rRRGqxQkIpYUp0S+arNE7G70//OExBIpTCK0AYhoARRsjf/S1v0DV9tSK1ab0mMumm83Mi4tc4PUeZGOqRf2QZjdKoqYfy+iZGRfHm4yiwTI3Ham5oggnoc+UAWwLoORSBdJRlKElDZJcOUM5JrHaaGyt6m6CDdBjFJIkDMpnS+dSMUa3RMDpxjEkigXjyzhcUWol7/+n/ufQspBNRgo7SW5uboJnGWylrNb6TpJnFlClKpfinoIYZ4scI9zHVeT/S7Jres/P1nwsa6szM7uz2bb//OExB8tg8qYAc9gASZmZrMC4yKxmrW87S8F7T/d9qs1Rj0ZpRxFpOZPf+tZnLez2Ll3nJJJq8SXbmIkiLyYOQpUtLvZMTElDihJXetZldGSRJRFYGwNj6hkfelPVtMq60uMv+dnvta0zNa9a1vsdLXa59a5au1rlv7vaXLraYu502tbHvr+9WrPY1Ws5M737Xazn1rmWs809V2Q3XQr9TG4+dpR2EMIMrQwd4JhJJGOvpmZUnUEA5rN6Cu5JjBM//OExBwsFBaAANvK3Ul9qBlH3apl00NLjEJ2tbTio3rUDGHjq9bPPhgi2gbVDGuS2FhTadBtoNSohKJxFxquUBSKBXxC+FxsjHcLLuTV/PjOM+/t72OUDzKKh07ijKg5p4sVxEiqdkehGQ4wdIEBVzuRWM+j////oTORFMgfFBcxygxnPZnaXkkRvtkZVRnVmdTI/v6qr2NdDPJLEhROVH6qYS/idoJsTGguDIYNSNk/2+FCs8CEDh9fscXXS0CD//OExB4vdCaAAN4Q3WTEU9yJWO7a3D12qvfnzEm39THLs3jz7fP+7S49kF6VPsBBtBflyQ77yTzZlxQY6IceNyxabQ8s4u02W8mZdVvTOP7pLWVad39WtkWHA4YWCwPhYYCsRTxha8DuKNVu7/gQA+GUNWoG1zUzTfE///////ykVNkwizSkrbFM/13/8X//F/f/8LO8Emz/389af+9wQiyQYp4uLoIhg2jUhj6A3Ua+baeLd3MSLPa5Zc2UCPj5//OExBMk1BaAANPE3UVKx238W9KY6niLBqtAO23hxPQ73mKsyp+n+Pn78DeKQPSBNijzvlwpB6lVREHFZFXhIciCrW6RlK44o+39W///zr//+hjBQFFL0ORxgEoMgpDWVDuVjOhDf////3dzO7K2jIhpSlQv////pp/8pnClaY1DGqUsMpcEKOwCclBcqiQBgYXhYHGWO4YBCDmgEfmqGwLB1D4YfwRc0+2OAUPPJL3lMGjJe0hWWJjPN7YXl5iw//OExDImJBZoAOZE3No8qQtbDunrgbPJ95DhTOPrWL24WnivTUOt1mZp3GH08qbtSX+RfLt5YaHoDhhOGGr1/Cxvf//f/n9////u306q2tEe3+r6p0////eYs5rCl0avRkf///3p/N//v/+rENopWqJJOooLAUMDRELTooSIuaHAMw8KjHktRJMBAgxG3jgoCaHAqCYmAkvV+Z0LVuDp7YrtS7Le5Mal2MFBBUbn3pn+V5TlqvCb12gz1yas0+T+//OExEwlu3JgAOZEvNd9ptynnoIhLZBI4zzJr7uxSUtZdXk1nS49poZju07Wo/etLv/LX/d1N6f////YZwFSgANDlU4IUDKzf/6u/ROQ2ROOXPnP00RcSyQBwsCBhMExnxRphIE4kAQcA5m6UAQKxhWCYAMQyrDALAEoAFARTNvogmCoIKxqNJwMUs16a6agkCSePhoSBUOxgsWG5UJxWIw+cYWVRo5ImEgiA9CUSgRAs5qAuJCoDQlY4ia60err//OExGgnc3pcAV04AKIYYs88+lqKtXzfsq+36MbV3/b///S9b5zrNQkPDxjnObX//rMU9UZq7EDSpYoeFFG9aXATrRGLTNNYMFIMmbhichBwRMVgUwKGzDgbMpIIDBIFB4wOCDAAIMrkMwGEzGIKMFgk0hCKtgN8mXsBSSRLWixogGnJHxka6nMtPq4y/IYnn9eGmSHpIHh5iaFkQf+Ft+5qgz/KXwtwJRKHuYRHaGGIbayyN9XWbFIW0lVqUwww//OExH1GxDpIAZzAAFf3dzeNa43Rskhkfc66gVW1q/WrZ1u8x3dq8p9VO1LNJUuS178pu3qi33f7/nLlNlh39713OL3px/5e/eXbOdyv38pbznzFib1jhl2Zzzv5/9BnzlupvuWduUT76SyQNzb9r8X5PwxYdyzTzkrq1JPhzLW/tdy/X67rWFjOzupvn/yvX33PWtZ5apqe7do6likpbTX5FLKS9b3nq/UxItF/k9DqYJxWoiFh4OJYLKtExxLF//OExBUr7CaQAYxIAQpFbUUdOiI+uupjy5tk23MaVmjnHiAWNwFGoMbRxWaacT63NJMnmRo9bmDk2E2oqG10mCQ3sPDIZODc0ZAYewWIJ9yiZP2hq5r7u/IZ8C5otOdyZTpuAbTQidBkmZe4f7vnFLX3vusb3yYZSuEdF7q5at+vCptZCEfGEL///yvv9//z3/YXsfBOvslYek9891b+r9beoY7Ok8UqLM0oor5eorlt5d3EEhbzzqzPVQkkMVyv//OExBgnSuKEAc9YAHJqhWL1jyq9zqWbGhogYkAO0xHQPlD2WjqBOAiHsdRJCLTgtJyhNJaKI3mI2Ll1HTRc/wwlbnsfLZ5vhzGm7qjo2zYuPXJ6Vt1tcouqupKIhG5rChdK6k1Drb/P22ue7qpn/+f74+f+0ZPLo0CoKrBYeCiVLESYld8Spxe/yK2g2slWtMtVdGul8bQWeMukyWAZsV48feOXohlu0STBgTDhV3JpmIx0MRARPhDAH6h+NMsd//OExC0nWwp4ANYKuPjSjjqxlfbzuNE2PwiC23BAHihmXta5TZyakztSq9uzp/Za7NFbf6WdidCUWDHH0Umhilo+VbTTlGnKWph6qzGdHcyGUqsrKOi1DSsaxGEEYPkETCgmaIKmj////oYznKpXOORR4SJpdYCEWY/2f+LKgiB0ngpMGNgENtcNKFLb0iEbNVCn6dMKlpnYBJxQGNbIDHK8wKfJnUgZ+YUaXKh1GQwgaL2GULMkT6F5w4VGhEAB//OExEIlAv6AAN6EuMgVG+ToMocWzK4tjXldy/jMdz7SX5XD/bC7H4hQZWJKm+j1eusiujOo8iO7e9jO97+7o//SUjzgiGIejf////9V6AhMWEcVUC6A8K/stt/7Auq5FmYnBQp4RcLIjLD4AZ8JIB51CU3xhUojfMIyOMJVGCAYNQJh4CjIJFRCAStqqMYkC1FoLJe2AXzBQ034jBQ4qtu4uRrMVqO5D1t94lTXJZGbsoiMZu24rdrw1Nu4zgCJ//OExGEmuwqEANbOuIaLyTj52x0yyu3PmrdCqnM6M7VWzue7VS09TURXZtLo7dX3pZv/////5iMPnDXlwwaOHRZ///9Us9e7ZkglUWbYgSBoaoWimXkicVgVCQxFiBYATKYwDLUzzFYAgDByZRoAqzZeFQoKEtBesvU5UpWHAwlM4kCBCF+ZDHG9sSt97OETz3dkWfaStTZUt7ViZls3Gsw0EZEXsWShRrHOetXOsjpNZZu/3up7XVXz1Qqc7to2//OExHkluwqEAN6OuOuq9KaN//////RnYuQKkAcSBVkFvOehBsRpd/qVJpuBYUbyGt8+hA9KDNjeUMxWKuWMoKQKsyxTkDMFAgYBPOSDDFwAICJmrHD5hgKlL/koGHYRBheFnLyhUEjc0JlidONto8a7uHu2bFq1lq5+eeqatjdnJ2rDtHf3V/88ea78ZKqyteZyGDOUBYGwmdXY4KRHaAuVSCXIVzdWmewJwAMcOIGf///t///3WZCIdmQjFPBA//OExJUoK0J8AN6EvLg313jXIYLf3iJYpYy5COp7IzEX8M2qEoiZxURGGCtGhoyhh5lgUqh8AiqWxPYPL8yALlHifqA1mySfQKvP7KlWvU10xgFLxx2PJmWZtl1zsQtcwvZY3aX/z1zHn1aWmtTVzdbX9zw7//RZSGeipilNEykHMtV2qihiUNepBjO6tREoHPDC71Zlf///f/2+pzCyBQR2sysKSFRYcOa3yX/1nhYXHCA4lYkxEsFDA63iY2Cd//OExKcm4y54ANaEvKDkquiVEPdmhsoMuJ3aEYUoiN+MBHSOveBy16ZiyFtr2lL2tPikZhuFx2NFBa7pUh6v2MPi/t76O1zWW/r3sKm+65Yw/V2audw7fnLFTnN74yPfvZUdqqV2HD1FxZWVCq65FxGdbV3kQaQTMpAYzMbdX///2+/++q6VdbOXJKcqB0jT31M/6WBgLQYNJaio5gVBTn15a7omXEIQFvoQBxmIBE14jABNvWIojTX8fo1gae3U//OExL4mQ1J0ANZKvGqqYtoFgrUjLMZPAnXRvvhi/yfkMIcFqUTSa9uxrW6uOpjedoUQg45HaSs6gwDwAgGhQ2HmRi1MzHccvDEF9WPDoWU6Fi8fP6xEM1tpxPaql3ySExg+WR/+tv6zouZAzQaJCE8Gnf/9SRGprhdyqWIJuBY+nRi2HCUVCRjs+BxWgALgoMD1IpuWRXY1Ity4CsieaiDxLSQHF/lLGkKRVieMvy01wVoKlY+mCmurahKBSVU3//OExNglAipsAN4QmLG7UTm1/uTEuvc7dmd0tStEq+u71TbvUKIRA0KSgqHmXJxRbkbSjaI12U0nmNWIUjqpVERJ1a+VXcVfqSE8s2hQtxdnpRJqSxFscr///5//9///9/3HKrP1YoWW8KDgKdEowqtyLOz2ZqgEXColDWtoqhIw2h1AxlwyQVnQ5AAEQBrpXc2eJq4VVZ1KKVwwUK05jDIowtJO12FHE5myKmU7La23BZoXqSiWwYRP0WhDs132//OExPcuKsJQAOYSuH5TSnZi3DMtysXbMEwzGd0tSajb+w9lXre8grl1xBJNmVawxLZWRnLlcWMnzhyv61mj8oo4y4HzRaOVirmsgrvYydLYSyJRJJ3Jlr5qqllNd3G7P1UP7N7Nb0JZJCWk0BE4uUYAqRdLpXe1PtUdYKy66xXepD6QkIioiHuNUopnCEkgADnS5G5V2TqP/LI015+bjrRjJ6cQ5XJMClAnQyBZGU2ylJMXlWq4xzhL4H+IShLG//OExPEvIlo4AM4YuGusMsJt1fUGj7UGZ7jEurPfWF/i8NZWl6T1xtckVuvQ2MmsgZbTL1x6mXEkUpBKQ6Wya481H/36WsXNVs9a1lXaul9mKNl7n6wauw5G3uGFVhADAZJRAlSbcxBGHt2E++5RnJXNmL2iyDCNUclFLIA7btRqhmYzFZRDMlVtYjUfqmcZTqGn3VY76lRQ7xwmklT9dHLRIoSlQ4noakyRHjSdtsW2swYT6eFi0iutAzLLXecV//OExOcoajosAMPYuPbL3c+f32IV3keFfdrPoTc+rDlQ3cFhCQGxILRFFSVWi6G6M3MjNmm5DkGtChaHWaUSde3wtRbOMIhXs6c8ePKHJNRMqNMmKNhWi12RL4mSG0ub1QcMZ+JZomUSDv2V9YmXp7S5HduxzdPMpcylONkdI34lm5clB4DWpTd3Iel3MNVbdmtAzsxiDYJxisGM6fLoFR1Lx7y2B5KygFY5svdTK1rrK5V10kdcadjYOl25WCKZ//OExPgu5AoYAMPQ3brW5t7071dYhivSZSuun0vL3a1ovNzFJWbZJJcVIppZJ8yqJVSaOy1I5qLG+WXUEWlvUI5bdkqotF42836qTkKq6rWSNzsjNLqZPnGqlpf18JHmEUS2z4te4kj9nbzOp2Ks72Wb2uZpKTyiLHMW521U7iFd2qnLK4ljt+UU9XdrGvfyrRy/VgO7ykl5RWbzrEqmbWAWSAkVEhc2TqzXSaJdbJTF4TLU5J0KJNms0xOzJXcT//OExO8sxDoIAMMM3OKtThTFzLOWvZojGo9oQgh+ypRPJpNaOugrUAIzbzXN1jl6abSBhAKHtcbRNGVkcubPYrSJLSOllrFIBLaiBrKg841dBvv1tMmz7XPMK85Gl30KKN7WrJ+EqAwl4UDvqW7DLSDHscwUnl6AFECSRiyZwEOSdJ0rCjmwoF4EKidJqKVcsLGfLFN8o5YswxC7l+vgMoYdpGmSlw0LkwQOAKctAfbZGG5JHDL6D/IUa806J9SZ//OExO8uTCH0ANJM3SxsRk2IC4oHhAmfuK72iR0G9OnJ/oDAlwLEBJGr2bhZu5NIEMyG5F4vpiiLYEqdo0KItBeDAfYiZr1EvT4rfsxe2+HlAntBU3ywiWkilkruMaO6s2gYwrc+9hTwk+kWYkzZJbaJfEp5uKt9QsafrbLyZXITykuoSahy10CNdtVnxk1KoLp40sYuDGx3FQsp1r25jLt/H+3aD7U9uarZZZ9RWkpVwsim4PFBCEOkkQNw5E4G//OExOgwxDHwANJS3b5hBiYSVl8nqSRFCSA4ZICQti8XdbVlJUiJV6Qo7kff7pm4EWBz72dXn2HfymzNHstHSJiZLMg3/SO4YfrMZSd5JUN7lqvZ0uPjVOEIiMtUln82iFmEae6Yj9TNwzd1i7n5aVPDtL2jBbsvHQb+JQe4x6et7q7xkGHOqphTbIUr45XtY9yv93hlzWqtfVPq5VQTIkZO4kJ5Mc4qPRQIHEmYKkffJlh6TyJaSqC5utUzMjfN//OExNgo7Cn4AMmM3XSkhPdiLOdDmo04RXJdjsX6mib2dHbaJzNEYmkFRj9+8FU+Ykj3acJ4WqdzJKao3WfS5jPEei9Q7IlP1We4ndo6tPlDb6vNPtaVWL9UWV2V7aqVEYJcrCL4ilhUPl9sbHwup2nKKpnfw8/Z6TB4+8yzatErqU3bNzCrrDLKVYTkOxOM28eSqfJ23zRSVkwrCLiouSEhBAfrREeRCkUk5MjYBsjaTO0lpIy8SzQRXQ1Mgm0L//OExOcpxDn4AMpM3BKmNMLGtQ7FASKGkbYqH3FkglkTZSGJbOAlqUBoWimRUalKbYaUyQghBJI6tkpclei3pZejtPSjuYOMAyzMK2ZLo9iBrW+U8AXkbnEEtg8zPFpHvhJYizBd1cbbSRS6d+Syij0HaXe5LST5rn9NzsVEYp8NlnHE1p2piXuylQeJdMtqJw4im5mWD6J+orKSU5VGeTbiFwqEj54kOCVCISsUBk0KBSseTYXuamk6yXohJgtp//OExPMvVDXwANJM3Do5m2YWWQIE6IsbJIrNr32ZtLTUi8iZlj4KMJyRlIx7yGISpkEXs/Oacv0xtYV9SYC3E2PTbG2+nhJzkEvxmna6kJBJyit2i90+jzT48S6zmJJa7NW0XSFnGe8+0i6GQZld6uC4uqvCj06PppwubvPGy5Zv+SrFFgTOPIopwsdvXrOssMcaly1LKWgy5unqWXpJA80CADgoKNFrOTAKxYCkmxygeyBpslmEThYVx5xKGxJT//OExOgsHBH0AKJM3apRnbJ48jzCLyfahRt7O85oPYo1czmw5+VsseQKiDGxBieRVZdW2t4jZx6nMzm+atm1NvhpiXpsx9S/e/pa1ulk1R8OnSUJdBDIKmMiqnlc0txL56XGsekySZZlU7y2anZWuWfs7ByqZPe+BobGxumuK6WN+pap7dnuqWgnqSvKrFFaleVSkTJO0jKySB9IVl0uQPMuYCSpoVAK2yhNnkzTB0mcY0fVRYoSawZCpMiKI5Es//OExOop9DX4AMmM3NAsoyUggyZAkdWRhdUNYhgUxhFwOhoCGQlYPQYxSS7XFkrykS6QlLUUQlAxuniKJay3LvVgb6UN142DmlJFjpdzSMkEFlEDFauTIt5NyEGrDLk/Md1lrJEZyMhEnuJN6tJZUuFGUXMds2FdisPP4Neq2PNMY27tJwVCoOonS2b9BWwvaxo8Oy6rWrS2TfvC9APUV2Dh6A5Lmr06ZXQkHBWK8aN+rhdjLeluBkydOjCbotQl//OExPUvZDnwANJM3PAdrrdROEj+LYZQ1TTHq31PferEUKRbA0SxdhAphqXqCxN5RbSaaVTbooqhkut0duaRNJQnKJWF1DuY82G5RLzkRT2UtdJejMEM4mcu1pxVqLiOCMkVVi1I90aFclzXNQaJZUWUWUm91TYVRfzhB6dJv610omdauaBia8k0nKXrUZsxn4a9Y0qZRJ0sVD47NRrfR+InL4xYleEvmrk3W5zePe3E7WZTQlzFHTDQptqNxZK0//OExOoxNCnwANMS3cqoSJ6SsiHksO2LT2G+BMnFz4RlCesxTZc0r6liK4/Yq1l52hKWkuP57XAHhGvp10xeIw74z1lTi4l2eTra8fO3l28ur5iaHtso1RLybE0+PRFnZ8+41JmPM74ThEvd/y2l5fCi2j16rLZ+zPGvmVppqO5pzv/Pq89VRqKEGTJiDGwEqspezcW9dqRv9K3dj0Whm9TX6a/S4CouSljQqLjoqmhg0rcNZWbJVm5eNSy2SIoa//OExNgovCH4AMJM3SFATK5KUtjiJdlbZbGDSbkSexyWxqUbhsa2PpqeTrRba/dtROvc+yVaIMYFGonWRK30XiT41Vef9+2VctRsEoJFqJHonXvfKdSRrxsts4cyU4yRqBIpI1RI8JOuvOHOiddPLJGwk+vNXNfs+V8///drynfN/dqNdFjLMkxBTUUzLjEwMKqqqqqqqqqqqqqqqqqqqqqqqqqqqqqqqqqqqqqqqqqqqqqqqqqqqqqqqqqqqqqq//OExOgr7BnIAMpM3aqqqqqqqqqqqqqqqqqqqqqqqqqqqqqqqqqqqqqqqqqqqqqqqqqqqqqqqqqqqqqqqqqqqqqqqqqqqqqqqqqqqqqqqqqqqqqqqqqqqqqqqqqqqqqqqqqqqqqqqqqqqqqqqqqqqqqqqqqqqqqqqqqqqqqqqqqqqqqqqqqqqqqqqqqqqqqqqqqqqqqqqqqqqqqqqqqqqqqqqqqqqqqqqqqqqqqqqqqqqqqqqqqqqqqqqqqqqqqq\" type=\"audio/mpeg\" />\n",
       "                    Your browser does not support the audio element.\n",
       "                </audio>\n",
       "              "
      ],
      "text/plain": [
       "<IPython.lib.display.Audio object>"
      ]
     },
     "metadata": {},
     "output_type": "display_data"
    },
    {
     "name": "stdout",
     "output_type": "stream",
     "text": [
      "Grabando...\n",
      "Texto detectado: Ah pues vamos a ver cómo nos hacen una cosa\n",
      "Texto traducido: mana kamachikuy chhaynapi runakunaqa hap niran watamantapacha q wakintaq mana is hina mana is\n"
     ]
    },
    {
     "data": {
      "text/html": [
       "\n",
       "                <audio  controls=\"controls\" autoplay=\"autoplay\">\n",
       "                    <source src=\"data:audio/mpeg;base64,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\" type=\"audio/mpeg\" />\n",
       "                    Your browser does not support the audio element.\n",
       "                </audio>\n",
       "              "
      ],
      "text/plain": [
       "<IPython.lib.display.Audio object>"
      ]
     },
     "metadata": {},
     "output_type": "display_data"
    },
    {
     "name": "stdout",
     "output_type": "stream",
     "text": [
      "Grabando...\n",
      "Texto detectado: el chala jugando como papá\n",
      "Texto traducido: huk karan se runan mana yanapawasunman\n"
     ]
    },
    {
     "data": {
      "text/html": [
       "\n",
       "                <audio  controls=\"controls\" autoplay=\"autoplay\">\n",
       "                    <source src=\"data:audio/mpeg;base64,//OExAAAAAAAAAAAAAAAAAAAAAAAAAAAAAAAAAAAAAAAAAAAAAAAAAAAAAAAAAAAAAAAAAAAAAAAAAAAAAAAAAAAAAAAAAAAAAAAAAAAAAAAAAAAAAAAAAAAAAAAAAAAAAAAAAAAAAAAAAAAAAAAAAAAAAAAAAAAAAAAAAAAAAAAAAAAAAAAAAAAAAAAAAAAAAAAAAAAAAAAAAAAAAAAAAAAAAAAAAAAAAAAAAAAAAAAAAAAAAAAAAAAAAAAAAAA//OExAAmvA4IAMJG3S2CgppaDluvEHIileUTmsY3PyiZd+MM4k1tAXHwEPEiPo1EydG2oKGMhEjb9Q8M1R0+ogY/pSC6OaNGjb30xBAgvYXk5Q9Yu3BAxkEEPAxdeBwM/P+IXX93cyLQp/vf6/hE4ESBE939zoAiIhIEABf5XQkrxC+O7vAhBxbvu7xPJ33DuaITxC938qaVKafoju7+76ImgAivxw8eBjB8iKE050Suw/KHQgWCnM5jTxN9Eeuj//OExBgogjY0AMPMuZSxpAcBoK8fA1gFg9QtAgDWXQ8UsP9vOs/HT+sf0bFRaJEo2v3mXyozd+r37I81p+UQiyB+g60HB2JtHfcBEGTY9MmUiUm6YAPtmeSZSH3SE43ISmxCWIOxmQ9w+9iw9EIthIYwj+Kf2ikgAevNUZ5Z6sqFYjyg/3B/nt////0CufhgZz+fx1zfARg1C0GP7hyVyynm13pzsuUXc/3jam8jJy5Cgk2x6DVKy6ZdcVANQQBi//OExCkxKuZQAMYeuIYeCBpvzQQfL3iiqt79UsMNpLLeUpjz8RilnNQxcsSupSxOnltPXhuGzLZ83ZGtmPAQtmXblAnhwou6bjvGM00L+EQShKpdeUpcxbxY3KJMf59R2d5NfyMlGOOwNseeaPW0FD4b+R1GV6kdbbJn7/LyJLiJJWP4CsVk29eAyXh3x941q/veV+r2e8r+PSaUAhwos2GJRponP///VStDMS7VR2foqmg1mycmks/jDwWqeFu8//OExBcrCwZwAGYYuJvq3NHRooHTRAIEJYL0aq371VqeXwqSN7Fo7T53amMbr436/cc6SkyqZT9XHuG1OOuUyclbeNtUOQHC19UpbX3ieVkBKS06UwiEoVrB+tfR7agpSFfbaOPn/VucMwcnP4zAqKDBIlEs4WRHav1lJrHLEET126d7v7Mzac7a929u3u9M2+f7+74cSaDMVDhxbP//938QKpLP4QODDDSDK1C+OvZBRcxHCAodtTTaI4Os0uRs//OExB0uevJ8AMYYuJWuMBpnSCq19g4aqz6JAwI09kSyWHPSoExWW1KJ5q9zWWNaasWLeWP3Yxnchyexs4WsO8bIhMLoDlJQdhhbgNoGj5ujjj3fK1YvOglHotiUBkGSVNi5Mtc+66sW4eJOjQruKHdWITTpzVpuJ5E9c8YdWGbS6ridEcRWivY5Qm/7Ld7uW/by5O2t/Uer/wg0JDBEREVPPSLf/03//yWO3OTCHxht2YKDLPXbDr7GEkxqw0or//OExBYrglaAAN6YuAV9QwU/Pk8CBsSXOBCxj9Z63aAou9AiTRiXJtyMDPSyxWIySQ15VTZrsSgdmC9L1NKb9u7MXrl3t+1c5bmLmdLukr6xfZXBQDc3P2moliJZdzaU56Hc1r9pSjyVo4OF0xGDtU0/BdezN1Um9lSzr97+Rnb8VTmyd85sTsPj9m7uBQKBFAKNOy0eoYbHiYSwrf+fLuKOYr/r22a/ee8whdOMPB4JgeXyxTU2xHHiJoDvoMGF//OExBst0jqIAN7euB2bzamdk4KL3EUCBguaJIGRk4yHFywEDsTChYZ2cgo3YNFywIBiAbGgmOhYOD24RyLrVXW5mcxGnbiEsp56hj0ht1qS3EZiH5fWlVOrFOu08pi3FaN8t6vgqFucnkT3ZFfGrJNWEyUq8ZGCCoznVkSCyWgxKxoj+8ePGzu+sQ4EunSku8bXN2u9Oq78uioUR31W9H//cBR4yfZ/gdXsJ7ynXSY1Dhg/f7H0jjCTw2kpDAea//OExBYrOjKQAN7YuE/RIBMGSTiE07VhGj9ER7DDTA2OmOBfTOAgIAIul8vYRihh4eiepuuYLBJjQuYCUFYdAzqYzStrMHsuWZS+shi9fKajUPQ7L93b1WGpTG7m64lCo9Dcf94+OfTwsnrB28iPWq5tkJr6uo1xeBI2UGfL7s26P2E1bS/WmWv1/rE9X3V8Mv8Lo////7FtDR8eVYgXAiVO+hC7c/VVPYCj5x4ehHTwa1BBMIhU2sBWyzhxnIMG//OExBwvGiKIAN8YmIUMEqQ4mZ0I3fX4XOBoFMaj4wUJ02ZXeep3wADRQOKDKxqlWYYNChhsNGAQmggWpLH4dpdzc4AdS9QxJrTpjgDQmLSSDUGpCEQSDEmj6B4Bg0A4IRkTo1J2nasuXuNwrWVSG5/8yyww26eg1NAPA7qtqzzddzss+ovQ8diOWob1cy7utBokL16LP9QYEAHHGSCWXRVbSxNLUvXwEpp/7LlVpcavdiIMCPpinw8uV2oKxEYG//OExBIqYwp8ANYWuAimnIKsklcxgzw2qEKwkLEoHgRtokxJWVfsop5VAyDpwO1F3WNPe4S0zI86FkXJThvN9XJnJ27SyaHqstvb7gzJMKNiBPIAOgHoEJCk60nG0zV062nUq4trai3OmkWXMph5WG1BdQ8sSSSdqTrDa/5by3/j+aj//d//////9bjZFswehssnq3Sh3fLRU6RrSdHPK//6FyK1R7BALNvuoIZGfGWrp3BeDAAt4mOAhkKiAcFm//OExBsn4wpQAN4KuCAeos2ePRB+m6lwW4L2lMqg13n+etgsBS6Zhxmxh0HiijhOtTQCqWQTFvmVq1lv6avLcrtnWX/WlVulEjlKYztSyN6a2f06lR1lEjsAwsJDRUJEOKyuu6rbv2Nrvf///9uhlRFYSVDCIdUOlYSDyWWLadLJs0GnrbVANBZimrchR4RIaRUCZpoMfn5Q24UbOQNG5fqm1PVsSLu7kro2yUjJwUj5zCLZw1zhUwilJGw2y1Jx//OExC4nrDpAAMpG3Lbr5jsbu3/1DuRy3VPDYfx25RjWQ/nUe+9jnVyhD6QxkAIKCvpAMqDHAxYtgSp2Ihi/JEiah8iM2YnYoehxoc1dz0czMhBnMS7mpcycyOE0GMtDrnl5Ejllm89glePBllFv0kr6GDgInHeFk6MUjBBCKs4cvrYVMzm/xe1NzMMZnYmbOZYnBMcFCGU0aN7SVwQRT8W4Lvs4zeWvrqQGNq9rN3Nvt7d2jnvqHrw9VHavfdwm//OExEImlC5UAHpM3FEJTZiEoS8ZZygcAKTP0ggLC0MZojayPdEHJ37XGd3be/b/H/Zvb3/l7dd2yMyoZu9vnaG+xKa4bLfL3/22e2d2fd7Yn2dnnUHvZ3b3Pu48b3167l4Wtz7qB2jEHbycS0RmSycBhs/kzEBE+nOs7HFD08WNbUCcYHFQQXKerHCZXNkN8t59K+Q/DtDVoWLfO2Iwv6fUw/GRQSqiLvxG4uCoYDnPOmIr+0U63lU+5Oo7yuPE//OExFo3VDJoAGPY3YTrEB4eUu9R1M4HYfmD6QqHLyUA47lxVUpOtFQkCAoPEJAs4siaTnjK9+3ft9c6C9/MO+cbjvkNHqTSX9jqdmby14wUPONpB8veBylKHB5/P1bX2o5SWFGv7f6SvWd25r85X6L31/2gcOHYi44hn8EL0Ki8rEJFZzH/6iLOy/RW2BzVajgklvVz918RIeGofyKVUBNr3afTik9lmtKsyk1d9VNJ95EqKEzkhMFSAVAZKFRN//OExC8s5AJ8AGJQ3UaCx2QFKkosRsmkR9eIqgPkmo47DVAHJCyaupPIUt0R0yHBqLWOEh5ocg3AAgkC1DhHOBSMBLHDRh6KerjTSRxilDlo4aMQRohVGkcraP2kRbJds3rA29nrkdJByKu4qHNTrz8Okx97T2Mrh06pmjWniYdWKm5Sut3g+TB9yPtuuVaUpHoHAIEcymVyePtiJUTk0TpOllgvcWrjebjH9ZFLY1KVXHFSWLNchMrIiZcESXli//OExC4oLBpkAHpQ3Gmq5WpkKbliIVPjFC1urNZK4/3YhDJwm3Vmk0NLHfszMLCwKhxQs5tkiorawSb64hALCNNXcB0OtaZrVbldmlY5WGlV/WGlYuG2/1mmZoZmVdV//2v75r/mm9V/hv2ZmuOYFrlfZm9RWhrNZIqqkm9hYK0ZhCwAHB2aPC8ae0PZyqvlS2pmtyWY2K09M4dzvFxuschJp3c4s51XeeWJzkKo1SyEWfQgOyR5HCnk+Dd7XLzk//OExEAn/CI0AVowAdWYax2yjmytjGJVW6RgwqlWayTqyWmlpMbFvWfdjvCK/4mMjfNlbUtrZ2Znqpe9yLameG2Hl51/vbHztE7WLi/cvr5nl+/jNMhT60a5TtBpWa+PkPmR8gptXbTj3CRltlfu2gNe4DWW39h342ggIxc+hp0iUz7VVgHDwy+J/Q5cNUzcLliwk0JNoIVpl80KhAAuEIYMkMA0QtWx1aZUYhBaQ7Ys4Y8lrOpVyfJgtCtysQQX//OExFM6lDpgAZigAAABLQpiA2iAW8AwwDQGAcRTurU11GCybJNBFY1CHiUgxqJSD0ByxmBWq9L7Zw0Z2MEFuyzcPmGiOWSgy5FxyyKDGEqXh96r73r9zy0UDxik9zdSDKGKaityLEyHzk2XiaRIAYE8VSIm3/shUqptqBot907UUUFrP11yHkPNS8XicJgnyeRIgGEwsXIqNYLYCpFonxkByyXqWD4SC0e+2+uJKslgPUGDLzyxv3lFHYvvvxr1//OExBsua+KQAcx4AdarrWsXz8zfGsZ3qJmnxB3AmlreM53eOGJonfqpV5ePkPLAeA7zKQZ2mUhjMonrCrHJ61UpF1NDUmUqooLEpIcN9uaBWSuYtPV5AdYw1vqPbY+6tcDfzvdpbRb5pjULdn15Pvd7ZpS+o17099f/Pzm1c2ri1M7+celv6fcWlvaBfGP97/ruuK+u8a3albU16wYULd7Y3aGLZZK+M8I6rYkw2o6aZRsciw0+HZteb7os/ukp//OExBQsi/6IAMPQ3OQTGUNRVzdadbfQKvYNo+qvI8LOtebF9bhYhTbVbk8ero3TqSpuAxEdk+mxTuRuKQxEatn4tsZ0nS2pI6X0ZTR3vaoOYFY0ly/iUOzzSTBYRST3PF0JVSxh0IHQ8OUEAORKHsHkIKgtplnnaahV2ue/XbSUe9drv4j16XiLXj5qLqIX3ri//2v46/ua/a1/lIpKqF7FbtYqum2ODhL0Ko/ItzZASHNqJvQtIIYbuKAppmQc//OExBQtK9qAANvU3bDDxSCXvYYKFl+KKMwAK+R9tvY47AYixbO8HQ/xvKkRkWeWVRv9QIr6HFb1MzFxAD4xSQnOEBIGfYupxqk8wNQ6DlUTUhRfNP5I7pzR7DFiOEZcvK4XMdNripcHAuwpig9FkelD5ASk7C+eUmnljYVVOJiQnGbmoTHUc036p6K88oaajlK0pzv/7f2ZnVeZ///9jGVUexGzHIzGshEcVc7dgl+Jt4C+5B3mYDqIkTgMZGzs//OExBIqogKEAN5emH1NWDVeyWyX/OoZYSE0cpTHVbZ1Zm2lP7e+nza27tNXtviv7uNjNfbvS61LEeAcIplFpCDTTPJAiAA4xwzgtABYK8eyPVhNhwKMuOWl+fhlTvNL9K31EU7Y7xlSqJh22M6eVJMletKPslrTUf+Z3EkzSkLcDEXOXCDeIec39d7pIt//3PaFwWJGEM/5o8hwFBUy5hnWQWgypZuK00ZUCNqYBYSRZbZYIcVTG6oLAL4QW7g6//OExBonKfqEAN6wmPQ84nY2b5eYATD9TPvEoJzv5pkNX/WN5BFY/CblREfyjMAJvmnfuzN9lYMEnIDNmkKtkfKzifIafSngEGFofzs0re49x+gke948gLDHuVPC873KBQ2GpiKY0sc5hrWVnf9yr2OY/clOeFXGVV9NLO/+7//9bg8wirTD9/666JBfVUDSq7qQ2pQZjPBMTVL4pNAQDHNjCHBCLyCRhYtOKDCEEX7K6AlKmCUPZW9CCORY64lM//OExDAnYfaEAObmmNDpNz7wgUhS7l9iGDBCYWa2vzb3AwVCDgOI1yQ3HREIBcVFSI0qjXAyRBSpFj6Mc4hVJUi8yOkVmqrPJKqNTNlnCmO0umxeWmWUUaKCGis7rSJ5zFFTlbb/////iiXoPMQJ7wmI3hbk8pk9H/FalMqmXiGASYBe40AVzTM2FQoc9F40E2gxh4wAMHzB6cT9wdZC4IGLk7M5UxVHmWbv2HDBSO68N+wkQm5qIe15sjcjEzg0//OExEUl0gKAAObimABk6onAkAsoKF5j1JLV9F/gqyZUg7lulc46tE19FvSaukZbzIrJFInieMifd6SKfWcQddFBBIydzfV//6PvSKfVKsaoOqeOBpTqBlDb0LJgN0Xqzsy91EfzNxTNHhVGiB33a0eAVyOD5QhnorYPbtYKLCn1l6EwPOvJIpZXGSQtMswRLaA4xRKJrZb9yjEHT/pE0Ym19H4QsjSg3MkLXnGeOF1quFMAoaasUfoPfoP9X9fR//OExGAhqgJ4AOaKmH1MbUBQYRvENsTcqLFCkYgWIf//r/1KzfSsTf0yOeFxUKDSp15AZaCJxJmIhCRjyyGUxsjbfZ0XQA+KCGa1qiXwBQmaxTSEx2Is6IREABgLIwhpuTglIAosmxCEXCYAAxChgMEgMaoekPwIQaBihNgHGcnxnBYhCIDE46BwUKJi4pofOLjOl41L5WZSpY6571qq7//fsNkIo8CiSIxhYr4mboEnSIMEW/////+///3I6oat//OExIwn88p0AOVK3Nc6ov//+/s7TtWKxASVjjhYiN5NmK0466AAzOtAEpRYDtMbqQDI84qTBAFooq2QuydcBrGWbIqQLFQsHS6CqJo5gIeqGVUGUFkQ23kphbZkdyVIDnZ3IEUxMMEB6FUFdizKS54OFEa79h2AEQF1AuA8iQMnU01GBcN362/qqboGjrM0i4Tjk+fNDi0E0lPstNfu6i49IwP7P//+26K+A2q/yF1YcDIykDgqAhFfUpXViu+g//OExJ8mkgJ8AObkmMgcwq+UT0hmIl5TBIiO5hcSDy0X+f0IKA+rRJiPLLFrr9e7QCMOHM/uvgqBxtaqogAQ8WBjWccME0Qpm4O8kZYGYacRr2q91OMbpebnKXMQw8Gfb9C3CkB4n1vedwJt/yPM0pEhv7YgRG9aa6w3HNtz5vjH+6a196xrMPFM+PDfz6X////b8MHAqKeYaLmPUotNB0XDK/U4yJ3uxOqp3Hqthq1gCgNy40u8URT2xyMO9dfA//OExLcoGgqEAOZemMCtOGVReCQCqxT+4x9OHPW6i0IG5z4LUCh7PlVOdQmlxnUZAiABZQfRW39cKLa0Ul5Jdx9GlJrsLZxFazB4fwvHAHx/PafJ2uegiosEp7HSYmPm/UvubLd92Z1+798YmlVurrgiKs///VUr90ilzv+p//bpUlZk6bDgNPXVgybgBYMEGQxYpzFQODAgJAAwWQSSoAaVMHpn1RmMMgKD6d6QuASgelxiR0kDlgKrOwtCifZg//OExMkkigKMAN5YmCvVL2LpsQ1DWWKYY+mkV4vVXxcWb4a0lG37w61redhe68rczMVl2nD7Q5VVvEVzNG3bNdbkjg9Ijw3GgDhKJnhkHxBBwakjDxqNiI1OHkJiSaa5jt/a3/////53/zGpq37U37p9P+z57Js6atmoqMbR44eQeOmmKcpyDqpVZWFMYwABExTAQ9ZGYwhBAaEMFB8ZJFodDKSYMAoEAWlipW7T5zssR3MFxJMKgFhy3GWEK6lk//OExOksTDqAAOPO3LpQCBJ6wnle6rD/9m25ONL9tgSdWrRcqvhKcdTcaXK12klDsR2mpsJiU0vN08Vv9pnrXevWpR1L2X418N4/n3mWPzfOHTAZSq9nljjkc+is6eZXUmn////9iOpm+jnc7lm/fNoyvMt1mdX75PRW6WSlfoZkRpdbZBEqjJW8suIQCQKQWaHYKQhAFBoDgsJsYYSLBh7gnBAOSpX7FQJxoEd967nCAD8wSwBH9hi+3OrhhTAy//OExOoshDpoAO4K3M/r7ZexEFSgW3du0uqGhbcBOXdUpXvWK7L8xBl7OYRGXoUwoaHDKOS2dr35TDUPTtSGVTKDPPJVM4apc7eeGGGsp/88/7yKfl+d0NFQ4sdaow2Bg9GmNvPGsRj6WyjO6////////7ba1xkHTtssjjgcBN22/5/rqo78Zzk2HlsjnwYNSv///+//n+/aEbQQkWCheFlDqgoBpg6Cpf8wHBgzeH45fBIKg6YBBsEE8Zr3sZhA//OExOszVDpYAPYQ3NAUEiIOS4ZgAAQYBy/YHQRhUOkUm8kOdknkyLIabJHnaBMneoO91tAL+PSt3spWXyMKmiuO4JlNyujwZdWpTdoEWZXM6rQ5GluR09623n5rqn19fCzVSlEKQGVLnY5qHW1syM6GX/p////0rVsPRVFinI1//OfahToUgclUQ1mJ//bR/v8tqslFimkqT0FRAmqYiEpyfPHKzMVQmIxEYPBZmJim0A+uYwgFCYGlvW/fsvuM//OExNAqFDJkAOvE3QRMLAdesBlWx+4cHYuCozbeOGqQvsOVerEoarAWq5dYesoUTq1WeOn/blPWM7LGMpS8dPevosWU68f0jpLDn09O/xM/3AYImmNXv/qHuHTw1e50pS+pU+zyUb0+o4rG/f21aIxnQoIKfZ7MCsZIDyqvbjQLYjCVgqDhE3VzKc6jfyK9/GViTC/BVibibiYKkfYSMMM45oGlRnKvXh6DoVjgXQHILAaBoDcPog51lsRifSQh//OExNpHxDpoAOMe3ATQfZJ537nAZGs5znNNbY41Z4inG+CnNsW8nYt5Y7NY3xxl0AhjHdvIN1OqkITh3n2hhhgpx5hUAqAT6iVBf1ULYXiGryMAci3H+ClLglqHKym61sTkyOT9UL23OBblkGFEBeI1PhahKqeYQPDFFFahHF3FzjC5GVT7QrzNsIANJF4GDP0ibOHi9EK945Y3uXcd85T428LG7ce5uzOVs+9uY2cqv0lXGvMWpi3K6GghEvkk//OExG5CnDqAAHow3LKSdh3DlSSUkThymsxt/HXdhxYE0mjBluxfnYu+0DMzcZscNwHIoWwBJthaP6NjgXHJaLPsDlTIl2JkM4ftakOwwxlcagkOQfDqhoc912sNIWEfFS9cjQHWdp9ZdSNGnY1HmPT0Wikmd+NwS/MaqtDa4ztyJVLljl52kN88rztIcVpiNFOhm5Cq0Arcf4UI6kOoootPW5dIwOUPljUYDfo4xldNLv+4uct/ARpGkIKPqX9///OExBYnBDKgAChY3cXAq//2ZtMzPzaPZ6ZnO7t2ZzOybUm81tn2nuvaY9iy03llmr0DbvutYnXb8zq48XxVZVv2XjTYQlbxyYqjzR7w9I47QHg0JvMTJUIATB6CB6P6k3UFuBuiAYsqmi+cB7lyVPQl0+bNVio6PVa/rtHpNuoSsrfjNdJz5mTBJbaLR1ehwv0GBf1djXXv/RIv9emEQPLXVv/8rOxEV9f///8f639fPx8W/36fOtYz//v5tqmq//OExC0l5CqkABBe3V8a3SLfWd4t5c4r9QZYN4DlfDfFzFZWd6xVbM7jnGso6HRfeP1lw0TORXNm0XOfj8yVKytj5dv38JmLy2tqJew7PnHF9QGaFLKsQ4PmZFe2OM7G9lpe8skPMr187a8MUuoMV4tSy7fxp8WFEv6ZU+WZfv7fF5Qlwl6Lv68A7XX/P5mZmZmZn5m8985TZ7+3Nm002ubOxN9zMPf81vv9Sl5tXYXs1tDJCeEzd9ZU8ODN84E8//OExEgmbDqgAAhY3EcCZ4TFN1pPQ6D4NyoqeHF07MRNJxkcL09SQTjcrrT4vVEZAO2GCoSoFh1uwMFgf3j0hP6PQlGJ7J5J8+8zrkBgYPE+qyPD03jPOWmWssW+sPruQOYo5hFjueld6SPt3/9aulLkbJT6fUEV99NP7/rOvf/HzjdKfebf1+9Yrv71f0xm2vp/iaR/Dr4rjf+lLZnpjGce8KC+bJYkKTdzmc22JVhXIhI7AVImpLWFSWs7ZHiW//OExGEn9DqkABCe3IKub2xPvI+bRYe2VzeyQVmVxYdN6zBvEfuO76fQq4tFm3EhzZ96sEZuz6ViR2KHMw4hSsM24WZpYfmw/fTT0tWZ6ASEw5Bkk2Ip9ioJuxhBSIrQ1KFNMPpXDa/TRBWT0otI0bTUDT3NP3eaPWUcCWAmN9vOLfqn77g58pITKLSPcw2fnr/7/+t9J5FDpfR+1PVs1HNRDGKVhIBgM5WQyFL9SuItXMYrCIrUpSm1FUNiTtEU//OExHQkvC6cAMrK3TOLKpREOh0rVShnK0tW7VtM5pdS8xi6lKVspW/6irOYda1VIRIWrWUjoC5ZgAQdyKP8hIsAxAJnyI1MiqkaFWy0wlf37uxZoOf3ZE6tbVRhjXpdlpIxrs7Y0IWpmPtYgAvm7NLqKoZw9KOX26UtXqxNDrHRjASATYl0i0YQvM0zPKZA6fTdOkuTy6ySBwuplpqYHWrUhrTMmRQY3as3U/9BI2Zme//////9epDoopHShIL///OExJQoSxKMAN4auPzZksOCQxy/pQujcVUqud7x2icxLkOq7wJeF+zitnlJdof5n521ICIbC/kzBz8NVVU5NnzbG+f+DIqLf6a1B+q19lrj0kqjxUVUsmXJlHoED2q4Ys99xIZIXJ3ddBvpVcxYp3z4xZi1n4Zo2L41vW6ueM00eslIS0j581+f9QWzP1mPvXq8/ulxU9//8vGEkrBkwHiP/2ARIscMfzCWidmO1Z7RBUPGomTuagHMszjMQiGW//OExKUkwg6QANZemLTPTAUkMKam6wiQtbuWCiVN924w3/7cfLue9vvZ/6BuNr8Y+sNItU8dEgvLHIdGSnNCuonblSjFL92G2tUf3Wvp8y3Xx+mtlUeBRRlFwKZ0EHe5FUwQAADOo0JiT0EDZhcO2IIo+PL//m//////U6q6M9Z9ke////8gjcRUNiUg/6Sh0MgslzqqyxrOiYOuhhrL1sI3G8wA8ss3vtyDjyN6v0yOeH5NwYjZ/5htsv1AH95h//OExMUmo56QAN4KvCye3rcGS7mph3ZbjrN3KK/JmFGgMJcyTrCQmixpH9ZdjVxbKxHHCpRWs8RoNTWMONbGhU2eNiMwqEBpVB0biSXOMLjuae9Djkuhxz0Vvqy6f////63VTyzXU93aro7f///+6sp5BB+Inr+tsgIdExfp3BHW6t35QreYaQ4cQ35VQMHi84g3RYUxPpAFEH5VM7fgaA2OV1SqxlybYlPf8QpefqAPy32Jy3X3J/n604tn5uBn//OExN0nk6KQAN4OvRY0ypaBocCvUUreNhy6oPh1uydMaux9+o79SYkO+/UpceZTd2zqpQ0vniOJwKoCwqC4XHj4wIxLOP44TPPQdt/+bdkOt////mKTmDcseYx465dThyis/30/0/908+VNo1dXSY5FDBsNhVIOchh7MaYfMZ0lapm5JSQCDEY0gwMqWUGEAyiYpGEYCIGpbGAgdKBU+sBCAz3Z3IgLBncrKjc7zO692HexCM4fUlku183D2W5W//OExPEslDqIAOYO3P2/sTlbAFhZC6Kc46YLHSFjqtnHK3DiNg4FS2Bbjlvz3lPalv3NXaXDWOWV3da1byyIANVhUA4bDYSjTT2ZDzTHlzTSJVp3/6ufR0b///+jHOpUajVjjT1PU01nU3f+b6f7p/beh2uyTZpQqXHTXPW8yzHETDjiJQ+SGsOrRzLjGr1yXo4VAIYSZR+U7AAD0gJCJmcir0rtkAAOLo4dZAhNe3rpoJ2naoWVs6vyhrDiSFhj//OExPEuhDKAAO4O3YkOY0jgLohmSVYCatLuZNxUCfmCYcKhTUFbjDg4a9IhQxOAUxYEhqzy5fvUuX3c71L9vLfNcv2vsUsxWqhTK7MuaqvUpGFBhZmp/6W//////o+tFRzqdf1////vopUe//ccELBhXKg5HQwsZ2BFIU04Iy5uD7oIDAMmzElCDA8B0BANEc1xpk0rFYwmBMiAYwcKU0XDCSw2+IKJaagp+CEIkwoyXXC8xbSaYFSc9hUClppe//OExOoqdCZ4AOYE3FjxcmMCMiMRmS3s2y1rFetjbcOKSqGHcaFIV/l7AcZiWblQZDcVy/8cMO5Zcv8/XMv/+9x/fP79Wzu9KqYk8035jOmaag4NTWM///p/////06mnHHTWQ+hydu2ayTP//r990scpijU4TFyJRwyeIooHCZoqGphqjxjfOUHjAAARQAh/P8D0WNpgQMGG3KdgTygSKphEKmQKEY9IgIAaEowECV1s5gEwKEzAQDdFg4KunPQE//OExPMuvBpoAO4O3cnAA0DDSZkr9Oa2pyy6Xw/HGdX5fNRylpoOkbtR9yGvRKlh1wYTGtTcM8rcy/fcsrfd/zn//P7h/4c/8MO9z/X409nTa6TqSwVqrWyba3op+/T//StPv/t1PZ0UyoyHuWUKUrf///+3Q1CuxQEVCQihoVb9/SpTEaB0VA8wSOo1mPcwSBpA8wWDkwyi8OMQIAcweBsyTKkiZkSAtTQVAYFEHengILOkkeycAxIyu5DCHEvQ//OExOsrW+JgAOaE3SFRo3elTSU+8H/wYpPwY+lyzKLjcuxCvKoJjUnp4xjDNZuluZsX4coLuAYZhoaKIweIsITnMjI7EjWIRhFhwgg8ptikuzIwq5FSt51ZEXMx3sZ9Svq9t7EepirMzUrpShVK5SDjBMKmzgAi6jCyw2L/+NmHKkCHPMa1pioRAE8SAwwlBA5RHkBEOGBAYNgYZoScZck2YAgsXVMPDjMwAKJgXcRmZg2BjBIJiB1/l/3CnWUA//OExPAuEvJUAO6KuD0LMMHjwUCb2LRVerby+li0XeSGJqOS/OYblLKSi+X09Pekd+zWkmWVmzeyzKCIx30kyj0PoR00qlsZUn8Mr3JN1DU8SqjhR4iJq5WZKV44T7q4vqUuLuf4/j+flYgY5IXF1UABYXKAMqOcYPudJub/9bma0bPReuodAZ2VNjBABTjR8CYuAEC5gAERh/sx9ScJg2Hg8HAUDQ6IXAzWFQQgaDQBMOA3CA9fFDcwMGkxYYAw//OExOor0qJYAO5QuJhZgvKZ1k5zBPGNAQDAInQY6DTC4ITLHhGiZMrvEAUMGAJEShZ2nwXUYJH4/NUlvCXznJTlLL1y3juxlvK/jvmXN83zmPM8/u7/v9z3/7/qq6SqycjuudFWYxtKPcz1MbW3Vun//v//V3dSqfM5GzHkI3///+/Y53U5yEUDCwDBgTpr9ypoza2hwIDXmXzBsC0Eg4DpiPBh+yHBgCDRhKC5hQPRsvFh4weQwFJgCAxhknhi//OExO0vs9JYAO8E3OBcYdiqYLgwIALM9JEHHsFAwgBBlh4nJBUYiGAoBmYmALqc5PpAHgoDQSZwoC0ehYCg0CGLQKpqg+xgLhMSRZhYFkwfZIABgY2BgXA4KB6m5cwwMChIAO20VAG3ZzIfcO1YztRjl3K1DnPxlfdYVbf87UlnKmdJXz5K6weCgfGEOY8O929OQndilKPDyRAWi2Sv9/9P////4SJ+f///5vq0e6eBRIcP3IFAFBEqQoJAoDQF//OExOFCVAZcAO8Q3IEgAg64FKir/n+Obmt3jvlUs+hYQiQMHYDBDAEFhBBuLDA4DwyinYQqnLreiwHGciFGIoBIoxYwOOoxgUgxQBcDAEFAfMJgIN1gRAwKGBYDioiGSEimoIsgEBGFA0xHXWWZZAtEYRGJnuAHAjwY0AxWBTCRHMW444olB4mCEEmCRkZHIJiEDvAl6YIDYCF6sdCm6PAhU78t0MChAiBZfpZTTYuHB1FGXsoMDggHBkiAam6w//OExIpDNA5sAO8W3UKgEtOhvLnlfuVw5ZgSN26kkicP0VPFocjHI/MYU+5blLJ9xlScOQSDlPeb2mtZo40SLB7U7asZ6xsQZYGlqLXH8f/X//3EM+u/////54nt54srlBtIEwEs8VnDUveO149Fg3FZwoMDFRBhy//4j9907vbUba6Y7lsP3Oc6ragmg9hWsU0fSUMjpDUApu9YwUaMM+TKQVlzDSqKGXvZMZoDTDAEwo3NlaiIta1A5ihWJjam//OExDA0G06EAN7QvMpkMgBl40bYNF+E3RGIGWj5wSUJGCMimI4YGJAwGDGkpojgAnQ/cSXkpmy+erOk6biXoaf92IEsOU0t24vXUpUwYnD9LDr6tfl8ji0df+H8g5EIBQPB5JQNEHCBQu4eg8HBoRnjg/PuOeTWIMY+yb4pWYoYLKIO8VFpX6VH///////////CcRcxExcXrN7slR+jzoNBEP//k5nqaOFRoANVuWvujpEBuCKsDSBAB+cOKsfn//OExBInshaQAN6YmGGlCDpj2ntNS1MxHAzx+PTdNVTRyxsugYUYUHYxEVBVZQdEV86zIjHsADFM+De+CHeTPn6evDrnWN285BY5w5POdumM31y4ciexw4gdaMHEtEES27IZ42hylhjxpc3RCeTrmIq3fycmey1ab05XN+9enqPOshAVMtb//6xAhb2nFg2Vcra7s//9fIGXLdU8QgswZ4OgIwKClzwESGZ15ubkYUBJqUy9zT1qHX+fZgpnxbIL//OExCYvLAaEAN5O3c0ZO85rV/W2wuIYaS/e9dwGwKYUUpZUDTzh0byTy0vKNOM3vaaynzPc3EmXRW381D1nnbsdmvzrvrE8OcmGZxLktzU2ahWvw841i/3kMz2NngCR4XEWGwtUakCI3MdXWUG4pBwKy01Foc/O5ytuay////9UNQdm1avMPOjqzTmm7tmvu6u160++ttbpS+qMfVK2VyD56tqXOivpP8wu5DVL9AAuLdFgfGilCcgmxkQTylQx//OExBwqCfJ0AOZemAOEAaHAvVEAaACbEWcZUvJBZq8fd1pK/b7lRqVJVBBrWm4xULAmIOzpnTtO6wyZx5ff5t53cMwkyTiUKhevXG1u4Rs1bWxlgPk8vItWHMX0XFG77arYvxCfZ17Rq5rmuL2w/kpv/OH2ct08fU+C7f///x/ixwcF8sDQ4UKiUNicJucR/+Meg8lbAa01VY877lCgAmCYyHDYcGBoEI5mFICmLykG3x0ixIlYFoGLnZv9x90Q//OExCYpGvpwAO5auAGwpmz8YopXlPxCCVKn6vW446tbtG8CvAwKVQbAS/r3JfAEVi1qy4D5LGhqbhtabjT2+2ZdfUZjnNGSHeEXCbCZFqJmXDFTJoU7qRWrSZCmdTTWX3MEEGrTzhPNnakfN72///////QroL6qlOo+YIhsXaiQbNx5yz//bHfzwqqkfZ4VDjDxQNgjgZAZIBjBopM/SwzGRzKAWMXhcEBwxcCGbua3ILBIxIMk43cgdmC+Ziek//OExDQxxCKAAOYO3YjIgBkFvOMutXzgBajTu24mhmosvRM8AGRJSDu0ymD+3OvAwxrsBPNKJyilUujEUtyncfa5NzLYCzjDYegOgUHlFHS5TFD9+ntUvb+GJIiOkzR9RcAgRReOFRujmoa4+ol/3/9////TeeisjzT0Papi/ZVfVNd3ZPn0Wruy+/z2fKvPH3nvSp56vnGT3HGccNH4e9WI+gwOUhcqG2kSc8sbR6fNCcYsgDwHfnlUAcdhBDLK//OExCAr3CKMANvK3eGeBpKqzeEMU81j8FwJNGwf5bma7Gc5/LXkOQSYOZHE/B8HnDOQ5FGjXjYoGaN2N9nHY4CHLMioLczKNHCaIWzPKuUWkCDCrvcm85OGFIEAwaDgKhCkZnJnh8aqbeiT9UY62///90v9EVLO3VCvZ0vkIV0Sd1Rk2f//RcRHXdjsKuKIiXlqQ6ORhdhqCw7ktdaxh8z15SwjbCAArHKjDR2aGEmIHGoClbYjBiwHBMO6gAEr//OExCMnxBKMANvK3R4uRZ5bTtZaxYWWq2tbVEbMkE0WVuIIDLA0UNL4crLduUCjQmaG+hbvHpGw8YU6oYCoP8tqEoA384gan9p8W3m/+iFKOQgiBRoiHxBCXdxpGFTb/9WqypVP////1blam03I309jVp3Yzl///KgiehURGMzKh6OQysUWe5LUleARnppLIBhcuYjqbLomihQYIDAEaEqmUgSfNGzwePlrw1AIBO7udSENe1qA13SfGpAM7/Ke//OExDcnIu6EAN4UuB3C5Nv1IoYbqoMptTNzTkLfNels670atVJZzWscP9HuYXFmPhqAsBWEUYPjjnNY001u5t3HtSw+Gwgid6O5rj0hEUdmt//1//////X+84mh3/Ul4a+pSBGNBWSAsXcCRsiJUGzxpXKfUOAIw+AA6eB8xOBtQEwMAk1Um4wkEMwwA8RAwDCSEh6UiyoQgSX7am3hKBpgAEAZVG8pmGWOFDgxJUwG985dxarhkWnx3RQlUJPK//OExE0oRBZoAOvE3fQ592MzkuyqtmLiqY8ju1ava4fLqzogI01d/NndsZ+bff+df+qoDKFClZHysVw7Ts6aJFPIpCiFf/////0KR0pTdCv///0///+vr9JlIlzOzsgNphGBUazAILMSXI2UrzCwOMChUxMtjDuvMjg9DcKiU0aJpxQeLKwsWetVEzdQFTNZOnl9KyNr0vrtLVM9+erOHInD1S/inIu6mpJ2La1Ss5na8GNdcWiqTt/ud+Zz7CKf//OExF8lajZoAOZWuEwGwFAGlCxJarqOP/7meJ/5pc49lz/Puclc1dfzcozbGnULXr//4sbcoPOPv/7+z/+WjKwgONIRAyVgMYBAOYbpAcFkyECENAwYXiecdmkYYBMOAEBQBHjZWM41gqAM9rpR0AUkS1ienaOk5BLBKTN4VmWvy7OYyuO26kBMuc3PDUPzWMceWVzkAQuOTlDf1qrhmgiPU+SSjACTHkTCSOlJqlIurff13XTMDjIGqlLqeks2//OExHwmMjJoAO5auEUFbVU0EqZ5JOdPLV//0pD+xIx////+4qwuczBqL2vqCgAMSyvO5xuMMQBMDgKMHAhOujiBQvmDgBl3jFUJHEh2lLtpQxV4kkB6Va3Up8eVl0zvaV1r8Npbg48/MNMR2b2beaLSGhnnjkWpZanpe/BLBOG0B8NADwdaR80Y9S0bcuBCcHo3QddJm7jRlP7urif7ddWbL1TrlnG3c2p/+LbDncSjICDv//VfVf/tEx883/8d//OExJYnIipkAO4WmLx7QSYxwGpgSCEqg8InRMg0KEYKhcASU3jJeKzAICQ4WkBpicL6Z8PPWQAzBc1AQVIoVOW7UDWM2lgbciiiigPxFZh6UOEnqwUvdtLk3NM0wyglyru6RYCKXcRG1v4VDI6RvoHpZI2mH/j/Oc/f29lU6jFAEClmFCmcxjqiHc97Nr07X/lozupRH//////r///53lMKDhyRKcp7WfMQA58eeGVeSVoOBIxULU8wIQDEit4w//OExKwm6z5gAO4KvBwHNyZyMIwsKAES2MCSQRQobooAYYFbx8fVg0rjzYRYOJytjJqXM0e9/lV0fN6UOXBhntbuXcG7y/OqvHfy6VK8hFyItyoLV59KbCxDD5ZWP52vlzP++YVVDu4wEiQHAhg6NRlKp9T/rvTZDr/ulHT///+un////+io6iosAHqiQ+2oPB13xdbX5VWMMqKoAgwoDKBFwCAwoAhh4DRnRGZokXxk4NhioGi9TFgVDEIGgMAI//OExMMmkzpgAO5KvBE+0Q5xHczUS04EKBwiOohnDLjnhQiAhQKsidI+6bC6Im/S1mmUlI/0sw+7ABMcZRR/hRA4TFJBIjnYuc5IB6E3X40YOUvnZLnUs2vwpJnYkxPOHPfeYq/RFhjsMGyX////D4YKDRwaLrAif/+ldyOBAGFA9Hyq3GVIXLwMGw8MoHPOIBkMkxOMKCXNEi7PM2TMvC5MWgZMGCHOenkCpjmEwYGFQ/mNVbGYA7mMQ4GEAyma//OExNslcY5sAO5YlMap8ev5ogaRKBxiaShj3M5wqj40RYcChh+PxjQFxgyBJcoukPCDL1uSADAMWscqAFRAoCFqOS+hMATSHsYQkmXgYLRNKa+/dbtPyfxZo7cWekVAgsAmEAGstnBfMLAIHAAzx/0tEUFmQYouiOlek4MAGNAWu1/lxrML4ZG2N+pHsJktBb3zg4Q2eT7q/pXwXPUKZjnnePF+78gBHJ49TTdxNRIzzWNfPr9/eNe/v74xj2tW//OExPhO1C5UAO9e3b//7f4+K0hSztTHEY21Dn6sSaCJ6uTkFWwqBogPbbxH3F1S9sZx8//ePv13n3tjXebzV5Gi0Y5NZpu9Zabj3tm/rHkV1DtYkBQ/IjkEsOBDMfUOSt8AaBmgVwOGLr4Gd+hFHxoBoUGDTQclCAKOKJyHEz5IzbwbHAMX/LBDMcRIzUNBoGtaBoaFhcu+Al5DQKV59h8WJyPCaeOnt3X1j9/Gq/sP93qWWMd0n6ylVykzpY9O//OExG8v0zp4AN8UvEho2YgAwGxPEAAqFOIceiaJpGE0CqIQG8RYhlHRYC4FcnEQyFVc8wtMmGf0Oox+VUeScxnUzbX//////fo6IazzipQYqQGhItar///vIOFKlfqRtBg2NSEjhiawg0HHbCbCKeaAJUakCUsAgEyNLBISA7gJ+mJjCa8LAcIFBwKMzOcKNIDIvwCg2YHFRiNGmMQKtJxDAAVBAEeSUwChi0+fpeO1IN14zI/3lKpz8tX8P1lY//OExGIr60aEAN8UvPyrX7HOY2O6uZxScHoFUJw0GpomnDQfFCYlMOMEUDQNxwWQoBCEKD8gJzTC5I30X++iObU1nRldG///////9tUZVpMMI3KMT////QotQpqngIcAwvzioG7UYEAieOArCxJspCSGWGatzOQcHmW0CmbQGMo+GWnpvQwgKBwEAT45+nVw3Ve5gxaYtKAKUjqh4ACzJgZoOUpXSknf3QrRde3jEXIsf+T8Y73V7/5W7GPN3rHb//OExGUts0qAAN7UvJKpXP/2VgUxScBMBXFQhJREjYWKCsMxFnj4MAGxDlxkEkTjz3Fow2SmK3/Tu7rIycwlJz2dPT/////+Ylj51j7ESkpUlYoWOQtWf///+pQUQIbUDxhW8yBpAW+poIwEsAhrU+An92K6qBsaUkyo8yIKiRsoen3GGHmDC56AMTELWXXMgezBC4iCGqMxGgQ4QBZNLn0ComDhBlcuuodnEl9fbSJZZ+mfeQc+mlN//q2Pz5V5//OExGEsg06EAN7Uvf/Yj38LkSvbxLBENHKhciEJCxo9JCQxR4LbkAwEYeikTiUeD9jTypOqFFfR/6bGMSE5YhMIUfNT/////r09NrGqeeSmohyxaHpQ0h1UuM93kL0DSlxjFjoi6nhYYIA81S+EoZ1JerIaA0spnIqhINcee6YeMRFjTo2mM6gxmpzE6EOTwlUAEWkwoo0YEBDpHVNnmcAYBQzKKlRqkt3UwYg+WeHLK15Iiizb0ZJdftG871Na//OExGInkd6IAN6emBqw0CwzwpGyPee8j3dYU0/pK+wzWgxHGlt1+P4WYe6Sw4yCoS///duIp3NIIaKiUCq8wIT5sWFWf13e6mqZd5sJUABgSLCQXBwWEIGFBicRP5h0qEIXBwkMQhoBGYMAzvJDmdB8i5cZigVIZyJ9Z5LKU2b6GXSL/EUrj4LuccCoL9TM090FWKaIuzWv2X+hVL2VUrZrudSmz5387H/Wq95+cjjXxEIwlIA+LjpE0ang9LHO//OExHYnG1KAAOYOvWmpnWqUOF4JGKW9TUsnX//////////f0Vjn3rY49Co8OH64pkc/tZ9qTVyIEDLlMDGgHi9SDJgGLZyYUJi4AqHFJQcDcMBpmzXF7mWpG7GJRUubRoTbkjE1dSqnvtMQyaHKEiwuFgCMyplC0YjLJ+OxqNV9SWktadN4r+4tVh6zbu36uO69qltclEMyu3GX3tFSzT6bNz6aseULBCNRJGlzJ5jULC1TR6azs//////////Q//OExIwm21JwAO6OvNVmZ/+zZ5kiWcFbv/+vxOqlc/2qmSKGJIkwOAQMTTErJORiwwQUTFBGMfo02K8TB4oSvCASAQUUOdBVN4wGMQW2kC2qjhjMAJqCaRQ8cKe9iLCk1AggzxEpwI4AuDTBLWFQQ2kEolvtYWgvx/p9uD2v7KYYXQ+LxPNqn3ZpMZ/CrG6C1VdNp9J7G3WUAgiVwzA7uX6uqs7lQz1iGLAsFZKP3PYJw/JmuTmOLheLhGJCBjz0//OExKM2XCp0AOZU3XS3daZh7zDOY3/a7tmv6N++luY1lRjzCRDXZGPzXmsb9bda72/+bdjCN2ZSN3k5kwnI0mk9IfXCfhgRiZsqcjWzgRg5huKIwJ7VymS0ZwI1C7IwGGUKIsKbmgR1RmM0woJIWmp48Fgure0oYxKcpm6LLhyGtFRSD7T5Qk4RMkHG5qc3Lk242NrCxIsI2+8DYyuOk4rrJ3ph4uygExUs1GXdr4i58Cvx5I0GDiDeHO+iVxmm//OExHwqSjKIAN4euL0zjHpAl3D3Su9///OPRwliUEAeBT//2ZhwOBiOJqR/q9LD/Pqxfi6hgHMlRyq1nDSJpxAATALrsANoZlzw+MFx1QiPObuy4dFAMZPLGoEMPAEFVgEako5j2Ore1NFxAoS5yrAT6h8MzoxbmlVBohqleIoBql/nneLbmxqFpkgOCqZlwdCofMb5VnTSSG+n3vOrb98xINaaoOIE3EhxzOyiX0GijzVK3oqEKLB4gkKl0v////OExIUnW/aMANvK3P//1e6dasjGL////////O2xWmEJgmqi0jW6150wQkGiEKfDXzAmYVQSITXOQHh0q0Bj59bzRkrmVFFzQllknOl7lxVT6+o1twtfVs1+NW3l7SNnMAtyq4Q0mqSWhimqm7xmHslPYbh8AGG8hTAftJ5bp2303P5Zbzz6SKyepf3NMd/w5dtXcfH7fTPqTa8Uc+O+5//////+KfDaX+OYQpVRRzin/9+tnrINJmWjRGHEsDiR//OExJom8vqIANvWuCiZlLjNxEdUa+HuE0AxOgBduIgMHBS3y3CuYlXEg6e3UkGNPIHtwuPfH2pHx/18f7uFLNnEoE8bjA2HcbGy5qobUlDrqnFSJNpd0ckk9L4uoNQjHwZAqHudzWa7UPmItrfSeQj1BqSiWhU1DH///zecdQiOUmYjJjCpQ8whmSQ0xG6WT//+mp7fozHmM0xCdZE5pJNdyh+lbhsWtXhd5nINWgK561l+ExKD0eAAimMxAaOr//OExLEmZAZ4ANrU3dsqbiHASW8sQ3lTx6d2CX1b783rv+4/Ur5vyhePGTGk0ONuJr1uuZp5ypxHOm5eGZ9ms+TwjjAOABwlJtV8x9Troc2+/nbGFB0fFw4VHAiLEVHaP//RFqysu7kJjlzibkhoJRcxWWZdK///+yZ36PVhqPlzDXNU1XquaaYVKkWHb3smnZe7oBORGK2Lo8GH2ic9BxgIDiQQEQeLa/mzAWBs5cuwrtGggWaJBX635M5s7+vO//OExMomfBJwAOLO3ff8IO2j15wB4P2aghlpxAo7lxx+xe7Nzp9MmiCJa6YbJH2JoKJj4lAsEoH1FL5z9NzlMVOzbXONJmKNBEaOkUo//+lr1q09VUcJESpNS5NzC213/9v//vf/3LsYw8dNejXU9ZQgOGDkAgbbAAqplMiMoB56YmhwMC481iVAgKFBZGDEYABy4Z8kBER5eX23+fSSxaY71T8tkX5lWNeBa+l3f5b3edYcLwS3xWwbg9CLUZBw//OExOMnJApwAOLO3YSyw29POO2NcHPGeEoVjYXwrXbUYJcj+VcVqVURj9qTuMMJAqAwAwjGCkXi93GO7s+Shdam/57ZrVDqD6RbSO9K////3ipfXh0vJG1R4giMwNRHE8J9V69fU/XH///fxPPdR/6VBsGuNHTByKWfvDPlBEgugj6c1xGKXbmFsUGhNmn3ZcMxE1oEBAADCgDMEJ4sqEBRl6sjHqTBJdceGMjhHcFg7euRyQfypZ/UQpObgOf3//OExPkwLDpsAOPQ3JuxWpJlHufqo2DRGTJ8LGBBXChtpriQ/domux6wvNCN9H7e5Q3CGYOc+7VoYbzuSiXb+lh/dSaiUwLYhwLxaOdLKYuzM04wlMb+VVkVJ011v22//znRLmMQEbsqKQFXNJyMmPKd769X3r/tvdCA2Y/888sapEs9jFkDk7EJOqi4uQmEA/IEVfo8xwTFZx494gP4KSLckJJg0qHLS+Wof1W9HOf7LFR/tjc7n7RXv5t953vw//OExOsvlBJ4AOYU3UZfqane9iF/nsagT2yGQT/215KMxWf6ntRXMIXfx08E5SVWowLH+t2q6rSbWfaDv8s4YZ0m9Yb9kEBN2I0dbuvOOc41fq6s/6Nr////7nas12SRNRFRd////6n9W/+211O+ddT6ujSzEyo9uZRsQGIMwdZmIjVZEgZe0IxccjyYsBQHZoMhMFA6nsgwMDxDy6ODnKuEMkQ7nUnan8bFI+ZQW/GUQS0sTrxpho+StFwfeRAl//OExN8ltB6IAOYO3TGkOsAYy1o6nr9h4bGM5HqKTypMpcEpeRbaYEZpHqiu+TNJ3KJUv61O44VuNJQmJEWJKUGgQaw/QoLEjilH1HcxQ+pXWCnLMlnQZPf///////8Oy3RA1lY3gZZHrz21f//sqWl0lVaoq8zzVS3N2rcPwq3FPWtXCzHMm4ttZZt/rpg5uG4wKIw4YJBZkZ1miU+YnK5kwcG1ZYaZQRgcCskcdACnAxwyfE0nHnYg6vLadzBo//OExPsxZB58AOYQ3bUrEY7cppm5jm1mdsuk4bN27gwEDCoayC0pSy2pjSO6yLRJVDSFiLRyeWbkkTpoP4u4wR+yRqbtusXVrW+a5+MWxitc63lmYlFNX2tiEnlE9Njyz9KxYc8e53/+5BEqCpUSsO/9x0Gv7hKeyX63BwyGlV0QKj4YVzcdphSoyWeMBWJOmwPMEBHMTAPMDhSNeAcGgkkQwAqWsXaiARKDB0Xo2qylq7o0Pkf3zhxBEJfbP8af//OExOgpkdp0AOZemC7lha+HmYlC4S6kka3G/2uKYhyJOG27uppJ1wPaf1zLUMfKZ+Jw9CZe2RN0aI7kqlvPt8/VbLnc+/+88L3sePGC0HwOR1DTR9TjRQcOnGEZp7trQ2OHlxq5tnzm2//2/3/6NPHBu7Xsen2RLmoPlzUZlmTXev//9LrzkOQ4eoRhqoYZeW8MQSyOixXIg2TAHTNMgEYMEgyMGgXIRCMNy5DhbCAAYeYKAshQyxqYLyGpHX1I//OExPQwTBJYAO4O3aVSF/E0nukEifxg8nlj6QHC5ZE0JEJqIYuy/8uqwVKIrKXNfikxYZDdqGpNR4VrnLVrOLSafiTbyjGXy+9fJmGuysp7jjHop9W1U4mgOA4ww804aMNyAwOnU8/2n5VDl///////2NOaj/9K2PYwoyHu///ArHIqSWXiFAYMKy/N32AMCQ3CA6MiC5MDM5MLAzDnZM8xqMfWJOCwKMmAXMJwUMFBUMYzLMShJAQPGFALmJJ3//OExOUqE05kAO5OvJ3qmCg8aFzXtY9BgMlGQMPAguMECQYRCAFDAsz58A0wXLMJBzVrA4QwMkIgMKGCwJxJWUAsBBQHIipCFv0PBADgIniT+EIKBgtQday8mWS5pkYVvYPI6eIS96HtZSGAaYY4EobmHAyTiAlTJZUmnZVF1SQ46bwNwaQ0yy0+kroeuD+KxC2FmhRyfK9mev3UFDjLGaBfP1tbl9mYHV97p41PH1/64///1///v5xTOKV375tn//OExO9NFCJcAO7e3RuuMbrj/W9fG8v38+cQJr2iv79sZ4Thpjj4g/U9cf7xK1z4mwxx5Kw4dqRLeaPfdLa1vU8O2ZHkRgi3y8q/gU+N4mws+ersvjQWFT8B9LhrrrmhGp4A03ixzHoU9xgCFxrSEQN+jSxUWK5QYYhkMEUKDOxwyOfkzGwcCCCUJibAZOxgZvMCBgCOGNLJvyMYMCmEphkK2CBQvI0ItiWaQXZWjaDglLunizKkz3biapVSKnde//OExG06s0J4AN7WvCzhPG4kOWHKhE8+D9QJEIpmy+mcSaYbDwOwaGoSB7H8WnQ9nR3GIgCsgxtD4PYOCeDgeAJD5CJDsEGVoNYxnY/FxcdTN02H0DQml8Nh7GMY22Mr7mv//474r//////6hrr5qL6jck+CaT11zRVYVPci0sPig7+dDq5V1wgaMuVpKnYbGIGOJX5do5jceDTriiEcEPYvSBVEcSSd9CLC1NQAbPUtOWLYgY5Obfoa/mck6XaE//OExDUoQg6MANaSmCENroAYgLBBCQMQjIwpqy4sPQkoOqCUsVo485cXjr+xCG5XQP9Bay1CorJZEFSxQRBoBQ0C4hAgTgwYPHkZGjRPQJqnF3i71ZZNE2jIkkY1IXs8OkflPzj6vyvE+tK5Y55sL2/////QBwVAyq+9QaIip3gVKwNJcx9o2ouGLLCjIwAqAr9d1r5ECm2mIsHtYApAabdGOF6PyXQ8TjqYa+vgpLHAgyVINTHDVhYwsBMBBDCR//OExEcpSiaMANbYmCMZFEbVxwYsM/b98lcMxh/79/czEJY6YuP0W29xtp4ql4ioycqDwlkZ4QUw/vnSs8PzZUcsr4pjZXs2iO7D4qeQ+UNsbRFafm9+nO35m+0+cvSPjaV////9RsodCwrV/kw9YwCPMHVI8sPCEUdGsHQHH0hyMXXjKghUDkMDMUMTiTsOL1SCowbnjG/yptg4q0wMIBIEaisGtFhMCL9AJAYUMGNiaB88wIu80t37dC7L6Lyw//OExFQnGb6MANbSlFKRGSOaIVIQ6aOoaKg+0SHBKAYUhMGgBD4kEZ4SllziUESc5+Mstlhk6KQqZ/vO0qDB46BRU4o6xJZ4sE1CR7f+Ss0V/+xT4sqPsmlsJccJTgEOQIrKGAINVTohIshAkfLBAbeusjLgEAA8p2SeGi8RVaDRYeGjQpsoBx4aIAsxoVMeRxp0nXeQnKxGDiU9jNW2Iv9Is5p/nGotfW7Asvz4T9k1Bep1gzdSwS4lLGP40jSZ//OExGonci6EAN7emOaErosGS3xuu//r+Ler2zda2aXzjxY+v86r8/6+fnVsYxmkePqTIEH//9dSv1rIOLFTsGoqiJddpAVEDQNM+xLNeWTNiUMXTMok7KvOebTRCEHAoVJDQzowEtM2KwuEmUGZhRscTLBGMZgXjwYwcwwxMpIASAkwKmMWqUzLQo7KxR6XPErcpdX5MqYwNrLuEqnsf07T9dx+rS61W7Kn+JziCAmEITN+TVre27Zby53baiTU//OExH8n+jJkAN7WuNnt/c6fdLa+NrW1//81FkmzsHpAQl//8qM/5U7/////1TApUVCgcKmHkBh5UEdRmpIVQ0FAgCDW7oTjCQhGqULuRWTdeZmrSiQocmxTUros6l8szpH+m5DEsK87Td5l2m7vNRg9XdSqiPczVBSI5hoeF1fRt0epGRCPWrEdNWZjuIExP9+7CFqJ+RLMA2HscjTOY3u56uU8+e0lb/6+3SLzPc3/s/r7KfHv/FDiE2tAuFNN//OExJIl6b44AN4KlZbjqLUb0hF7bQeARov+FzgkelsG2IBv0s9Kc4LsXrb7QDKabGXVqBOQzwiAq6u4cIb5nvXCI5oLCKiLxqp7mEXXGUZ/YnEi/VF5hkN9bCGZ3MSnDWNJURFrTgf1ETj614hHoRLlXVM7VN1J4k9C9u0GYtjkF6w5KVe+ikqZFMjPrJKhVAdJbCZK8d6TmhzI6MRTVb2BcVpEUCgWYnCoYeAiZigub7Y93RiSDZYCoxdIsxFT//OExK0kI/I0AVoYAen8TEYBjCcFTboYjJg0JXlDgQB0vDCYVOBjYxevTHIwcSr9IAgeiIg+jyZ/LQYYHSBQPz1YzqOc+6+W7RWMtZX/AcE8wsUlS9NvQ/Lwsvma7O7SpE6KCcp+y+tOWGstce+QtOemMtTfeVPlfgeWXvvW/p9WJyvQsBhdaGHWeWPx2qpdGGcRqhd2CrGee+W+dou48YG+EQzrRiH5uxMyiGWfQQ39io0iw/X2qbfe29cqc1ex//OExM9JtDJQAZ3gAe27m+61HHQkcUtSuHIZpKbCXcwp+U0qo87lypvPVTUczu2MOYc+vj3n4a1+OWf8/5mlnqKlwn6tyG5fQTtJKYvNy7dHSfj+GX932X2I9FZc+cByt/MKvo4qAEmAr7AENGIHEEJJQRa4WFhq8KnFkiAiiTC0xmmxLZGsCyYQAIgBJiImGQhmYrGwOHQBCRjgmAA9mGykYxEANfNHEFvmwKy1U5ctZT7vs3CESeGaSkldBSZU//OExFsv0ip4AdzIABOW52pSY1e25+kr1bda1ZoMobfB/WjQJBkto6fdJX/udrn55/nne7cpJRV7HqaL2/u/vnLeG7fJzC7I45A7rwPfx+1ly5/Mf//1rG+ATP/+sm9IuwYMOAmHwqxun//T6kRiCISqWy6swOhU1SBUaKQtGYeQhwYqg4YhcDGSGodoLphQSlBxRwMBntVAIMYE2buWZnEbFUaEIFhJglQJdGrHNTUAUxWGkUttvNZwrTkuyt17//OExE4oeiZ8AOaYmHS2fqV6vM6v53s73c60169AEolBYEQGV+xL4mYU+e+0toxKJcxEIZAGaXVa3fma9+0tdpKfWUD0fu9P7ObMzMz+yu//++t0UGsFX//0+3/WLAA6KVtr1SWGC+buHRb0v4YPSZw/kDzZMAA4AmM7zEAFPTDoEGAWY5EZmglkQ8MApgNCbsYmUCq3C24GBlBlqyNkC7necuBmsu7flFWW49x+7zOzZsb1lrtnXK9bVzWFqmv6//OExF8rItpwAObUuDQuQXRHBfAZH4zGgghWJyKTExhMo/FQZhfjcRhPC9LEz1qpMeYcSlEJxwKshFlEc1v///////pS7qk2xU8uwTBY0/qO///6HlkB360AJUZWgMYIBJNvA5fgOAQwvgk4EJ0wlCIw6Agxja06YQ0xyAtQYhGkiH0syiSYfiCnIGM0QhImBDReWJJgYqyWnSrY5DOMRf3n15Djnds5YUl/m9VbNicpq3ZRn9+zW3zlNUyikccq//OExGUpIypgAO6OvD1ie+1W2PMaJjo1AGCcIBqPDYVDyohppiHo6nKULow6b/7bN//////9Kq1TRqPK6qeppnXsuN0e7//+XR/yQBVmL8BQBTFc+TPgIxCAQjCUwQfUwqDl8xAK5kbgJkWSYcFytwCaAYLg4OIUw55JMPBVKBgfM5ESgCUTQ+LytcfFW/8Zh2JFYzq2fpL2+fvlHj2uY8+MNj3V482r41tjfRWBDy1ZWxgezXjz/FP38ZDW5bw1//OExHMlCcZkAO7elMRk1v3pjH/z8/eHiw//p//9BPaMsLFZMUkU0L///0Ef9CpZKjQ6FxBvzAIrX6IAea0iy/wICUND30eNwnJSYjCJqN3maxKCiMSIo4WEzFYEJAgY5Z5hpNCxUFAcZ4fRxdJhBaHgSFAo7M2/yD8uj8jbf8pJAnakBTnKCh7qZvcwp5NfzpL/O0uW6sojFd8B4Ly66+zNO9fG3jvdBQyD1ARBkbhgF7JNaTJ2UWJomh42KRPH//OExJEwMyJkAOcavDu5gy1FxqkOg9ZfMCmmgpv1///6lrc6qtb1M1SbWX/QucZgTO/Dlrf/Hsb+TC7AatQIzczorGsdoDOjYz8oFGmjIcdGegomiQBRTKpwMOgcwKCjCYBOoldIt6QCuzFQVWEaMatDpuEtOKJCoSLLIHRVXBQ3gZ95Ivfumf1dbeG32u93cNwJ/JuL9r1Nd99YaKSjkOxl1DaKUbN71An1SlIcqp8pnLWHr6PvNaau53p56eCt//OExIMm4iZ4AN8emO9t3xSDjXj6///tfEY4YeRl/+wmpQh/+ZqmpVgjBo4IQntXmZ0YjQ+5af5mzYoS3MEBolKR4EEwFApjA6qFgWXpIB6ZLB8DiIEmKn6BioEC0wSCjC8EMwAhircQQFHkhqdHgfA/t1tbxoJ+xjEaP8I/z8SElsVTZNKUQDwgB4GVZaTSeownrU05C6hzk7myRcw6IIknoQe+UDdvGoeNqjn2vr6///3qnnqef/37Tavq5eK1//OExJomWi6AAN8WmI5KWwAmEASZBa8h1kUwpIFMpaW5yNlBqZetEDCpgECctHBBS2gWOTQQySrWMMYwyBSOUxMbZDRAOXsMQXAxw8T3l6J6zZZrn9SF28pmB88+TmvMmHZXRTp7OpgGktcPQZPPpjN/3HL2nNy7l83/rVbuCV6xXHvy5ToM7snMn9nr/N5v9lnnEHhJcz/97f+omPBsKn5P///0KqCXwwF3wmwhuBTApB6owhiQOiEzdrjxmVEg//OExLMmChqEAN7YmJDUdQAmrSasMAJumYAqonKHQseR2SNZKoQGCbXYzABgxG0tk6jwkBsHo4Cm5dlVtcByPHX8VNZveMFrgOgVHLLnzNRe0dK1o1y62yD4xoejnZ2IIqs4LhKOeJBCIQOUBgVLmz7LPT6mGM5+bTNFmjAmJGrf/TW9DyZJlYaJkFxgAyQgJZQqbsZSYA4Ko03ENn/iYFFjNzYHESmISIBeAllgLSScUmYnwsSMencLE3M6sSxK//OExM0j2cqIANbQlKOSBiZ4DJOzyUzbOc5z67gvbWta3tCn1vDBh4xOePa26ar7VtvW/tuVVc0VDThVjQyYYYKCdhBNhh0QNLyBc9KOYaNi5p2q6hql7q3tP9UjZbgTLEd5rzY9Kd0q+uXIoXZKu0t0m5mvh46m09Jsenuk45C7Il5MLVVoiELGia2BJ4ZBOK84hYMtTcgtX7Max5Gsr7+y2NSKcVU5A6MrW0hjrUORUSADCM47pjUbhnHQiR1G//OExPAu876AANvQ3K3PMa25NIzTvbppe69+b4rbO9+s1ozy2n2GT7eZpumfi0mnULfePn9Y+WNV/ceN1hz3uaFqz1u24Ier1tUP0QgFWsZjKdXn+q1wXDDenKqcG5VlH2m1txXSMLuSdtVx2IAgjYoFWiCCGQ8ShY1hniwMRO3sDccEJ6zqtOPVG4p5DlSo3SrfwHA02F4iE+wqtnThOGlSOEBOIQb49aqELPJldqA/yVqJQCeGq5wVtQKxkmUX//OExOc5ZDqIAMoe3APT362ZdHrSSeXJgNuQY5QmaaYUUhsKb9//MIebci5NmL/VK2/zrx5s5x/mWH6U9dXpj418arfeYuNxrw4esYmvS2ZoL+I9cWeN3NsliPJ84ezP0PUKVYm5hgvkQk0QRReB3FtUEyoTzYnEKL2X1QOSec2hDXxuiblUagdppqI+k6X+VMsCniPFMjG5tOsOtocjfboFl0jFWwKdUKZObUjIrjnTZbY7SjlaYiy4qlkVKrJG//OExLQv7DKUAGhe3aM5ke+Z21+8gRIAOgQr9W0/9eD/nLm12x3KS37L8aAZRM/OVfMzk79Zreaz39tazOT2zb/mbZ+TvUltvHHK0hbyZtsKdZe1ZgXJatrGKwMIur0LZ2ani9wWDoV0q8knzZ+6JQHtEIQlvjY5aLQ1mIhD8QTwrqBLBKg9hibeWj55RRpsmX86XMwFIvks3ZWeWDYQ1JkwbJth5AXLDU6V2IKImj6YlU46FWSVrdo6QF/en+yf//OExKcoJDqcABBY3NVXTV/2Wmuv//+GX+3///1////v7+9f6x9/5/1/q+Pn2vjdIuImcueM/WMazFi4+Y+IzyjVd7AkzjUzirFLOu0Q3IEb4saDPdNwF3GMs0S+qF3Z6woU9SLnHV6sb6KFdtrYmlck3SjZcwUTDZIEeEwLSsQSGO7zPTcViWjt7xcx4EWO1vYafVbEi4y7dN9md3iaO1vX7jeJCq+q7TAA4pMydP0kyjMk4glrfWiKvRbsk160//OExLkoFDqgABCe3P/0t/////9b/3Arm//x9f/7+v//nWcVprNtRoEG9f2rFfnV4sJwg2mti8F8/kevYNNVTyeYtxoscnohpOktAlZG10paNiOgstE8dqw7jNb1twysD6NKqbWYtpFwzJHVusws6zfWM7rJDiY3qC3R4sbW/pme0crs2pITM+fPrwouZswk7JeSyl8PpiHF6FDEgTkHWBzi1oNGfeorKWhUYQtwKTsFuMPUIuCRj4buTR5DhCfh//OExMsndDqoABie3FcYgzgtYJAMchmFMumZmzqXc3dLetPZf6kHOIkiUTFA0aszT///uiblW1KnE/Lv5eX2kVuIRqveN/YoYVVVVLCiYxrGCkGAszWVSy1CgIEaxgICPbwoCJLv1VZ12P/hll9VS/6UalfUpDW7HwM1SA7VuK1O8ZDsBzy+EiwR7EZNDdDA73A3JRuaPASBbRTwgHmBfIXKZMMNYIqy8kDAKkup7gqNLwPu1hURN1WAd5MAiDU0//OExOAnTBKUAMNG3J2MsWnusMhVNBDq553JRavryAv05Fk+4taMGKQ3z2DovkNhRom9JmNH1gscakTLlSqn3JRDGRdPFRGngT7vJM6kbNYz9ffieuZ6e+fuYudER44562/+mtxseRWeCYiWIxc2swHF9jj6jkj02rOEQWAohNCoiXoftRIRYQMAGqkIQZ42BgcykhCzsyN5YdGAwFObvNZWSdwC6tYqgAM1kzugUIRBpTBAINr1llMMC2KShc5K//OExPUtsiKAANaemLhZE4oqDKDUqvtUUjrBYCezwbpe/Ny5brUv/+zuf1KX9SulvXX3nYq+Kw4ASZPQizctmFSUfONlIPhOPFZBoEMdRd12xqx5kn5R3k3psTH1bX1yjBtd3/f8f//////8xHPOz6r5fUbmorWYMjiz/q2U9Ftr2HXAolWIQ+nwbK0B4KQiBgw2dqsmUmYYwGn4pNQGZgMtGRgxkOVreACngOWHncECI0DIpgLPkxzySIyRlf0j//OExPEtkxqAAN6WvOyV0RkqHEFKwU/gwmTCtOk7C167hhy5NnMRXLs3D1PWgCm3+N7WGv1MczqTt6Vv+4jnh6CKGaCKQmCVUwbDo1FRZzQhHCgSFxweNzhGJi0kESqaj1O6/5x2+rf///9c3+isy0o7moaOwSQC6BwUDXeWcJbZGepdOy1ajKpjhgOAwEEkyhvcy6GVYwVAU2IVYwpAgwbEgw+OUz+JwDBc0ccC4WCOGmmCOmDmrkwgYLRm9Az///OExO0tSyZ0AN5OvEfpE70SYrFWcP/9VlM7VqEgxY09OVX5xghoVDVcKWYYvRlCH8eOI2Y481qYi87KaB0ZiSEoJ25yKstjVc25xe5rHP63TVgHkUYdNmtMdzDTRu2c79J9TmPsaZ////+tEShrWUm43zjzet7qa7q5pc92IGPRNf7ucKzqHmzVZEncYbCJ1DBnHxCgYpgd9oIKJZcclIB2gaiREaEFB4j9NuiYeB7fuGjIDEzuqFisjlgqV+ZB//OExOos61ZcAO6OvMWGl2dWF5bYQnDAD8uW/cqlLlU1LLnNqxh16K1DMbee9NPdXqSu9cm3gnuNjRuaU7jxvtrmtZ6w53/5/P/D0okcMDARGPXTlTTR6O3u6O8g6ISHjmOd/////6rpucpx5zn09199ldOTN289X//r9r2KzDqTnsQy2hGAgIBMAi0Y6bMY7iQJAqj2aVOIAgxHADMNCmMXhhJAEbGIRCFmkkhBgZyXEQfYoJutV9rPJUpS+86///OExOkrbApcAOYO3avuTTq0AMgcWAiUGnBDsVXPC4rKn5nKV6mrTkUbu3xwaoNeI+GKVBrE4TxTLZ9cvIFkZUc08kfSOmxVPnC8LASRZMnQSLtNJBmW1R8xbra+i7pucL+hAogHQdAb2a9f+jvlUg+ohM9EKFm2BcwcT9rCdAss+gYScSpQQWCQkWT8qsCVoBjOYEORrX/mFhEPAgzChjpYvCAEzUwCHg42yNkxgUtiQFhxsqM0r68EDSio+kjz//OExO4s4fJYAO6imH0TgygkLLAcWMw+n+y2W0yxX1tRdX2PGeL2h62Mhs5bVrhjCOvBzDzGBjMtePGxcpOzmPKu94456zv9hq1ZydOvSRVv6XCpaJdmLdiXujorSgyhkmtnOcEVxYGEQhG3///bX61dKm1VLhQIDMq9ezucjDuR6qyIkIkpsOif+nZFL7Op7DBBMRWCVDiUOmPMyYDCpgIZGMgoaXfBkoVAYnmJAYbFKplsVpDFtRajhrBnLjBI//OExO0wXBZUAOZE3WVh4FxiEMdjbpr3tyhaD2y9/0OzUGHpFpzoA11qZhw29Z2775DGRTXjt5+QHhmF9b1KPmMq1fBVyGKCVnY56UibzH3rO74pp54TIzRImDPP7bTL0ABng5R//agp5BNYWlBtdvcsxUEP6tAfUGHh8ULwGlMx0BzAERjaKVAMmQwAwEOo6oHkwgFIxkEUx708FM4AADQuMHSzgdlZgiTpoQA7NRCBxhkTSjEFGCUFP1dpUAgG//OExN4nKYJsAOYelOjRaqIQJsQrDHnEJNTEQgC7xegiFKVFUsbJaZVIMExA/P6NVIjcYQ/PwKDAQsNfqATCgHMjifsBNTiy1WDYWSQKNAUiVYBaKVm0IExi6Cmhfddz6Oe7k/K5RFZTXZg12GXBjTBX9bmS5YLYEcdWXCy/YEMc4b924Q0WvOL4uCvTqUMWLi1njWq1eXyPdvMMnYKsZ6AOsncTbc6n1j3z8///H99axn5tLqDG7xy1NOeappD2//OExPRRXDpUAO6e3F/OoqUYaKHGq3PnBkVygV94CvW3jexz+BNvb++o+IdMwMQoENtzHeXjv3BnZI6sOxYTyMeLswS5nmTgv5J06OgG2arSM6pCVlLw4TFt5bXxd5WIuszk78dIhR1wJFGAGqZC/jaIUIYygIBJCa2ELiiA0Sg5RkQwAFUPZp4jALJrRMEAe6UpLvNuozXdAyD9UKunihwRjM9CIzBABhnF1paXXJequ3tDJIFqdlEay3MWvoWt//OExGE2pAJ0AN4Q3FJTumw2KOQnC1fkqjeNmms41L9a5O85bjNg4IwnBcIoXGh2I0QeywWRYf0OJQbSffsDYaQULjrHCMPBqVFFmRz////8VfQwZfceTbFiOIVBwOFSB+xa6ypQ2WzbVuLmEX3///npbXsnubezEslTUEcuBIZqHFCpl/kFm24NcPwJYO+AA1Ap9CBUCbnYLH4YKiseFS3Ew6BWDSyBIUwsYUZiK9DBAW5WHQtabL7uos1bzpgR//OExDkqE/aAANPK3IR0vJVC2AzxQXcX0FvWbXxXPt4crjLdujxNK5ggOawrGxlb92vbNa/OvvUeLIUBAYUDwFEmGlPMeYBRStpu50u5R5xUYPmav///3epG0REKYxzscbUxUoayqp1Q3T2k/96qxi5mRsqa15hGCLyNmhWhS5fsPXk8lKBHZMgVlMKBjzhtdsnMSBCYGon9BS7EogKiGZeI8LlIJBesljAagsNY70FkehNCCybFfHeRQIMBPE8Q//OExEMsI/Z4ANxQ3NGWZRZJFRqQVkzprmSbMlWkpIvF5RDhSxwqM+jr1PtESTSqePsQRo0Y6hyIgTjcczf860c6lWo0aMZKada/////j/v5n9muOVJJS7WqRonvqqS+2n/q2pmJr//4hf/GHRts8QrjlIJ6LlQe7FjlltAIhE+JyEh1D0m1zShYSDjFbA4QcDhRMoxcMj0rYwjjLoAMIE4cRwPhCm2OJkxsg3zxfbWvXW8KZ6+L6txW4tyqgsKN//OExEUmC7JsANvE3Pdl7tcPIceBrFc+B/ibfhy7VjNF+P9a//+P/+6aGHAnohlKWBAQoCmZi/SyiditMb////Lm6VLd6sm7/5mzOVWys7mNN//qyIFZSxLEusKp9QUKqiUAEEJCLRnS0JgIChUEUwelcQCGYphMVE0MES9WwlaYTBu4tZHYoBGBFvnRFKiiIFDslryitLetAj8sZgx/WMVrcmeU6t7BpdVrzna85jdk8llLzQdB25bVp4e7T5ER//OExF8qcvJUAO6UuISHmnCEGAhAMBVMJDmRGaZR39WPV5UeHJMWus0cJCMtXqxMpw/V1UakTO7f///1+as5mpMIYiCRRQatTaOYKbUo9Szdlg84pERqpowzgClk3TTjAoPQQGpA+GXYHCoxiqjuILcOlMPh6RTL0okvkOFAQGHvwkTFq8o+/YZ3Q0zVKa7Zr6ws0c6+sTv0vafKl7Zs2ojDsOW9PvCbtiK65boZceHj4bBKJQvhYJJYn0015r+o//OExGgmOvZYAOYUuOGj8kLmotnIENGg0nK9NLnHMYpMaYjW/////2a1znNciLkDLi5bYu0k5OYZ9f6K5lFShWMwSCY4YK0HCgDQMMKVuMLQCFgEAIEGr4TFgAXTMGgLhMvT9Vghl/QfljuCGT9XqOBeyVyJdQ4Q9d5ctY1rGEOQqtI+TG7HK9S1EpblqdlueNXHtXppiKw+JiQSQHRqOjAaHo5pVOciKtUpkA4RGCsMiZD2RjiM0kIxyh3zkIzV//OExIInau5UAO4UuGIZV2Rf////17WVLGScqATmruiYLC21v7Ff6UpG4DACYOiscVlWYJgcFQEMaw9EkZJAOMEhhMsw+FhBTqDg2keCssFCxHEZJMjVM9zleMCpVURTwrMVfnF5FlTK5FOUsR7eWPfMrm8eJdROdH16Q/kxEPKkBFOHTgIBIeRZr3XqqJTRoqJnqJ0cop6KsRjRYJAP3ZtVPdzlSve3/////fpXNIqDzVp1LF0AAc/SPMf/VVV///OExJclWvJQAOvOuEcAgJWJpSTAgMgIEGPkOY4CpQBTFxRAQiMIANMVglFGpW2FDhhhJgl4IEg1m581KZ8kzlTiine2jWg1WyZDHR6YTb6r1ysr9Tp1LHA8XEmfqDi+ivInESIURA6AGBBHQvhanKYtc61PaTBTFUKFCY8/YxB4Pigsi491Ppz1pOO/6/////0rupilAoeSK+xIqQbuX9v9Sl2pFGDCmd0jIKGoBBxgIDkwmUcMECcw4LSgel6n//OExLQlmvZMAOPUuFaW1IFypgk5pgMLGa0B/6vtPpYsGz6TOKtqeJGVTio0bpZhRqssLKhTzt9mDT7xX7Q6aXOHxgDwOg0gkKw9MLuitrWi0raMxsRHFyx4yOOJ1MKuPhBDASxAoMCYhaY63fRP6P/5/p///3nERoNPY7TPbHXuI+//6Wer7EKgc3MALCGiESHkUREAGAggXCQgASqfW/uIMTWunskaggTsryRpZIj2LmLZwmjXjPjqDF5OR4qx//OExNAlQvpAAOPUuFsR/E29rEkRTW8jxMatBrT0lvv3YoUq4cT8NE8lHCvP428b1vf+d8dDJEoeh2KrTDoKxqOUSOIE4EAakD3KUeo1VpR5VzG/VcoNSaWb6d9Ptv/iupvrmoWGvSaiUqq5muq+n/4+r4uI/qpr54T+/nsZd48r83qSNzIcWFEGktFabTKlEJgMF8FksFkEinX6Y4kAiEFnhSJEDgGgzsh0zOn9sTWO1xftUZiJkkTuiF4tOok6//OExO4su9YsANvQ3eOIrHM3J1Dtxc63eL5f/feb3aZoQ+kPQty3djpjG86t6fOWhNyyREgkOUUc6dZ1QW2HRJoLGUrU7RtFevmImHTWnJMdTtW79Z++7M63OdsfdrLer5rz/E5ju8sl8j23r2+TLQ1PL83e7P9z9/buzSz+eUyS0cpnQ+2zAjMaaW9gJ9oJhl5Zx9bcZXK5NBQu63KD3HZEu1r4cH4jAdABOyba0RTuQgXsZRFpsmj8hG75JMWS//OExO4tw9ocAMPM3WPPc2uYMo1K37etPediSZZqkNj5o7KRaP16KzV8enNp9625qKtEjR1bHyqNxUFIy2dLcSEoGTVFf1rZRc5E5Gndt7TlO6jFJtlP5dmlmfWqdV7ZKflRe/P5uWnxr495Wzzb2tie+lT4wvPubsPao9TlxlfyVpvw1GYKldMqHwFbnGgJ/pPruV2tfq3/dluqgLrQ0u5vicB4uiQP01Zggt3Fc2TD9ApLS4yJ142TFzPszkb0//OExOoszAoUAMMM3W9i6i3nJciXNM9q630Xwrrrmrd2ZGt7L5akdoyy3PytwupI7dEkq5LkfrFpFpkTc7a+lO+xrI6zkcusJfISqX14MTuNKu6Tlmd+fGefPL2drKAmyjUfLTlGoElOXj55RQAq7UVqEUl+SrDUepPlmvmHn5JHM3NynLqn2nons1MVK1fHPuu3v7N6g2Gonbyqmzq5odsVYtHg7o2aNk2LKNvUaIH37TaaeMFFm5QRsI2NRXto//OExOksZBYAAMsM3VGsx0XhUE22MqW1fjFTs0/eTR7IdUiqMrn3EqNNcgie7W2D6pMHg6eqncZ8nyeg1hz6MLkyMYQTclTCxkC60oy1LgUmTGPh5OZBGl6kqGHxXDDjyVa9FJuaIOpXolXVKsmVlIm+1JGJSjDpkVcxVTVAutXjpdXVK4Vi1Xq1atjKVWaOlxpKSxF787VmGlQ6SSkRIjSps4q0RkwhECruJZCXZajGCdC1FUDxWo23riqEiVL6//OExOorTCn4AMpQ3Uxn4oWkkSksYGA/VpLn3kLaJpGbSySpPRXWpmT7w627nsgaZCodUrl0zci8s7JPOUafqjkD2BVJqwwhmS9Niz6d55AorZS2FlHsV8seikf0sKS3MqXpGDnxHSjMyntzqmX3dKUWfu6Iu8ZofVHMqHJQiltLIl1St9t1/NUnEV6m6GZsYbs97UypZBGrtmWW8YEiDgSgG52F8YJbQTJgtgVIzDmjx60yHqxXKRtpUhQE4rVt//OExO8t1DH0ANJM3YVQPbDyb7YxTJ5B6zjC7lCFZmaiOkQgmsFzDBpRDvE0s7KwPBmnNqKIPjGQchmO2NBAPa8XWTMJN+acTtMIOWYSQnG+4S+oMqt0vDgqHWfhkooYek/QOMe38loK9XBrs05SzmuIjNRNYsp8K3XSSonhVz9NlDbIw42KaXg2Saoriaq65an6WnmKavS53s61Nf/KirBWZTrm1r1VGZNTLFILNGV+XaVbVZFTJuamEpfQ+/xb//OExOotTDH0ANJM3XjyGREsSIERDyZ/Q229YURfE+186FppJMMtSJeUnLjisSLPTMe9Ow+D+WYRFqRSkVhZF+e/rTq13WPXRlQecGk5rNGl4bhun3zYptEMoKmLUU47kyZvpOU9iC88gS6RzspFLlpmIpXGPk5Eay5j/0+JTu3ph+3eud/ldCFr5JBVKcdZ9+i7f1cw1UnqK7S0NnVXH5Q1uWohLDJuA8geWun7a12t+Xqos7Iod99pLiQ5q7T0//OExOcszDH0ANJM3a40xCJpYY74F8/Sm2+9F7Cl47tfoWgmwnVFqqWqn8Ke7YyNwlrchPjxRpd6Vk1RMwIbOVOV8kppiI15xiiW5abvuvls/IvDtfxL5+geObK06Kj6yf+Eo5SW5sUhutbmOfJeIlS+4jkYKNvGN8PhDao1JDcfXeU9K4mPL2eHL/L1enwnZfOTUxWrTsoYNrqpUYOMj6JS22zwMKqkwtNAfLJuHk0RYSrQIiRdiKsWbJ7oicsQ//OExOYqhDn4AMsM3IR0FNbR0h9KEdrGEl5XaUUc2+eUo7ZUiWoTpyTzrwjqJJdfIasjypElWmdzi0gYiY6OmFGoosVaZi8L331HqM/jLWYySwpPCLSig0t5bEPiyaNuluZK5Yhk4S+EYtBUe1Z6ghGMukZYqPOo0XJ37Sl86c9589+ktSkTZzuY3btNj3WFH3VqpS7qYyktANjZEhYiQSRGvE1p1ATimaN0FE0VMOJRDzFMRXUIYvQG1mD+aIzM//OExO8s5Dn0ANJM3KaI0WlG7s5OZRjzkvaIOQQCrHhyeOgKhyQI4vQe2PejVVHhjiBHsweI9FCjjShpEQqtjIaiGgbcKstYnOQ85LxrXTTBI9808kwdxK5bnmJo0nGIKydcwgqrth8W5TnWqPFckLA8lTXKqLK7gvUS36xQwfW88Gbjx6j0BNUnG38qTtrl/OUdlVTUhxlMv3jjVXnNgycWYT2S0TS0HBSRAGYIsNJHksbcuq5VzD7QK1RKg1Yn//OExO4tlCn0ANJQ3VAsjVXTuKcmxSuXi0w87aSisFZoujljjJaT4YxUIMfiibJzY/OgXz2aNOVYjDLRvStuCmY+12deUGhODcWTcuit1BAvKjnG0VHtm0D0wT00WuEk2R9VztZj28HQvTO36k4KNpobdtKt1+Zzco5W1JeHZlaRbvDcqkIpSR7KnprGM3drcprHy+Wal+69SMWiQREamCsxq0B6AgZF4iIbGgMhByNHMVphlCWhwyQ10VDtLpMF//OExOor/DH0ANJM3bk4pKCsR4UwqYVXpHiSx9tRt5lekEKyZCgjObzOMLRpFk0Etytmu1ByktNNqPpOSBXVI9/ppHlQ1PWV0505PFEiyS8EUUMkCuQSu8Y+U1XkwbiwovIXkh1BJEmjUERtXFbersPziaqyGoTczJ6hTUmPKoNanbMJvRSnKZteT24TZVLfFC7Tc8jB1ThVQZcLN4YktNORuXzVW1ST97U9XvUuTL3WshZVOHRSw/LJeRT+JpCJ//OExO0w3DnwANJS3BlpNsL0QrNLJ4Ij6k1bYExCo+KFXIkLDeR2Vas0qw9h21PLw0itEl+3nnVcLY9BI68vNIsDRcOzbzZ+a8ujtxTq9POwSo7amjjl4RaTvjwk8bJHfOU8kcrf3ycYjlXCTU2bj5zYTrcXO19JetnZdjtqtayMT2eW2p9zW5psNrPOUbhMQU1FqjHIZOXYSbVCrphrpPjAcIfqIzEvnY1EQMIHBIotBIiaYmpI1tyWeEkTjSjF//OExNwqvDn0AMJM3JEGLILCQYpNSRp15uuzxuf7NPGokjQaDkytQQJ0MjJlscj/tax0NZP/NWjkyxyaWOTK1pNYZMFqGspMFBhHQcSwUECcmsy/////zWT/zVo6GTWWkyxyYKDDICCQskJEgKKGlpCTP4xMQU1FMy4xMDCqqqqqqqqqqqqqqqqqqqqqqqqqqqqqqqqqqqqqqqqqqqqqqqqqqqqqqqqqqqqqqqqqqqqqqqqqqqqqqqqqqqqqqqqq//OExN8kw4m4AMGGvKqqqqqqqqqqqqqqqqqqqqqqqqqqqqqqqqqqqqqqqqqqqqqqqqqqqqqqqqqqqqqqqqqqqqqqqqqqqqqqqqqqqqqqqqqqqqqqqqqqqqqqqqqqqqqqqqqqqqqqqqqqqqqqqqqqqqqqqqqqqqqqqqqqqqqqqqqqqqqqqqqqqqqqqqqqqqqqqqqqqqqqqqqqqqqqqqqqqqqqqqqqqqqqqqqqqqqqqqqqqqqqqqqqqqqqqqqqqqqq\" type=\"audio/mpeg\" />\n",
       "                    Your browser does not support the audio element.\n",
       "                </audio>\n",
       "              "
      ],
      "text/plain": [
       "<IPython.lib.display.Audio object>"
      ]
     },
     "metadata": {},
     "output_type": "display_data"
    },
    {
     "name": "stdout",
     "output_type": "stream",
     "text": [
      "Grabando...\n",
      "Detenido por el usuario.\n"
     ]
    }
   ],
   "source": [
    "import torch\n",
    "import sounddevice as sd\n",
    "import numpy as np\n",
    "import librosa\n",
    "import time\n",
    "from IPython.display import Audio, display\n",
    "\n",
    "\n",
    "# Función para traducir texto\n",
    "def translate_text(text):\n",
    "    m_device = torch.device('cuda' if torch.cuda.is_available() else 'cpu')\n",
    "    translation = translate_sentence(model, text, eng_word2idx, spa_idx2word, max_len=MAX_SEQ_LEN, device=m_device)\n",
    "    return translation\n",
    "\n",
    "# Función para generar voz\n",
    "def text_to_speech(text):\n",
    "    # Aquí puedes utilizar una biblioteca de TTS\n",
    "    # Este es un ejemplo usando gTTS\n",
    "    from gtts import gTTS\n",
    "    import os\n",
    "    \n",
    "    tts = gTTS(text, lang='en')\n",
    "    tts.save(\"output.mp3\")\n",
    "    ##os.system(\"start output.mp3\")  # Cambia 'start' según tu sistema operativo\n",
    "                                     # Se comenta para que no se ejecute doble.\n",
    "\n",
    "    # Reproducir audio directamente en Jupyter\n",
    "    display(Audio(\"output.mp3\", autoplay=True))\n",
    "\n",
    "# Captura de audio en tiempo real\n",
    "##def record_audio(duration=5, fs=44100):\n",
    "def record_audio(duration=5, fs=16000):\n",
    "    print(\"Grabando...\")\n",
    "    ##audio = sd.rec(int(duration * fs), samplerate=fs, channels=1, dtype='float64')\n",
    "    audio = sd.rec(int(duration * fs), samplerate=fs, channels=1, dtype='int16')\n",
    "    sd.wait()  # Esperar a que termine la grabación\n",
    "    return audio.flatten()\n",
    "    #return audio\n",
    "\n",
    "# Procesamiento en tiempo real\n",
    "def real_time_translation():\n",
    "    while True:\n",
    "        audio_data = record_audio(duration=5)  # Graba 5 segundos de audio\n",
    "        # Supongamos que tienes una función para convertir audio a texto\n",
    "        text = audio_to_text(audio_data)  # Función ficticia que convierte audio a texto\n",
    "        print(f\"Texto detectado: {text}\")\n",
    "\n",
    "        translated_text = translate_text(text)\n",
    "        print(f\"Texto traducido: {translated_text}\")\n",
    "\n",
    "        text_to_speech(translated_text)\n",
    "        time.sleep(1)  # Esperar un segundo antes de la próxima grabación\n",
    "\n",
    "# Ejecutar\n",
    "if __name__ == '__main__':\n",
    "    # real_time_translation()\n",
    "    try:\n",
    "        real_time_translation()\n",
    "    except KeyboardInterrupt:\n",
    "        print(\"Detenido por el usuario.\")\n",
    "    except Exception as e:\n",
    "        print(f\"Ocurrió un error: {e}\")"
   ]
  },
  {
   "cell_type": "code",
   "execution_count": null,
   "id": "ed7dc94c-253a-443e-9674-4b97ab95131a",
   "metadata": {},
   "outputs": [],
   "source": []
  }
 ],
 "metadata": {
  "kernelspec": {
   "display_name": "Python 3 (ipykernel)",
   "language": "python",
   "name": "python3"
  },
  "language_info": {
   "codemirror_mode": {
    "name": "ipython",
    "version": 3
   },
   "file_extension": ".py",
   "mimetype": "text/x-python",
   "name": "python",
   "nbconvert_exporter": "python",
   "pygments_lexer": "ipython3",
   "version": "3.10.18"
  },
  "varInspector": {
   "cols": {
    "lenName": 16,
    "lenType": 16,
    "lenVar": 40
   },
   "kernels_config": {
    "python": {
     "delete_cmd_postfix": "",
     "delete_cmd_prefix": "del ",
     "library": "var_list.py",
     "varRefreshCmd": "print(var_dic_list())"
    },
    "r": {
     "delete_cmd_postfix": ") ",
     "delete_cmd_prefix": "rm(",
     "library": "var_list.r",
     "varRefreshCmd": "cat(var_dic_list()) "
    }
   },
   "types_to_exclude": [
    "module",
    "function",
    "builtin_function_or_method",
    "instance",
    "_Feature"
   ],
   "window_display": false
  }
 },
 "nbformat": 4,
 "nbformat_minor": 5
}
